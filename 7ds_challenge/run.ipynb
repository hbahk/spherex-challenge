{
 "cells": [
  {
   "cell_type": "code",
   "execution_count": 1,
   "metadata": {},
   "outputs": [],
   "source": [
    "%load_ext autoreload\n",
    "%autoreload 2"
   ]
  },
  {
   "cell_type": "code",
   "execution_count": 2,
   "metadata": {},
   "outputs": [],
   "source": [
    "import matplotlib_inline.backend_inline\n",
    "from astropy.table import Table\n",
    "from astropy.io import fits\n",
    "from pathlib import Path\n",
    "import numpy as np\n",
    "import eazy\n",
    "import pickle\n",
    "import gc\n",
    "import os\n",
    "import psutil\n",
    "import time\n",
    "\n",
    "p = psutil.Process(os.getpid())\n",
    "# p.nice(-1)\n",
    "\n",
    "matplotlib_inline.backend_inline.set_matplotlib_formats('retina')\n",
    "\n",
    "WD = Path('/data1/hbahk/spherex-photoz/spherex-challenge/7ds_challenge')\n",
    "os.chdir(WD)\n",
    "TEMPDIR = WD.parent / 'BROWN_COSMOS'\n",
    "\n",
    "RECALCULATE_TEMPFILT = False"
   ]
  },
  {
   "cell_type": "code",
   "execution_count": 3,
   "metadata": {},
   "outputs": [],
   "source": [
    "params = {}\n",
    "params['FILTERS_RES']       = \"FILTER.RES+7DTreduced.res\"\n",
    "params['TEMPLATES_FILE']    = \"BROWN_COSMOS.template\"\n",
    "params['TEMP_ERR_FILE']     = \"../template_error_cosmos2020.txt\"\n",
    "params['TEMP_ERR_A2']       = 0.0 # nullify the template error\n",
    "\n",
    "params['SYS_ERR']           = 0.01\n",
    "\n",
    "params['MW_EBV']            = 0.016577\n",
    "params['CAT_HAS_EXTCORR']   = False\n",
    "\n",
    "params['CATALOG_FILE']      = \"input/input_RIS.csv\" \n",
    "\n",
    "dir_output = WD/\"output\"/\"output_RIS\"\n",
    "\n",
    "if not dir_output.exists():\n",
    "    dir_output.mkdir(parents=True)\n",
    "params['OUTPUT_DIRECTORY']  = dir_output.as_posix()\n",
    "params['MAIN_OUTPUT_FILE']  = \"output\"\n",
    "\n",
    "params['APPLY_PRIOR']       = True\n",
    "params['PRIOR_FILE']        = \"prior_R_zmax7.dat\"\n",
    "params['PRIOR_FILTER']      = 429  # 7DT band corresponding to 6500 Angstrom\n",
    "params['PRIOR_ABZP']        = 23.9\n",
    "params['PRIOR_FLOOR']       = 0.01\n",
    "\n",
    "params['FIX_ZSPEC']         = False\n",
    "params['Z_MIN']             = 0.015\n",
    "params['Z_MAX']             = 5.8\n",
    "params['Z_STEP']            = 0.01\n",
    "params['Z_STEP_TYPE']       = 1\n",
    "\n",
    "translate_filename = 'dummy.translate'\n",
    "\n",
    "params_RIS = params.copy()"
   ]
  },
  {
   "cell_type": "code",
   "execution_count": 4,
   "metadata": {},
   "outputs": [],
   "source": [
    "params['CATALOG_FILE']      = \"input/input_WFS.csv\"\n",
    "dir_output = WD/\"output\"/\"output_WFS\"\n",
    "dir_output.mkdir(parents=True, exist_ok=True)\n",
    "params['OUTPUT_DIRECTORY']  = dir_output.as_posix()\n",
    "params_WFS = params.copy()\n",
    "\n",
    "params['CATALOG_FILE']      = \"input/input_IMS.csv\"\n",
    "dir_output = WD/\"output\"/\"output_IMS\"\n",
    "dir_output.mkdir(parents=True, exist_ok=True)\n",
    "params['OUTPUT_DIRECTORY']  = dir_output.as_posix()\n",
    "params_IMS = params.copy()"
   ]
  },
  {
   "cell_type": "code",
   "execution_count": 9,
   "metadata": {},
   "outputs": [],
   "source": [
    "def get_pit(zspec, zgrid, lnp, trdz):\n",
    "    \"\"\"\n",
    "    PIT function for evaluating the calibration of p(z), \n",
    "    as described in Tanaka (2017).\n",
    "    \"\"\"\n",
    "    zspec_grid = np.dot(zspec[:,None], np.ones_like(zgrid)[None,:])\n",
    "    zlim = zspec_grid >= zgrid\n",
    "    pit = np.dot(np.exp(lnp)*zlim, trdz)\n",
    "    \n",
    "    return pit\n",
    "\n",
    "\n",
    "def get_crps(zspec, zgrid, lnp, trdz):\n",
    "    \"\"\"\n",
    "    CRPS function for evaluating the calibration of p(z), \n",
    "    as described in Tanaka (2017).\n",
    "    \"\"\"\n",
    "    from tqdm import trange\n",
    "    crps= np.empty(len(lnp), dtype=float)\n",
    "    for i in trange(len(lnp), desc='Calculating CRPS'):\n",
    "        zzgrid = np.dot(zgrid[:,None], np.ones_like(zgrid)[None,:])\n",
    "        lnpgrid = np.dot(np.ones_like(zgrid)[:,None], lnp[i][None,:])\n",
    "        zlim = zzgrid >= zgrid\n",
    "        h = np.zeros_like(zgrid)\n",
    "        h[zgrid >= zspec[i]] = 1\n",
    "        pit = np.dot(np.exp(lnpgrid)*zlim, trdz)\n",
    "        crps[i] = np.dot((pit-h)**2, trdz)\n",
    "    \n",
    "    return crps\n",
    "\n",
    "\n",
    "def fit_and_save_result_prior(params, tempfilt, rerun=False):\n",
    "    start = time.time()\n",
    "    dir_output = Path(params['OUTPUT_DIRECTORY'])\n",
    "\n",
    "    for i in range(17):\n",
    "        outtabpath = dir_output/f'output{i:02d}.fits'\n",
    "        lnptabpath = dir_output/f'lnp{i:02d}.fits'\n",
    "        \n",
    "        if (outtabpath.exists() and lnptabpath.exists()) and (not rerun):\n",
    "            print(f'{i}th batch already exists ==============')\n",
    "        else:\n",
    "            print(f'Fitting {i}th batch =====================')\n",
    "            start_id = i * 10000\n",
    "            end_id = (i+1) * 10000\n",
    "            \n",
    "            ez = eazy.photoz.PhotoZ(param_file=None, translate_file=translate_filename,\n",
    "                                zeropoint_file=None, params=params, tempfilt=tempfilt, )\n",
    "            \n",
    "            if end_id > len(ez.idx):\n",
    "                end_id = len(ez.idx)\n",
    "\n",
    "            ez.ZML_WITH_PRIOR = True\n",
    "            ez.fit_catalog(ez.idx[start_id:end_id], n_proc=16, prior=True)\n",
    "            ez.ZML_WITH_PRIOR = True\n",
    "            ez.fit_at_zbest(prior=True, nproc=1)\n",
    "            \n",
    "            try:\n",
    "                zlimits = ez.pz_percentiles(percentiles=[2.5,16,50,84,97.5],\n",
    "                                                oversample=5)\n",
    "            except:\n",
    "                print('Couldn\\'t compute pz_percentiles')\n",
    "                zlimits = np.zeros((ez.NOBJ, 5), dtype=ez.ARRAY_DTYPE) - 1\n",
    "                \n",
    "            tab = Table()\n",
    "            tab['id'] = ez.OBJID\n",
    "            tab['z_phot'] = ez.zbest\n",
    "            tab['z_phot_chi2'] = ez.chi2_best\n",
    "            tab['z025'] = zlimits[:,0]\n",
    "            tab['z160'] = zlimits[:,1]\n",
    "            tab['z500'] = zlimits[:,2]\n",
    "            tab['z840'] = zlimits[:,3]\n",
    "            tab['z975'] = zlimits[:,4]\n",
    "            \n",
    "            pit = ez.PIT(ez.ZSPEC)\n",
    "            tab['pit'] = pit\n",
    "            \n",
    "            crps = get_crps(ez.ZSPEC[start_id:end_id], ez.zgrid, ez.lnp[start_id:end_id], ez.trdz)\n",
    "            tab['crps'] = np.empty(len(tab), dtype=float)\n",
    "            tab['crps'][start_id:end_id] = crps\n",
    "            \n",
    "            tab[start_id:end_id].write(outtabpath, overwrite=True)\n",
    "            phdu = fits.PrimaryHDU(data=ez.lnp[start_id:end_id])\n",
    "            gridhdu = fits.ImageHDU(data=ez.zgrid)\n",
    "            hdul = fits.HDUList([phdu, gridhdu])\n",
    "            hdul.writeto(lnptabpath, overwrite=True)\n",
    "            del ez, tab, phdu, gridhdu, hdul\n",
    "            gc.collect()\n",
    "    \n",
    "    incatpath = Path(params['CATALOG_FILE'])\n",
    "    base = Table.read(incatpath)\n",
    "    \n",
    "    colnames = ['z_phot', 'z_phot_chi2', 'z160', 'z840', 'id']\n",
    "    for label in colnames:\n",
    "        base[label] = np.empty(len(base), dtype=float)\n",
    "        \n",
    "    for i in range(17):\n",
    "        start_id = i*10000\n",
    "        end_id = (i+1)*10000 if i < 16 else len(base)\n",
    "        \n",
    "        outtab = Table.read(dir_output/f'output{i:02d}.fits')\n",
    "        for label in colnames:\n",
    "            base[label][start_id:end_id] = outtab[label]\n",
    "    \n",
    "    base.write(dir_output/'result.fits', overwrite=True)\n",
    "    \n",
    "    end = time.time()\n",
    "    time_taken_hms = time.strftime('%H:%M:%S', time.gmtime(end-start))\n",
    "    print(f'Finished in {time_taken_hms}')"
   ]
  },
  {
   "cell_type": "code",
   "execution_count": 6,
   "metadata": {},
   "outputs": [
    {
     "name": "stderr",
     "output_type": "stream",
     "text": [
      "<frozen importlib._bootstrap>:228: RuntimeWarning: scipy._lib.messagestream.MessageStream size changed, may indicate binary incompatibility. Expected 56 from C header, got 64 from PyObject\n"
     ]
    }
   ],
   "source": [
    "with open('tempfilt_nored_001.pickle', 'rb') as rfile:\n",
    "    tempfilt = pickle.load(rfile)"
   ]
  },
  {
   "cell_type": "code",
   "execution_count": 10,
   "metadata": {},
   "outputs": [
    {
     "name": "stdout",
     "output_type": "stream",
     "text": [
      "0th batch already exists ==============\n",
      "1th batch already exists ==============\n",
      "2th batch already exists ==============\n",
      "3th batch already exists ==============\n",
      "4th batch already exists ==============\n",
      "5th batch already exists ==============\n",
      "6th batch already exists ==============\n",
      "7th batch already exists ==============\n",
      "8th batch already exists ==============\n",
      "9th batch already exists ==============\n",
      "10th batch already exists ==============\n",
      "11th batch already exists ==============\n",
      "12th batch already exists ==============\n",
      "13th batch already exists ==============\n",
      "14th batch already exists ==============\n",
      "15th batch already exists ==============\n",
      "16th batch already exists ==============\n",
      "Finished in 00:00:03\n"
     ]
    }
   ],
   "source": [
    "fit_and_save_result_prior(params_IMS, tempfilt)"
   ]
  },
  {
   "cell_type": "code",
   "execution_count": 11,
   "metadata": {},
   "outputs": [
    {
     "name": "stdout",
     "output_type": "stream",
     "text": [
      "Fitting 0th batch =====================\n",
      "Read default param file: /data1/hbahk/envs/main/lib/python3.9/site-packages/eazy/data/zphot.param.default\n",
      "Read CATALOG_FILE: input/input_WFS.csv\n",
      "   >>> NOBJ = 166041\n",
      "F419 E419 (419): 7DT_4000_fitted\n",
      "F420 E420 (420): 7DT_4250_fitted\n",
      "F421 E421 (421): 7DT_4500_fitted\n",
      "F422 E422 (422): 7DT_4750_fitted\n",
      "F423 E423 (423): 7DT_5000_fitted\n",
      "F424 E424 (424): 7DT_5250_fitted\n",
      "F425 E425 (425): 7DT_5500_fitted\n",
      "F426 E426 (426): 7DT_5750_fitted\n",
      "F427 E427 (427): 7DT_6000_fitted\n",
      "F428 E428 (428): 7DT_6250_fitted\n",
      "F429 E429 (429): 7DT_6500_fitted\n",
      "F430 E430 (430): 7DT_6750_fitted\n",
      "F431 E431 (431): 7DT_7000_fitted\n",
      "F432 E432 (432): 7DT_7250_fitted\n",
      "F433 E433 (433): 7DT_7500_fitted\n",
      "F434 E434 (434): 7DT_7750_fitted\n",
      "F435 E435 (435): 7DT_8000_fitted\n",
      "F436 E436 (436): 7DT_8250_fitted\n",
      "F437 E437 (437): 7DT_8500_fitted\n",
      "F438 E438 (438): 7DT_8750_fitted\n",
      "Set sys_err = 0.01 (positive=True)\n",
      "Read PRIOR_FILE:  prior_R_zmax7.dat\n"
     ]
    },
    {
     "name": "stderr",
     "output_type": "stream",
     "text": [
      "191it [00:07, 25.32it/s]\n",
      "100%|██████████| 191/191 [00:28<00:00,  6.82it/s]\n"
     ]
    },
    {
     "name": "stdout",
     "output_type": "stream",
     "text": [
      "Compute best fits\n",
      "fit_best: 3.6 s (n_proc=1,  NOBJ=9890)\n",
      "Fit 33.2 s (n_proc=16, NOBJ=10000)\n",
      "fit_best: 3.5 s (n_proc=1,  NOBJ=9890)\n"
     ]
    },
    {
     "name": "stderr",
     "output_type": "stream",
     "text": [
      "Calculating CRPS: 100%|██████████| 10000/10000 [00:07<00:00, 1398.36it/s]\n"
     ]
    },
    {
     "name": "stdout",
     "output_type": "stream",
     "text": [
      "Fitting 1th batch =====================\n",
      "Read default param file: /data1/hbahk/envs/main/lib/python3.9/site-packages/eazy/data/zphot.param.default\n",
      "Read CATALOG_FILE: input/input_WFS.csv\n",
      "   >>> NOBJ = 166041\n",
      "F419 E419 (419): 7DT_4000_fitted\n",
      "F420 E420 (420): 7DT_4250_fitted\n",
      "F421 E421 (421): 7DT_4500_fitted\n",
      "F422 E422 (422): 7DT_4750_fitted\n",
      "F423 E423 (423): 7DT_5000_fitted\n",
      "F424 E424 (424): 7DT_5250_fitted\n",
      "F425 E425 (425): 7DT_5500_fitted\n",
      "F426 E426 (426): 7DT_5750_fitted\n",
      "F427 E427 (427): 7DT_6000_fitted\n",
      "F428 E428 (428): 7DT_6250_fitted\n",
      "F429 E429 (429): 7DT_6500_fitted\n",
      "F430 E430 (430): 7DT_6750_fitted\n",
      "F431 E431 (431): 7DT_7000_fitted\n",
      "F432 E432 (432): 7DT_7250_fitted\n",
      "F433 E433 (433): 7DT_7500_fitted\n",
      "F434 E434 (434): 7DT_7750_fitted\n",
      "F435 E435 (435): 7DT_8000_fitted\n",
      "F436 E436 (436): 7DT_8250_fitted\n",
      "F437 E437 (437): 7DT_8500_fitted\n",
      "F438 E438 (438): 7DT_8750_fitted\n",
      "Set sys_err = 0.01 (positive=True)\n",
      "Read PRIOR_FILE:  prior_R_zmax7.dat\n"
     ]
    },
    {
     "name": "stderr",
     "output_type": "stream",
     "text": [
      "191it [00:07, 24.85it/s]\n",
      "100%|██████████| 191/191 [00:29<00:00,  6.46it/s]\n"
     ]
    },
    {
     "name": "stdout",
     "output_type": "stream",
     "text": [
      "Compute best fits\n",
      "fit_best: 3.8 s (n_proc=1,  NOBJ=9889)\n",
      "Fit 35.1 s (n_proc=16, NOBJ=10000)\n",
      "fit_best: 3.7 s (n_proc=1,  NOBJ=9889)\n"
     ]
    },
    {
     "name": "stderr",
     "output_type": "stream",
     "text": [
      "Calculating CRPS: 100%|██████████| 10000/10000 [00:13<00:00, 734.85it/s]\n"
     ]
    },
    {
     "name": "stdout",
     "output_type": "stream",
     "text": [
      "Fitting 2th batch =====================\n",
      "Read default param file: /data1/hbahk/envs/main/lib/python3.9/site-packages/eazy/data/zphot.param.default\n",
      "Read CATALOG_FILE: input/input_WFS.csv\n",
      "   >>> NOBJ = 166041\n",
      "F419 E419 (419): 7DT_4000_fitted\n",
      "F420 E420 (420): 7DT_4250_fitted\n",
      "F421 E421 (421): 7DT_4500_fitted\n",
      "F422 E422 (422): 7DT_4750_fitted\n",
      "F423 E423 (423): 7DT_5000_fitted\n",
      "F424 E424 (424): 7DT_5250_fitted\n",
      "F425 E425 (425): 7DT_5500_fitted\n",
      "F426 E426 (426): 7DT_5750_fitted\n",
      "F427 E427 (427): 7DT_6000_fitted\n",
      "F428 E428 (428): 7DT_6250_fitted\n",
      "F429 E429 (429): 7DT_6500_fitted\n",
      "F430 E430 (430): 7DT_6750_fitted\n",
      "F431 E431 (431): 7DT_7000_fitted\n",
      "F432 E432 (432): 7DT_7250_fitted\n",
      "F433 E433 (433): 7DT_7500_fitted\n",
      "F434 E434 (434): 7DT_7750_fitted\n",
      "F435 E435 (435): 7DT_8000_fitted\n",
      "F436 E436 (436): 7DT_8250_fitted\n",
      "F437 E437 (437): 7DT_8500_fitted\n",
      "F438 E438 (438): 7DT_8750_fitted\n",
      "Set sys_err = 0.01 (positive=True)\n",
      "Read PRIOR_FILE:  prior_R_zmax7.dat\n"
     ]
    },
    {
     "name": "stderr",
     "output_type": "stream",
     "text": [
      "191it [00:07, 25.14it/s]\n",
      "100%|██████████| 191/191 [00:27<00:00,  6.86it/s]\n"
     ]
    },
    {
     "name": "stdout",
     "output_type": "stream",
     "text": [
      "Compute best fits\n",
      "fit_best: 3.7 s (n_proc=1,  NOBJ=9901)\n",
      "Fit 33.2 s (n_proc=16, NOBJ=10000)\n",
      "fit_best: 3.5 s (n_proc=1,  NOBJ=9901)\n"
     ]
    },
    {
     "name": "stderr",
     "output_type": "stream",
     "text": [
      "Calculating CRPS: 100%|██████████| 10000/10000 [00:11<00:00, 899.88it/s]\n"
     ]
    },
    {
     "name": "stdout",
     "output_type": "stream",
     "text": [
      "Fitting 3th batch =====================\n",
      "Read default param file: /data1/hbahk/envs/main/lib/python3.9/site-packages/eazy/data/zphot.param.default\n",
      "Read CATALOG_FILE: input/input_WFS.csv\n",
      "   >>> NOBJ = 166041\n",
      "F419 E419 (419): 7DT_4000_fitted\n",
      "F420 E420 (420): 7DT_4250_fitted\n",
      "F421 E421 (421): 7DT_4500_fitted\n",
      "F422 E422 (422): 7DT_4750_fitted\n",
      "F423 E423 (423): 7DT_5000_fitted\n",
      "F424 E424 (424): 7DT_5250_fitted\n",
      "F425 E425 (425): 7DT_5500_fitted\n",
      "F426 E426 (426): 7DT_5750_fitted\n",
      "F427 E427 (427): 7DT_6000_fitted\n",
      "F428 E428 (428): 7DT_6250_fitted\n",
      "F429 E429 (429): 7DT_6500_fitted\n",
      "F430 E430 (430): 7DT_6750_fitted\n",
      "F431 E431 (431): 7DT_7000_fitted\n",
      "F432 E432 (432): 7DT_7250_fitted\n",
      "F433 E433 (433): 7DT_7500_fitted\n",
      "F434 E434 (434): 7DT_7750_fitted\n",
      "F435 E435 (435): 7DT_8000_fitted\n",
      "F436 E436 (436): 7DT_8250_fitted\n",
      "F437 E437 (437): 7DT_8500_fitted\n",
      "F438 E438 (438): 7DT_8750_fitted\n",
      "Set sys_err = 0.01 (positive=True)\n",
      "Read PRIOR_FILE:  prior_R_zmax7.dat\n"
     ]
    },
    {
     "name": "stderr",
     "output_type": "stream",
     "text": [
      "191it [00:07, 24.49it/s]\n",
      "100%|██████████| 191/191 [00:28<00:00,  6.72it/s]\n"
     ]
    },
    {
     "name": "stdout",
     "output_type": "stream",
     "text": [
      "Compute best fits\n",
      "fit_best: 3.6 s (n_proc=1,  NOBJ=9919)\n",
      "Fit 33.7 s (n_proc=16, NOBJ=10000)\n",
      "fit_best: 3.5 s (n_proc=1,  NOBJ=9919)\n"
     ]
    },
    {
     "name": "stderr",
     "output_type": "stream",
     "text": [
      "Calculating CRPS: 100%|██████████| 10000/10000 [00:11<00:00, 843.55it/s]\n"
     ]
    },
    {
     "name": "stdout",
     "output_type": "stream",
     "text": [
      "Fitting 4th batch =====================\n",
      "Read default param file: /data1/hbahk/envs/main/lib/python3.9/site-packages/eazy/data/zphot.param.default\n",
      "Read CATALOG_FILE: input/input_WFS.csv\n",
      "   >>> NOBJ = 166041\n",
      "F419 E419 (419): 7DT_4000_fitted\n",
      "F420 E420 (420): 7DT_4250_fitted\n",
      "F421 E421 (421): 7DT_4500_fitted\n",
      "F422 E422 (422): 7DT_4750_fitted\n",
      "F423 E423 (423): 7DT_5000_fitted\n",
      "F424 E424 (424): 7DT_5250_fitted\n",
      "F425 E425 (425): 7DT_5500_fitted\n",
      "F426 E426 (426): 7DT_5750_fitted\n",
      "F427 E427 (427): 7DT_6000_fitted\n",
      "F428 E428 (428): 7DT_6250_fitted\n",
      "F429 E429 (429): 7DT_6500_fitted\n",
      "F430 E430 (430): 7DT_6750_fitted\n",
      "F431 E431 (431): 7DT_7000_fitted\n",
      "F432 E432 (432): 7DT_7250_fitted\n",
      "F433 E433 (433): 7DT_7500_fitted\n",
      "F434 E434 (434): 7DT_7750_fitted\n",
      "F435 E435 (435): 7DT_8000_fitted\n",
      "F436 E436 (436): 7DT_8250_fitted\n",
      "F437 E437 (437): 7DT_8500_fitted\n",
      "F438 E438 (438): 7DT_8750_fitted\n",
      "Set sys_err = 0.01 (positive=True)\n",
      "Read PRIOR_FILE:  prior_R_zmax7.dat\n"
     ]
    },
    {
     "name": "stderr",
     "output_type": "stream",
     "text": [
      "191it [00:08, 23.76it/s]\n",
      "100%|██████████| 191/191 [00:28<00:00,  6.64it/s]\n"
     ]
    },
    {
     "name": "stdout",
     "output_type": "stream",
     "text": [
      "Compute best fits\n",
      "fit_best: 3.6 s (n_proc=1,  NOBJ=9909)\n",
      "Fit 34.2 s (n_proc=16, NOBJ=10000)\n",
      "fit_best: 3.6 s (n_proc=1,  NOBJ=9909)\n"
     ]
    },
    {
     "name": "stderr",
     "output_type": "stream",
     "text": [
      "Calculating CRPS: 100%|██████████| 10000/10000 [00:13<00:00, 730.10it/s]\n"
     ]
    },
    {
     "name": "stdout",
     "output_type": "stream",
     "text": [
      "Fitting 5th batch =====================\n",
      "Read default param file: /data1/hbahk/envs/main/lib/python3.9/site-packages/eazy/data/zphot.param.default\n",
      "Read CATALOG_FILE: input/input_WFS.csv\n",
      "   >>> NOBJ = 166041\n",
      "F419 E419 (419): 7DT_4000_fitted\n",
      "F420 E420 (420): 7DT_4250_fitted\n",
      "F421 E421 (421): 7DT_4500_fitted\n",
      "F422 E422 (422): 7DT_4750_fitted\n",
      "F423 E423 (423): 7DT_5000_fitted\n",
      "F424 E424 (424): 7DT_5250_fitted\n",
      "F425 E425 (425): 7DT_5500_fitted\n",
      "F426 E426 (426): 7DT_5750_fitted\n",
      "F427 E427 (427): 7DT_6000_fitted\n",
      "F428 E428 (428): 7DT_6250_fitted\n",
      "F429 E429 (429): 7DT_6500_fitted\n",
      "F430 E430 (430): 7DT_6750_fitted\n",
      "F431 E431 (431): 7DT_7000_fitted\n",
      "F432 E432 (432): 7DT_7250_fitted\n",
      "F433 E433 (433): 7DT_7500_fitted\n",
      "F434 E434 (434): 7DT_7750_fitted\n",
      "F435 E435 (435): 7DT_8000_fitted\n",
      "F436 E436 (436): 7DT_8250_fitted\n",
      "F437 E437 (437): 7DT_8500_fitted\n",
      "F438 E438 (438): 7DT_8750_fitted\n",
      "Set sys_err = 0.01 (positive=True)\n",
      "Read PRIOR_FILE:  prior_R_zmax7.dat\n"
     ]
    },
    {
     "name": "stderr",
     "output_type": "stream",
     "text": [
      "191it [00:07, 24.62it/s]\n",
      "100%|██████████| 191/191 [00:27<00:00,  6.93it/s]\n"
     ]
    },
    {
     "name": "stdout",
     "output_type": "stream",
     "text": [
      "Compute best fits\n",
      "fit_best: 3.6 s (n_proc=1,  NOBJ=9884)\n",
      "Fit 32.8 s (n_proc=16, NOBJ=10000)\n",
      "fit_best: 3.7 s (n_proc=1,  NOBJ=9884)\n"
     ]
    },
    {
     "name": "stderr",
     "output_type": "stream",
     "text": [
      "Calculating CRPS: 100%|██████████| 10000/10000 [00:06<00:00, 1486.10it/s]\n"
     ]
    },
    {
     "name": "stdout",
     "output_type": "stream",
     "text": [
      "Fitting 6th batch =====================\n",
      "Read default param file: /data1/hbahk/envs/main/lib/python3.9/site-packages/eazy/data/zphot.param.default\n",
      "Read CATALOG_FILE: input/input_WFS.csv\n",
      "   >>> NOBJ = 166041\n",
      "F419 E419 (419): 7DT_4000_fitted\n",
      "F420 E420 (420): 7DT_4250_fitted\n",
      "F421 E421 (421): 7DT_4500_fitted\n",
      "F422 E422 (422): 7DT_4750_fitted\n",
      "F423 E423 (423): 7DT_5000_fitted\n",
      "F424 E424 (424): 7DT_5250_fitted\n",
      "F425 E425 (425): 7DT_5500_fitted\n",
      "F426 E426 (426): 7DT_5750_fitted\n",
      "F427 E427 (427): 7DT_6000_fitted\n",
      "F428 E428 (428): 7DT_6250_fitted\n",
      "F429 E429 (429): 7DT_6500_fitted\n",
      "F430 E430 (430): 7DT_6750_fitted\n",
      "F431 E431 (431): 7DT_7000_fitted\n",
      "F432 E432 (432): 7DT_7250_fitted\n",
      "F433 E433 (433): 7DT_7500_fitted\n",
      "F434 E434 (434): 7DT_7750_fitted\n",
      "F435 E435 (435): 7DT_8000_fitted\n",
      "F436 E436 (436): 7DT_8250_fitted\n",
      "F437 E437 (437): 7DT_8500_fitted\n",
      "F438 E438 (438): 7DT_8750_fitted\n",
      "Set sys_err = 0.01 (positive=True)\n",
      "Read PRIOR_FILE:  prior_R_zmax7.dat\n"
     ]
    },
    {
     "name": "stderr",
     "output_type": "stream",
     "text": [
      "191it [00:07, 24.30it/s]\n",
      "100%|██████████| 191/191 [00:28<00:00,  6.80it/s]\n"
     ]
    },
    {
     "name": "stdout",
     "output_type": "stream",
     "text": [
      "Compute best fits\n",
      "fit_best: 3.7 s (n_proc=1,  NOBJ=9902)\n",
      "Fit 33.6 s (n_proc=16, NOBJ=10000)\n",
      "fit_best: 3.8 s (n_proc=1,  NOBJ=9902)\n"
     ]
    },
    {
     "name": "stderr",
     "output_type": "stream",
     "text": [
      "Calculating CRPS: 100%|██████████| 10000/10000 [00:08<00:00, 1169.34it/s]\n"
     ]
    },
    {
     "name": "stdout",
     "output_type": "stream",
     "text": [
      "Fitting 7th batch =====================\n",
      "Read default param file: /data1/hbahk/envs/main/lib/python3.9/site-packages/eazy/data/zphot.param.default\n",
      "Read CATALOG_FILE: input/input_WFS.csv\n",
      "   >>> NOBJ = 166041\n",
      "F419 E419 (419): 7DT_4000_fitted\n",
      "F420 E420 (420): 7DT_4250_fitted\n",
      "F421 E421 (421): 7DT_4500_fitted\n",
      "F422 E422 (422): 7DT_4750_fitted\n",
      "F423 E423 (423): 7DT_5000_fitted\n",
      "F424 E424 (424): 7DT_5250_fitted\n",
      "F425 E425 (425): 7DT_5500_fitted\n",
      "F426 E426 (426): 7DT_5750_fitted\n",
      "F427 E427 (427): 7DT_6000_fitted\n",
      "F428 E428 (428): 7DT_6250_fitted\n",
      "F429 E429 (429): 7DT_6500_fitted\n",
      "F430 E430 (430): 7DT_6750_fitted\n",
      "F431 E431 (431): 7DT_7000_fitted\n",
      "F432 E432 (432): 7DT_7250_fitted\n",
      "F433 E433 (433): 7DT_7500_fitted\n",
      "F434 E434 (434): 7DT_7750_fitted\n",
      "F435 E435 (435): 7DT_8000_fitted\n",
      "F436 E436 (436): 7DT_8250_fitted\n",
      "F437 E437 (437): 7DT_8500_fitted\n",
      "F438 E438 (438): 7DT_8750_fitted\n",
      "Set sys_err = 0.01 (positive=True)\n",
      "Read PRIOR_FILE:  prior_R_zmax7.dat\n"
     ]
    },
    {
     "name": "stderr",
     "output_type": "stream",
     "text": [
      "191it [00:07, 25.34it/s]\n",
      "100%|██████████| 191/191 [00:28<00:00,  6.80it/s]\n"
     ]
    },
    {
     "name": "stdout",
     "output_type": "stream",
     "text": [
      "Compute best fits\n",
      "fit_best: 3.8 s (n_proc=1,  NOBJ=9912)\n",
      "Fit 33.6 s (n_proc=16, NOBJ=10000)\n",
      "fit_best: 3.7 s (n_proc=1,  NOBJ=9912)\n"
     ]
    },
    {
     "name": "stderr",
     "output_type": "stream",
     "text": [
      "Calculating CRPS: 100%|██████████| 10000/10000 [00:13<00:00, 750.22it/s]\n"
     ]
    },
    {
     "name": "stdout",
     "output_type": "stream",
     "text": [
      "Fitting 8th batch =====================\n",
      "Read default param file: /data1/hbahk/envs/main/lib/python3.9/site-packages/eazy/data/zphot.param.default\n",
      "Read CATALOG_FILE: input/input_WFS.csv\n",
      "   >>> NOBJ = 166041\n",
      "F419 E419 (419): 7DT_4000_fitted\n",
      "F420 E420 (420): 7DT_4250_fitted\n",
      "F421 E421 (421): 7DT_4500_fitted\n",
      "F422 E422 (422): 7DT_4750_fitted\n",
      "F423 E423 (423): 7DT_5000_fitted\n",
      "F424 E424 (424): 7DT_5250_fitted\n",
      "F425 E425 (425): 7DT_5500_fitted\n",
      "F426 E426 (426): 7DT_5750_fitted\n",
      "F427 E427 (427): 7DT_6000_fitted\n",
      "F428 E428 (428): 7DT_6250_fitted\n",
      "F429 E429 (429): 7DT_6500_fitted\n",
      "F430 E430 (430): 7DT_6750_fitted\n",
      "F431 E431 (431): 7DT_7000_fitted\n",
      "F432 E432 (432): 7DT_7250_fitted\n",
      "F433 E433 (433): 7DT_7500_fitted\n",
      "F434 E434 (434): 7DT_7750_fitted\n",
      "F435 E435 (435): 7DT_8000_fitted\n",
      "F436 E436 (436): 7DT_8250_fitted\n",
      "F437 E437 (437): 7DT_8500_fitted\n",
      "F438 E438 (438): 7DT_8750_fitted\n",
      "Set sys_err = 0.01 (positive=True)\n",
      "Read PRIOR_FILE:  prior_R_zmax7.dat\n"
     ]
    },
    {
     "name": "stderr",
     "output_type": "stream",
     "text": [
      "191it [00:07, 25.30it/s]\n",
      "100%|██████████| 191/191 [00:27<00:00,  7.02it/s]\n"
     ]
    },
    {
     "name": "stdout",
     "output_type": "stream",
     "text": [
      "Compute best fits\n",
      "fit_best: 3.6 s (n_proc=1,  NOBJ=9889)\n",
      "Fit 32.6 s (n_proc=16, NOBJ=10000)\n",
      "fit_best: 3.6 s (n_proc=1,  NOBJ=9889)\n"
     ]
    },
    {
     "name": "stderr",
     "output_type": "stream",
     "text": [
      "Calculating CRPS: 100%|██████████| 10000/10000 [00:09<00:00, 1076.23it/s]\n"
     ]
    },
    {
     "name": "stdout",
     "output_type": "stream",
     "text": [
      "Fitting 9th batch =====================\n",
      "Read default param file: /data1/hbahk/envs/main/lib/python3.9/site-packages/eazy/data/zphot.param.default\n",
      "Read CATALOG_FILE: input/input_WFS.csv\n",
      "   >>> NOBJ = 166041\n",
      "F419 E419 (419): 7DT_4000_fitted\n",
      "F420 E420 (420): 7DT_4250_fitted\n",
      "F421 E421 (421): 7DT_4500_fitted\n",
      "F422 E422 (422): 7DT_4750_fitted\n",
      "F423 E423 (423): 7DT_5000_fitted\n",
      "F424 E424 (424): 7DT_5250_fitted\n",
      "F425 E425 (425): 7DT_5500_fitted\n",
      "F426 E426 (426): 7DT_5750_fitted\n",
      "F427 E427 (427): 7DT_6000_fitted\n",
      "F428 E428 (428): 7DT_6250_fitted\n",
      "F429 E429 (429): 7DT_6500_fitted\n",
      "F430 E430 (430): 7DT_6750_fitted\n",
      "F431 E431 (431): 7DT_7000_fitted\n",
      "F432 E432 (432): 7DT_7250_fitted\n",
      "F433 E433 (433): 7DT_7500_fitted\n",
      "F434 E434 (434): 7DT_7750_fitted\n",
      "F435 E435 (435): 7DT_8000_fitted\n",
      "F436 E436 (436): 7DT_8250_fitted\n",
      "F437 E437 (437): 7DT_8500_fitted\n",
      "F438 E438 (438): 7DT_8750_fitted\n",
      "Set sys_err = 0.01 (positive=True)\n",
      "Read PRIOR_FILE:  prior_R_zmax7.dat\n"
     ]
    },
    {
     "name": "stderr",
     "output_type": "stream",
     "text": [
      "191it [00:07, 24.59it/s]\n",
      "100%|██████████| 191/191 [00:27<00:00,  6.87it/s]\n"
     ]
    },
    {
     "name": "stdout",
     "output_type": "stream",
     "text": [
      "Compute best fits\n",
      "fit_best: 3.7 s (n_proc=1,  NOBJ=9914)\n",
      "Fit 33.2 s (n_proc=16, NOBJ=10000)\n",
      "fit_best: 3.6 s (n_proc=1,  NOBJ=9914)\n"
     ]
    },
    {
     "name": "stderr",
     "output_type": "stream",
     "text": [
      "Calculating CRPS: 100%|██████████| 10000/10000 [00:10<00:00, 946.76it/s]\n"
     ]
    },
    {
     "name": "stdout",
     "output_type": "stream",
     "text": [
      "Fitting 10th batch =====================\n",
      "Read default param file: /data1/hbahk/envs/main/lib/python3.9/site-packages/eazy/data/zphot.param.default\n",
      "Read CATALOG_FILE: input/input_WFS.csv\n",
      "   >>> NOBJ = 166041\n",
      "F419 E419 (419): 7DT_4000_fitted\n",
      "F420 E420 (420): 7DT_4250_fitted\n",
      "F421 E421 (421): 7DT_4500_fitted\n",
      "F422 E422 (422): 7DT_4750_fitted\n",
      "F423 E423 (423): 7DT_5000_fitted\n",
      "F424 E424 (424): 7DT_5250_fitted\n",
      "F425 E425 (425): 7DT_5500_fitted\n",
      "F426 E426 (426): 7DT_5750_fitted\n",
      "F427 E427 (427): 7DT_6000_fitted\n",
      "F428 E428 (428): 7DT_6250_fitted\n",
      "F429 E429 (429): 7DT_6500_fitted\n",
      "F430 E430 (430): 7DT_6750_fitted\n",
      "F431 E431 (431): 7DT_7000_fitted\n",
      "F432 E432 (432): 7DT_7250_fitted\n",
      "F433 E433 (433): 7DT_7500_fitted\n",
      "F434 E434 (434): 7DT_7750_fitted\n",
      "F435 E435 (435): 7DT_8000_fitted\n",
      "F436 E436 (436): 7DT_8250_fitted\n",
      "F437 E437 (437): 7DT_8500_fitted\n",
      "F438 E438 (438): 7DT_8750_fitted\n",
      "Set sys_err = 0.01 (positive=True)\n",
      "Read PRIOR_FILE:  prior_R_zmax7.dat\n"
     ]
    },
    {
     "name": "stderr",
     "output_type": "stream",
     "text": [
      "191it [00:07, 24.82it/s]\n",
      "100%|██████████| 191/191 [00:27<00:00,  6.95it/s]\n"
     ]
    },
    {
     "name": "stdout",
     "output_type": "stream",
     "text": [
      "Compute best fits\n",
      "fit_best: 3.5 s (n_proc=1,  NOBJ=9896)\n",
      "Fit 32.8 s (n_proc=16, NOBJ=10000)\n",
      "fit_best: 3.7 s (n_proc=1,  NOBJ=9896)\n"
     ]
    },
    {
     "name": "stderr",
     "output_type": "stream",
     "text": [
      "Calculating CRPS: 100%|██████████| 10000/10000 [00:14<00:00, 683.59it/s]\n"
     ]
    },
    {
     "name": "stdout",
     "output_type": "stream",
     "text": [
      "Fitting 11th batch =====================\n",
      "Read default param file: /data1/hbahk/envs/main/lib/python3.9/site-packages/eazy/data/zphot.param.default\n",
      "Read CATALOG_FILE: input/input_WFS.csv\n",
      "   >>> NOBJ = 166041\n",
      "F419 E419 (419): 7DT_4000_fitted\n",
      "F420 E420 (420): 7DT_4250_fitted\n",
      "F421 E421 (421): 7DT_4500_fitted\n",
      "F422 E422 (422): 7DT_4750_fitted\n",
      "F423 E423 (423): 7DT_5000_fitted\n",
      "F424 E424 (424): 7DT_5250_fitted\n",
      "F425 E425 (425): 7DT_5500_fitted\n",
      "F426 E426 (426): 7DT_5750_fitted\n",
      "F427 E427 (427): 7DT_6000_fitted\n",
      "F428 E428 (428): 7DT_6250_fitted\n",
      "F429 E429 (429): 7DT_6500_fitted\n",
      "F430 E430 (430): 7DT_6750_fitted\n",
      "F431 E431 (431): 7DT_7000_fitted\n",
      "F432 E432 (432): 7DT_7250_fitted\n",
      "F433 E433 (433): 7DT_7500_fitted\n",
      "F434 E434 (434): 7DT_7750_fitted\n",
      "F435 E435 (435): 7DT_8000_fitted\n",
      "F436 E436 (436): 7DT_8250_fitted\n",
      "F437 E437 (437): 7DT_8500_fitted\n",
      "F438 E438 (438): 7DT_8750_fitted\n",
      "Set sys_err = 0.01 (positive=True)\n",
      "Read PRIOR_FILE:  prior_R_zmax7.dat\n"
     ]
    },
    {
     "name": "stderr",
     "output_type": "stream",
     "text": [
      "191it [00:07, 24.82it/s]\n",
      "100%|██████████| 191/191 [00:28<00:00,  6.81it/s]\n"
     ]
    },
    {
     "name": "stdout",
     "output_type": "stream",
     "text": [
      "Compute best fits\n",
      "fit_best: 3.6 s (n_proc=1,  NOBJ=9915)\n",
      "Fit 33.2 s (n_proc=16, NOBJ=10000)\n",
      "fit_best: 3.6 s (n_proc=1,  NOBJ=9915)\n"
     ]
    },
    {
     "name": "stderr",
     "output_type": "stream",
     "text": [
      "Calculating CRPS: 100%|██████████| 10000/10000 [00:06<00:00, 1640.89it/s]\n"
     ]
    },
    {
     "name": "stdout",
     "output_type": "stream",
     "text": [
      "Fitting 12th batch =====================\n",
      "Read default param file: /data1/hbahk/envs/main/lib/python3.9/site-packages/eazy/data/zphot.param.default\n",
      "Read CATALOG_FILE: input/input_WFS.csv\n",
      "   >>> NOBJ = 166041\n",
      "F419 E419 (419): 7DT_4000_fitted\n",
      "F420 E420 (420): 7DT_4250_fitted\n",
      "F421 E421 (421): 7DT_4500_fitted\n",
      "F422 E422 (422): 7DT_4750_fitted\n",
      "F423 E423 (423): 7DT_5000_fitted\n",
      "F424 E424 (424): 7DT_5250_fitted\n",
      "F425 E425 (425): 7DT_5500_fitted\n",
      "F426 E426 (426): 7DT_5750_fitted\n",
      "F427 E427 (427): 7DT_6000_fitted\n",
      "F428 E428 (428): 7DT_6250_fitted\n",
      "F429 E429 (429): 7DT_6500_fitted\n",
      "F430 E430 (430): 7DT_6750_fitted\n",
      "F431 E431 (431): 7DT_7000_fitted\n",
      "F432 E432 (432): 7DT_7250_fitted\n",
      "F433 E433 (433): 7DT_7500_fitted\n",
      "F434 E434 (434): 7DT_7750_fitted\n",
      "F435 E435 (435): 7DT_8000_fitted\n",
      "F436 E436 (436): 7DT_8250_fitted\n",
      "F437 E437 (437): 7DT_8500_fitted\n",
      "F438 E438 (438): 7DT_8750_fitted\n",
      "Set sys_err = 0.01 (positive=True)\n",
      "Read PRIOR_FILE:  prior_R_zmax7.dat\n"
     ]
    },
    {
     "name": "stderr",
     "output_type": "stream",
     "text": [
      "191it [00:07, 25.20it/s]\n",
      "100%|██████████| 191/191 [00:27<00:00,  6.94it/s]\n"
     ]
    },
    {
     "name": "stdout",
     "output_type": "stream",
     "text": [
      "Compute best fits\n",
      "fit_best: 3.6 s (n_proc=1,  NOBJ=9902)\n",
      "Fit 32.8 s (n_proc=16, NOBJ=10000)\n",
      "fit_best: 3.6 s (n_proc=1,  NOBJ=9902)\n"
     ]
    },
    {
     "name": "stderr",
     "output_type": "stream",
     "text": [
      "Calculating CRPS: 100%|██████████| 10000/10000 [00:10<00:00, 983.19it/s]\n"
     ]
    },
    {
     "name": "stdout",
     "output_type": "stream",
     "text": [
      "Fitting 13th batch =====================\n",
      "Read default param file: /data1/hbahk/envs/main/lib/python3.9/site-packages/eazy/data/zphot.param.default\n",
      "Read CATALOG_FILE: input/input_WFS.csv\n",
      "   >>> NOBJ = 166041\n",
      "F419 E419 (419): 7DT_4000_fitted\n",
      "F420 E420 (420): 7DT_4250_fitted\n",
      "F421 E421 (421): 7DT_4500_fitted\n",
      "F422 E422 (422): 7DT_4750_fitted\n",
      "F423 E423 (423): 7DT_5000_fitted\n",
      "F424 E424 (424): 7DT_5250_fitted\n",
      "F425 E425 (425): 7DT_5500_fitted\n",
      "F426 E426 (426): 7DT_5750_fitted\n",
      "F427 E427 (427): 7DT_6000_fitted\n",
      "F428 E428 (428): 7DT_6250_fitted\n",
      "F429 E429 (429): 7DT_6500_fitted\n",
      "F430 E430 (430): 7DT_6750_fitted\n",
      "F431 E431 (431): 7DT_7000_fitted\n",
      "F432 E432 (432): 7DT_7250_fitted\n",
      "F433 E433 (433): 7DT_7500_fitted\n",
      "F434 E434 (434): 7DT_7750_fitted\n",
      "F435 E435 (435): 7DT_8000_fitted\n",
      "F436 E436 (436): 7DT_8250_fitted\n",
      "F437 E437 (437): 7DT_8500_fitted\n",
      "F438 E438 (438): 7DT_8750_fitted\n",
      "Set sys_err = 0.01 (positive=True)\n",
      "Read PRIOR_FILE:  prior_R_zmax7.dat\n"
     ]
    },
    {
     "name": "stderr",
     "output_type": "stream",
     "text": [
      "191it [00:07, 24.38it/s]\n",
      "100%|██████████| 191/191 [00:28<00:00,  6.70it/s]\n"
     ]
    },
    {
     "name": "stdout",
     "output_type": "stream",
     "text": [
      "Compute best fits\n",
      "fit_best: 3.6 s (n_proc=1,  NOBJ=9889)\n",
      "Fit 33.9 s (n_proc=16, NOBJ=10000)\n",
      "fit_best: 4.3 s (n_proc=1,  NOBJ=9889)\n"
     ]
    },
    {
     "name": "stderr",
     "output_type": "stream",
     "text": [
      "Calculating CRPS: 100%|██████████| 10000/10000 [00:13<00:00, 759.44it/s]\n"
     ]
    },
    {
     "name": "stdout",
     "output_type": "stream",
     "text": [
      "Fitting 14th batch =====================\n",
      "Read default param file: /data1/hbahk/envs/main/lib/python3.9/site-packages/eazy/data/zphot.param.default\n",
      "Read CATALOG_FILE: input/input_WFS.csv\n",
      "   >>> NOBJ = 166041\n",
      "F419 E419 (419): 7DT_4000_fitted\n",
      "F420 E420 (420): 7DT_4250_fitted\n",
      "F421 E421 (421): 7DT_4500_fitted\n",
      "F422 E422 (422): 7DT_4750_fitted\n",
      "F423 E423 (423): 7DT_5000_fitted\n",
      "F424 E424 (424): 7DT_5250_fitted\n",
      "F425 E425 (425): 7DT_5500_fitted\n",
      "F426 E426 (426): 7DT_5750_fitted\n",
      "F427 E427 (427): 7DT_6000_fitted\n",
      "F428 E428 (428): 7DT_6250_fitted\n",
      "F429 E429 (429): 7DT_6500_fitted\n",
      "F430 E430 (430): 7DT_6750_fitted\n",
      "F431 E431 (431): 7DT_7000_fitted\n",
      "F432 E432 (432): 7DT_7250_fitted\n",
      "F433 E433 (433): 7DT_7500_fitted\n",
      "F434 E434 (434): 7DT_7750_fitted\n",
      "F435 E435 (435): 7DT_8000_fitted\n",
      "F436 E436 (436): 7DT_8250_fitted\n",
      "F437 E437 (437): 7DT_8500_fitted\n",
      "F438 E438 (438): 7DT_8750_fitted\n",
      "Set sys_err = 0.01 (positive=True)\n",
      "Read PRIOR_FILE:  prior_R_zmax7.dat\n"
     ]
    },
    {
     "name": "stderr",
     "output_type": "stream",
     "text": [
      "191it [00:08, 21.25it/s]\n",
      "100%|██████████| 191/191 [00:27<00:00,  6.83it/s]\n"
     ]
    },
    {
     "name": "stdout",
     "output_type": "stream",
     "text": [
      "Compute best fits\n",
      "fit_best: 3.6 s (n_proc=1,  NOBJ=9892)\n",
      "Fit 33.3 s (n_proc=16, NOBJ=10000)\n",
      "fit_best: 3.6 s (n_proc=1,  NOBJ=9892)\n"
     ]
    },
    {
     "name": "stderr",
     "output_type": "stream",
     "text": [
      "Calculating CRPS: 100%|██████████| 10000/10000 [00:07<00:00, 1362.82it/s]\n"
     ]
    },
    {
     "name": "stdout",
     "output_type": "stream",
     "text": [
      "Fitting 15th batch =====================\n",
      "Read default param file: /data1/hbahk/envs/main/lib/python3.9/site-packages/eazy/data/zphot.param.default\n",
      "Read CATALOG_FILE: input/input_WFS.csv\n",
      "   >>> NOBJ = 166041\n",
      "F419 E419 (419): 7DT_4000_fitted\n",
      "F420 E420 (420): 7DT_4250_fitted\n",
      "F421 E421 (421): 7DT_4500_fitted\n",
      "F422 E422 (422): 7DT_4750_fitted\n",
      "F423 E423 (423): 7DT_5000_fitted\n",
      "F424 E424 (424): 7DT_5250_fitted\n",
      "F425 E425 (425): 7DT_5500_fitted\n",
      "F426 E426 (426): 7DT_5750_fitted\n",
      "F427 E427 (427): 7DT_6000_fitted\n",
      "F428 E428 (428): 7DT_6250_fitted\n",
      "F429 E429 (429): 7DT_6500_fitted\n",
      "F430 E430 (430): 7DT_6750_fitted\n",
      "F431 E431 (431): 7DT_7000_fitted\n",
      "F432 E432 (432): 7DT_7250_fitted\n",
      "F433 E433 (433): 7DT_7500_fitted\n",
      "F434 E434 (434): 7DT_7750_fitted\n",
      "F435 E435 (435): 7DT_8000_fitted\n",
      "F436 E436 (436): 7DT_8250_fitted\n",
      "F437 E437 (437): 7DT_8500_fitted\n",
      "F438 E438 (438): 7DT_8750_fitted\n",
      "Set sys_err = 0.01 (positive=True)\n",
      "Read PRIOR_FILE:  prior_R_zmax7.dat\n"
     ]
    },
    {
     "name": "stderr",
     "output_type": "stream",
     "text": [
      "191it [00:07, 24.31it/s]\n",
      "100%|██████████| 191/191 [00:28<00:00,  6.81it/s]\n"
     ]
    },
    {
     "name": "stdout",
     "output_type": "stream",
     "text": [
      "Compute best fits\n",
      "fit_best: 3.6 s (n_proc=1,  NOBJ=9896)\n",
      "Fit 33.3 s (n_proc=16, NOBJ=10000)\n",
      "fit_best: 3.6 s (n_proc=1,  NOBJ=9896)\n"
     ]
    },
    {
     "name": "stderr",
     "output_type": "stream",
     "text": [
      "Calculating CRPS: 100%|██████████| 10000/10000 [00:08<00:00, 1204.69it/s]\n"
     ]
    },
    {
     "name": "stdout",
     "output_type": "stream",
     "text": [
      "Fitting 16th batch =====================\n",
      "Read default param file: /data1/hbahk/envs/main/lib/python3.9/site-packages/eazy/data/zphot.param.default\n",
      "Read CATALOG_FILE: input/input_WFS.csv\n",
      "   >>> NOBJ = 166041\n",
      "F419 E419 (419): 7DT_4000_fitted\n",
      "F420 E420 (420): 7DT_4250_fitted\n",
      "F421 E421 (421): 7DT_4500_fitted\n",
      "F422 E422 (422): 7DT_4750_fitted\n",
      "F423 E423 (423): 7DT_5000_fitted\n",
      "F424 E424 (424): 7DT_5250_fitted\n",
      "F425 E425 (425): 7DT_5500_fitted\n",
      "F426 E426 (426): 7DT_5750_fitted\n",
      "F427 E427 (427): 7DT_6000_fitted\n",
      "F428 E428 (428): 7DT_6250_fitted\n",
      "F429 E429 (429): 7DT_6500_fitted\n",
      "F430 E430 (430): 7DT_6750_fitted\n",
      "F431 E431 (431): 7DT_7000_fitted\n",
      "F432 E432 (432): 7DT_7250_fitted\n",
      "F433 E433 (433): 7DT_7500_fitted\n",
      "F434 E434 (434): 7DT_7750_fitted\n",
      "F435 E435 (435): 7DT_8000_fitted\n",
      "F436 E436 (436): 7DT_8250_fitted\n",
      "F437 E437 (437): 7DT_8500_fitted\n",
      "F438 E438 (438): 7DT_8750_fitted\n",
      "Set sys_err = 0.01 (positive=True)\n",
      "Read PRIOR_FILE:  prior_R_zmax7.dat\n"
     ]
    },
    {
     "name": "stderr",
     "output_type": "stream",
     "text": [
      "191it [00:07, 25.19it/s]\n",
      "100%|██████████| 191/191 [00:16<00:00, 11.42it/s]\n"
     ]
    },
    {
     "name": "stdout",
     "output_type": "stream",
     "text": [
      "Compute best fits\n",
      "fit_best: 2.3 s (n_proc=1,  NOBJ=5985)\n",
      "Fit 20.8 s (n_proc=16, NOBJ=6041)\n",
      "fit_best: 2.4 s (n_proc=1,  NOBJ=5985)\n"
     ]
    },
    {
     "name": "stderr",
     "output_type": "stream",
     "text": [
      "Calculating CRPS: 100%|██████████| 6041/6041 [00:06<00:00, 949.46it/s] \n"
     ]
    },
    {
     "name": "stdout",
     "output_type": "stream",
     "text": [
      "Finished in 00:18:21\n"
     ]
    }
   ],
   "source": [
    "fit_and_save_result_prior(params_WFS, tempfilt)"
   ]
  },
  {
   "cell_type": "code",
   "execution_count": null,
   "metadata": {},
   "outputs": [
    {
     "name": "stdout",
     "output_type": "stream",
     "text": [
      "Fitting 0th batch =====================\n",
      "Read default param file: /data1/hbahk/envs/main/lib/python3.9/site-packages/eazy/data/zphot.param.default\n",
      "Read CATALOG_FILE: input/input_RIS.csv\n",
      "   >>> NOBJ = 166041\n",
      "F419 E419 (419): 7DT_4000_fitted\n",
      "F420 E420 (420): 7DT_4250_fitted\n",
      "F421 E421 (421): 7DT_4500_fitted\n",
      "F422 E422 (422): 7DT_4750_fitted\n",
      "F423 E423 (423): 7DT_5000_fitted\n",
      "F424 E424 (424): 7DT_5250_fitted\n",
      "F425 E425 (425): 7DT_5500_fitted\n",
      "F426 E426 (426): 7DT_5750_fitted\n",
      "F427 E427 (427): 7DT_6000_fitted\n",
      "F428 E428 (428): 7DT_6250_fitted\n",
      "F429 E429 (429): 7DT_6500_fitted\n",
      "F430 E430 (430): 7DT_6750_fitted\n",
      "F431 E431 (431): 7DT_7000_fitted\n",
      "F432 E432 (432): 7DT_7250_fitted\n",
      "F433 E433 (433): 7DT_7500_fitted\n",
      "F434 E434 (434): 7DT_7750_fitted\n",
      "F435 E435 (435): 7DT_8000_fitted\n",
      "F436 E436 (436): 7DT_8250_fitted\n",
      "F437 E437 (437): 7DT_8500_fitted\n",
      "F438 E438 (438): 7DT_8750_fitted\n",
      "Set sys_err = 0.01 (positive=True)\n",
      "Read PRIOR_FILE:  prior_R_zmax7.dat\n"
     ]
    },
    {
     "name": "stderr",
     "output_type": "stream",
     "text": [
      "191it [00:07, 24.54it/s]\n",
      "100%|██████████| 191/191 [00:23<00:00,  8.24it/s]\n"
     ]
    },
    {
     "name": "stdout",
     "output_type": "stream",
     "text": [
      "Compute best fits\n",
      "fit_best: 3.0 s (n_proc=1,  NOBJ=9360)\n",
      "Fit 27.9 s (n_proc=16, NOBJ=10000)\n",
      "fit_best: 3.0 s (n_proc=1,  NOBJ=9360)\n"
     ]
    },
    {
     "name": "stderr",
     "output_type": "stream",
     "text": [
      "Calculating CRPS: 100%|██████████| 10000/10000 [00:13<00:00, 730.72it/s]\n"
     ]
    },
    {
     "name": "stdout",
     "output_type": "stream",
     "text": [
      "Fitting 1th batch =====================\n",
      "Read default param file: /data1/hbahk/envs/main/lib/python3.9/site-packages/eazy/data/zphot.param.default\n",
      "Read CATALOG_FILE: input/input_RIS.csv\n",
      "   >>> NOBJ = 166041\n",
      "F419 E419 (419): 7DT_4000_fitted\n",
      "F420 E420 (420): 7DT_4250_fitted\n",
      "F421 E421 (421): 7DT_4500_fitted\n",
      "F422 E422 (422): 7DT_4750_fitted\n",
      "F423 E423 (423): 7DT_5000_fitted\n",
      "F424 E424 (424): 7DT_5250_fitted\n",
      "F425 E425 (425): 7DT_5500_fitted\n",
      "F426 E426 (426): 7DT_5750_fitted\n",
      "F427 E427 (427): 7DT_6000_fitted\n",
      "F428 E428 (428): 7DT_6250_fitted\n",
      "F429 E429 (429): 7DT_6500_fitted\n",
      "F430 E430 (430): 7DT_6750_fitted\n",
      "F431 E431 (431): 7DT_7000_fitted\n",
      "F432 E432 (432): 7DT_7250_fitted\n",
      "F433 E433 (433): 7DT_7500_fitted\n",
      "F434 E434 (434): 7DT_7750_fitted\n",
      "F435 E435 (435): 7DT_8000_fitted\n",
      "F436 E436 (436): 7DT_8250_fitted\n",
      "F437 E437 (437): 7DT_8500_fitted\n",
      "F438 E438 (438): 7DT_8750_fitted\n",
      "Set sys_err = 0.01 (positive=True)\n",
      "Read PRIOR_FILE:  prior_R_zmax7.dat\n"
     ]
    },
    {
     "name": "stderr",
     "output_type": "stream",
     "text": [
      "191it [00:07, 25.01it/s]\n",
      "100%|██████████| 191/191 [00:22<00:00,  8.50it/s]\n"
     ]
    },
    {
     "name": "stdout",
     "output_type": "stream",
     "text": [
      "Compute best fits\n",
      "fit_best: 2.9 s (n_proc=1,  NOBJ=9360)\n",
      "Fit 27.1 s (n_proc=16, NOBJ=10000)\n",
      "fit_best: 3.1 s (n_proc=1,  NOBJ=9360)\n"
     ]
    },
    {
     "name": "stderr",
     "output_type": "stream",
     "text": [
      "Calculating CRPS: 100%|██████████| 10000/10000 [00:14<00:00, 684.92it/s]\n"
     ]
    },
    {
     "name": "stdout",
     "output_type": "stream",
     "text": [
      "Fitting 2th batch =====================\n",
      "Read default param file: /data1/hbahk/envs/main/lib/python3.9/site-packages/eazy/data/zphot.param.default\n",
      "Read CATALOG_FILE: input/input_RIS.csv\n",
      "   >>> NOBJ = 166041\n",
      "F419 E419 (419): 7DT_4000_fitted\n",
      "F420 E420 (420): 7DT_4250_fitted\n",
      "F421 E421 (421): 7DT_4500_fitted\n",
      "F422 E422 (422): 7DT_4750_fitted\n",
      "F423 E423 (423): 7DT_5000_fitted\n",
      "F424 E424 (424): 7DT_5250_fitted\n",
      "F425 E425 (425): 7DT_5500_fitted\n",
      "F426 E426 (426): 7DT_5750_fitted\n",
      "F427 E427 (427): 7DT_6000_fitted\n",
      "F428 E428 (428): 7DT_6250_fitted\n",
      "F429 E429 (429): 7DT_6500_fitted\n",
      "F430 E430 (430): 7DT_6750_fitted\n",
      "F431 E431 (431): 7DT_7000_fitted\n",
      "F432 E432 (432): 7DT_7250_fitted\n",
      "F433 E433 (433): 7DT_7500_fitted\n",
      "F434 E434 (434): 7DT_7750_fitted\n",
      "F435 E435 (435): 7DT_8000_fitted\n",
      "F436 E436 (436): 7DT_8250_fitted\n",
      "F437 E437 (437): 7DT_8500_fitted\n",
      "F438 E438 (438): 7DT_8750_fitted\n",
      "Set sys_err = 0.01 (positive=True)\n",
      "Read PRIOR_FILE:  prior_R_zmax7.dat\n"
     ]
    },
    {
     "name": "stderr",
     "output_type": "stream",
     "text": [
      "191it [00:07, 24.29it/s]\n",
      "100%|██████████| 191/191 [00:22<00:00,  8.47it/s]\n"
     ]
    },
    {
     "name": "stdout",
     "output_type": "stream",
     "text": [
      "Compute best fits\n",
      "fit_best: 3.0 s (n_proc=1,  NOBJ=9384)\n",
      "Fit 27.3 s (n_proc=16, NOBJ=10000)\n",
      "fit_best: 2.8 s (n_proc=1,  NOBJ=9384)\n"
     ]
    },
    {
     "name": "stderr",
     "output_type": "stream",
     "text": [
      "Calculating CRPS: 100%|██████████| 10000/10000 [00:09<00:00, 1094.34it/s]\n"
     ]
    },
    {
     "name": "stdout",
     "output_type": "stream",
     "text": [
      "Fitting 3th batch =====================\n",
      "Read default param file: /data1/hbahk/envs/main/lib/python3.9/site-packages/eazy/data/zphot.param.default\n",
      "Read CATALOG_FILE: input/input_RIS.csv\n",
      "   >>> NOBJ = 166041\n",
      "F419 E419 (419): 7DT_4000_fitted\n",
      "F420 E420 (420): 7DT_4250_fitted\n",
      "F421 E421 (421): 7DT_4500_fitted\n",
      "F422 E422 (422): 7DT_4750_fitted\n",
      "F423 E423 (423): 7DT_5000_fitted\n",
      "F424 E424 (424): 7DT_5250_fitted\n",
      "F425 E425 (425): 7DT_5500_fitted\n",
      "F426 E426 (426): 7DT_5750_fitted\n",
      "F427 E427 (427): 7DT_6000_fitted\n",
      "F428 E428 (428): 7DT_6250_fitted\n",
      "F429 E429 (429): 7DT_6500_fitted\n",
      "F430 E430 (430): 7DT_6750_fitted\n",
      "F431 E431 (431): 7DT_7000_fitted\n",
      "F432 E432 (432): 7DT_7250_fitted\n",
      "F433 E433 (433): 7DT_7500_fitted\n",
      "F434 E434 (434): 7DT_7750_fitted\n",
      "F435 E435 (435): 7DT_8000_fitted\n",
      "F436 E436 (436): 7DT_8250_fitted\n",
      "F437 E437 (437): 7DT_8500_fitted\n",
      "F438 E438 (438): 7DT_8750_fitted\n",
      "Set sys_err = 0.01 (positive=True)\n",
      "Read PRIOR_FILE:  prior_R_zmax7.dat\n"
     ]
    },
    {
     "name": "stderr",
     "output_type": "stream",
     "text": [
      "191it [00:07, 24.36it/s]\n",
      "  0%|          | 0/191 [00:00<?, ?it/s]"
     ]
    }
   ],
   "source": [
    "fit_and_save_result_prior(params_RIS, tempfilt)"
   ]
  }
 ],
 "metadata": {
  "kernelspec": {
   "display_name": "Python 3 (ipykernel)",
   "language": "python",
   "name": "python3"
  },
  "language_info": {
   "codemirror_mode": {
    "name": "ipython",
    "version": 3
   },
   "file_extension": ".py",
   "mimetype": "text/x-python",
   "name": "python",
   "nbconvert_exporter": "python",
   "pygments_lexer": "ipython3",
   "version": "3.9.7"
  }
 },
 "nbformat": 4,
 "nbformat_minor": 2
}
