{
 "cells": [
  {
   "cell_type": "markdown",
   "metadata": {},
   "source": [
    "Template list file"
   ]
  },
  {
   "cell_type": "code",
   "execution_count": 5,
   "metadata": {},
   "outputs": [],
   "source": [
    "import matplotlib_inline.backend_inline\n",
    "from matplotlib import pyplot as plt\n",
    "from astropy.table import Table\n",
    "from pathlib import Path\n",
    "import numpy as np\n",
    "from eazy.templates import Redden\n",
    "\n",
    "matplotlib_inline.backend_inline.set_matplotlib_formats('retina')\n",
    "\n",
    "WD = Path.cwd()\n",
    "TEMPDIR = WD.parent / 'BROWN_COSMOS'\n",
    "REDDENED_TEMPDIR = WD / 'BROWN_COSMOS_REDDENED'\n",
    "\n",
    "temppaths_brown = list(TEMPDIR.glob('*.dat'))\n",
    "temppaths_cosmos = list(TEMPDIR.glob('*.sed'))\n",
    "temppaths = temppaths_brown + temppaths_cosmos\n",
    "\n",
    "temppaths_reddened = list(REDDENED_TEMPDIR.glob('*.txt'))\n",
    "\n",
    "Avs = [0.25, 0.5, 1.0]"
   ]
  },
  {
   "cell_type": "code",
   "execution_count": 3,
   "metadata": {},
   "outputs": [],
   "source": [
    "# original Brown+COSMOS template\n",
    "with open('BROWN_COSMOS.template', 'w') as f:\n",
    "    for i, temppath in enumerate(temppaths):\n",
    "        f.write(f'{i+1:3d} {temppath}\\n')"
   ]
  },
  {
   "cell_type": "code",
   "execution_count": 6,
   "metadata": {},
   "outputs": [],
   "source": [
    "# with additional reddened templates\n",
    "with open('BROWN_COSMOS+reddened.template', 'w') as f:\n",
    "    for i, temppath in enumerate(temppaths):\n",
    "        f.write(f'{i+1:3d} {temppath}\\n')\n",
    "    for j, temppath_reddened in enumerate(temppaths_reddened):\n",
    "        f.write(f'{i+j+2:3d} {temppath_reddened}\\n')"
   ]
  },
  {
   "cell_type": "markdown",
   "metadata": {},
   "source": [
    "Translate file"
   ]
  },
  {
   "cell_type": "code",
   "execution_count": null,
   "metadata": {},
   "outputs": [],
   "source": []
  }
 ],
 "metadata": {
  "kernelspec": {
   "display_name": "Python 3",
   "language": "python",
   "name": "python3"
  },
  "language_info": {
   "codemirror_mode": {
    "name": "ipython",
    "version": 3
   },
   "file_extension": ".py",
   "mimetype": "text/x-python",
   "name": "python",
   "nbconvert_exporter": "python",
   "pygments_lexer": "ipython3",
   "version": "3.9.7"
  }
 },
 "nbformat": 4,
 "nbformat_minor": 2
}
