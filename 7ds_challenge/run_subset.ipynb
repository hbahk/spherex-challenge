{
 "cells": [
  {
   "cell_type": "code",
   "execution_count": 1,
   "metadata": {},
   "outputs": [],
   "source": [
    "%load_ext autoreload\n",
    "%autoreload 2"
   ]
  },
  {
   "cell_type": "code",
   "execution_count": 2,
   "metadata": {},
   "outputs": [],
   "source": [
    "import matplotlib_inline.backend_inline\n",
    "from astropy.table import Table\n",
    "from astropy.io import fits\n",
    "from pathlib import Path\n",
    "import numpy as np\n",
    "import eazy\n",
    "import pickle\n",
    "import gc\n",
    "import os\n",
    "import psutil\n",
    "import time\n",
    "\n",
    "p = psutil.Process(os.getpid())\n",
    "# p.nice(-1)\n",
    "\n",
    "matplotlib_inline.backend_inline.set_matplotlib_formats('retina')\n",
    "\n",
    "WD = Path('/data1/hbahk/spherex-photoz/spherex-challenge/7ds_challenge')\n",
    "os.chdir(WD)\n",
    "TEMPDIR = WD.parent / 'BROWN_COSMOS'\n",
    "\n",
    "RECALCULATE_TEMPFILT = False"
   ]
  },
  {
   "cell_type": "code",
   "execution_count": 3,
   "metadata": {},
   "outputs": [],
   "source": [
    "params = {}\n",
    "params['FILTERS_RES']       = \"FILTER.RES+7DTreduced.res\"\n",
    "params['TEMPLATES_FILE']    = \"BROWN_COSMOS.template\"\n",
    "params['TEMP_ERR_FILE']     = \"../template_error_cosmos2020.txt\"\n",
    "params['TEMP_ERR_A2']       = 0.0 # nullify the template error\n",
    "\n",
    "params['SYS_ERR']           = 0.01\n",
    "\n",
    "params['MW_EBV']            = 0.016577\n",
    "params['CAT_HAS_EXTCORR']   = False\n",
    "\n",
    "params['CATALOG_FILE']      = \"input/input_RIS_subset.csv\" \n",
    "\n",
    "dir_output = WD/\"output\"/\"output_nored_001_RIS_sub\"\n",
    "\n",
    "if not dir_output.exists():\n",
    "    dir_output.mkdir(parents=True)\n",
    "params['OUTPUT_DIRECTORY']  = dir_output.as_posix()\n",
    "params['MAIN_OUTPUT_FILE']  = \"output\"\n",
    "\n",
    "params['APPLY_PRIOR']       = False\n",
    "# params['PRIOR_FILE']        = \"../prior_K_TAO.dat\"\n",
    "# params['PRIOR_FILTER']      = 466  # SPHEREx band corresponding to 2.2um\n",
    "# params['PRIOR_ABZP']        = 23.9\n",
    "# params['PRIOR_FLOOR']       = 0.01\n",
    "\n",
    "params['FIX_ZSPEC']         = False\n",
    "params['Z_MIN']             = 0.015\n",
    "params['Z_MAX']             = 5.8\n",
    "params['Z_STEP']            = 0.01\n",
    "params['Z_STEP_TYPE']       = 1\n",
    "\n",
    "translate_filename = 'dummy.translate'\n",
    "\n",
    "params_nored_001_RIS_sub = params.copy()"
   ]
  },
  {
   "cell_type": "code",
   "execution_count": 4,
   "metadata": {},
   "outputs": [],
   "source": [
    "if RECALCULATE_TEMPFILT:\n",
    "   ez = eazy.photoz.PhotoZ(param_file=None, translate_file=translate_filename,\n",
    "                           zeropoint_file=None, params=params_nored_001_RIS_sub, n_proc=50,\n",
    "                           timeout=3600)\n",
    "\n",
    "   with open('tempfilt_nored_001.pickle', 'wb') as wfile:\n",
    "      pickle.dump(ez.tempfilt, wfile, protocol=pickle.HIGHEST_PROTOCOL)"
   ]
  },
  {
   "cell_type": "code",
   "execution_count": 5,
   "metadata": {},
   "outputs": [],
   "source": [
    "params = {}\n",
    "params['FILTERS_RES']       = \"FILTER.RES+7DTreduced.res\"\n",
    "params['TEMPLATES_FILE']    = \"BROWN_COSMOS+reddened.template\"\n",
    "params['TEMP_ERR_FILE']     = \"../template_error_cosmos2020.txt\"\n",
    "params['TEMP_ERR_A2']       = 0.0 # nullify the template error\n",
    "\n",
    "params['SYS_ERR']           = 0.01\n",
    "\n",
    "params['MW_EBV']            = 0.016577\n",
    "params['CAT_HAS_EXTCORR']   = False\n",
    "\n",
    "params['CATALOG_FILE']      = \"input/input_RIS_subset.csv\" \n",
    "\n",
    "dir_output = WD/\"output\"/\"output_reddened_001_RIS_sub\"\n",
    "\n",
    "if not dir_output.exists():\n",
    "    dir_output.mkdir(parents=True)\n",
    "params['OUTPUT_DIRECTORY']  = dir_output.as_posix()\n",
    "params['MAIN_OUTPUT_FILE']  = \"output\"\n",
    "\n",
    "params['APPLY_PRIOR']       = False\n",
    "# params['PRIOR_FILE']        = \"../prior_K_TAO.dat\"\n",
    "# params['PRIOR_FILTER']      = 466  # SPHEREx band corresponding to 2.2um\n",
    "# params['PRIOR_ABZP']        = 23.9\n",
    "# params['PRIOR_FLOOR']       = 0.01\n",
    "\n",
    "params['FIX_ZSPEC']         = False\n",
    "params['Z_MIN']             = 0.015\n",
    "params['Z_MAX']             = 5.8\n",
    "params['Z_STEP']            = 0.01\n",
    "params['Z_STEP_TYPE']       = 1\n",
    "\n",
    "translate_filename = 'dummy.translate'\n",
    "\n",
    "params_reddened_001_RIS_sub = params.copy()"
   ]
  },
  {
   "cell_type": "code",
   "execution_count": 6,
   "metadata": {},
   "outputs": [],
   "source": [
    "if RECALCULATE_TEMPFILT:\n",
    "   ez = eazy.photoz.PhotoZ(param_file=None, translate_file=translate_filename,\n",
    "                           zeropoint_file=None, params=params_reddened_001_RIS_sub, n_proc=50,\n",
    "                           timeout=3600)\n",
    "\n",
    "   with open('tempfilt_reddened_001.pickle', 'wb') as wfile:\n",
    "      pickle.dump(ez.tempfilt, wfile, protocol=pickle.HIGHEST_PROTOCOL)"
   ]
  },
  {
   "cell_type": "code",
   "execution_count": 7,
   "metadata": {},
   "outputs": [],
   "source": [
    "params = {}\n",
    "params['FILTERS_RES']       = \"FILTER.RES+7DTreduced.res\"\n",
    "params['TEMPLATES_FILE']    = \"BROWN_COSMOS.template\"\n",
    "params['TEMP_ERR_FILE']     = \"../template_error_cosmos2020.txt\"\n",
    "params['TEMP_ERR_A2']       = 0.0 # nullify the template error\n",
    "\n",
    "params['SYS_ERR']           = 0.01\n",
    "\n",
    "params['MW_EBV']            = 0.016577\n",
    "params['CAT_HAS_EXTCORR']   = True\n",
    "\n",
    "params['CATALOG_FILE']      = \"input/input_RIS_subset.csv\" \n",
    "\n",
    "dir_output = WD/\"output\"/\"output_nored_001_RIS_sub_extcorrcat\"\n",
    "\n",
    "if not dir_output.exists():\n",
    "    dir_output.mkdir(parents=True)\n",
    "params['OUTPUT_DIRECTORY']  = dir_output.as_posix()\n",
    "params['MAIN_OUTPUT_FILE']  = \"output\"\n",
    "\n",
    "params['APPLY_PRIOR']       = False\n",
    "# params['PRIOR_FILE']        = \"../prior_K_TAO.dat\"\n",
    "# params['PRIOR_FILTER']      = 466  # SPHEREx band corresponding to 2.2um\n",
    "# params['PRIOR_ABZP']        = 23.9\n",
    "# params['PRIOR_FLOOR']       = 0.01\n",
    "\n",
    "params['FIX_ZSPEC']         = False\n",
    "params['Z_MIN']             = 0.015\n",
    "params['Z_MAX']             = 5.8\n",
    "params['Z_STEP']            = 0.01\n",
    "params['Z_STEP_TYPE']       = 1\n",
    "\n",
    "translate_filename = 'dummy.translate'\n",
    "\n",
    "params_nored_001_RIS_sub_extcorrcat = params.copy()"
   ]
  },
  {
   "cell_type": "code",
   "execution_count": 8,
   "metadata": {},
   "outputs": [],
   "source": [
    "if RECALCULATE_TEMPFILT:\n",
    "   ez = eazy.photoz.PhotoZ(param_file=None, translate_file=translate_filename,\n",
    "                           zeropoint_file=None, params=params_nored_001_RIS_sub_extcorrcat, n_proc=50,\n",
    "                           timeout=3600)\n",
    "\n",
    "   with open('tempfilt_nored_001_extcorrcat.pickle', 'wb') as wfile:\n",
    "      pickle.dump(ez.tempfilt, wfile, protocol=pickle.HIGHEST_PROTOCOL)"
   ]
  },
  {
   "cell_type": "code",
   "execution_count": 9,
   "metadata": {},
   "outputs": [],
   "source": [
    "params = {}\n",
    "params['FILTERS_RES']       = \"FILTER.RES+7DTreduced.res\"\n",
    "params['TEMPLATES_FILE']    = \"BROWN_COSMOS+reddened.template\"\n",
    "params['TEMP_ERR_FILE']     = \"../template_error_cosmos2020.txt\"\n",
    "params['TEMP_ERR_A2']       = 0.0 # nullify the template error\n",
    "\n",
    "params['SYS_ERR']           = 0.01\n",
    "\n",
    "params['MW_EBV']            = 0.016577\n",
    "params['CAT_HAS_EXTCORR']   = True\n",
    "\n",
    "params['CATALOG_FILE']      = \"input/input_RIS_subset.csv\" \n",
    "\n",
    "dir_output = WD/\"output\"/\"output_reddened_001_RIS_sub_extcorrcat\"\n",
    "\n",
    "if not dir_output.exists():\n",
    "    dir_output.mkdir(parents=True)\n",
    "params['OUTPUT_DIRECTORY']  = dir_output.as_posix()\n",
    "params['MAIN_OUTPUT_FILE']  = \"output\"\n",
    "\n",
    "params['APPLY_PRIOR']       = False\n",
    "# params['PRIOR_FILE']        = \"../prior_K_TAO.dat\"\n",
    "# params['PRIOR_FILTER']      = 466  # SPHEREx band corresponding to 2.2um\n",
    "# params['PRIOR_ABZP']        = 23.9\n",
    "# params['PRIOR_FLOOR']       = 0.01\n",
    "\n",
    "params['FIX_ZSPEC']         = False\n",
    "params['Z_MIN']             = 0.015\n",
    "params['Z_MAX']             = 5.8\n",
    "params['Z_STEP']            = 0.01\n",
    "params['Z_STEP_TYPE']       = 1\n",
    "\n",
    "translate_filename = 'dummy.translate'\n",
    "\n",
    "params_reddened_001_RIS_sub_extcorrcat = params.copy()"
   ]
  },
  {
   "cell_type": "code",
   "execution_count": 10,
   "metadata": {},
   "outputs": [],
   "source": [
    "if RECALCULATE_TEMPFILT:\n",
    "   ez = eazy.photoz.PhotoZ(param_file=None, translate_file=translate_filename,\n",
    "                           zeropoint_file=None, params=params_reddened_001_RIS_sub_extcorrcat, n_proc=50,\n",
    "                           timeout=3600)\n",
    "\n",
    "   with open('tempfilt_reddened_001_extcorrcat.pickle', 'wb') as wfile:\n",
    "      pickle.dump(ez.tempfilt, wfile, protocol=pickle.HIGHEST_PROTOCOL)"
   ]
  },
  {
   "cell_type": "code",
   "execution_count": 11,
   "metadata": {},
   "outputs": [],
   "source": [
    "# params = params_nored_001_RIS_sub\n",
    "# dir_output = Path(params['OUTPUT_DIRECTORY'])\n",
    "\n",
    "# with open('tempfilt_nored_001.pickle', 'rb') as rfile:\n",
    "#     tempfilt = pickle.load(rfile)\n",
    "\n",
    "# ez = eazy.photoz.PhotoZ(param_file=None, translate_file=translate_filename,\n",
    "#                         zeropoint_file=None, params=params, tempfilt=tempfilt, )\n",
    "\n",
    "# ez.fit_catalog(ez.idx, n_proc=2, prior=False)\n",
    "\n",
    "# zout, hdu = ez.standard_output(prior=False, beta_prior=False)\n",
    "# zout.write(dir_output/'output.fits', overwrite=True)\n",
    "# phdu = fits.PrimaryHDU(data=ez.lnp)\n",
    "# gridhdu = fits.ImageHDU(data=ez.zgrid)\n",
    "# hdul = fits.HDUList([phdu, gridhdu])\n",
    "# hdul.writeto(dir_output/'lnp.fits', overwrite=True)\n",
    "# del ez, zout, hdu, phdu, gridhdu, hdul\n",
    "# gc.collect()"
   ]
  },
  {
   "cell_type": "code",
   "execution_count": 12,
   "metadata": {},
   "outputs": [],
   "source": [
    "# params = params_reddened_001_RIS_sub\n",
    "# dir_output = Path(params['OUTPUT_DIRECTORY'])\n",
    "\n",
    "# with open('tempfilt_reddened_001.pickle', 'rb') as rfile:\n",
    "#     tempfilt = pickle.load(rfile)\n",
    "\n",
    "# ez = eazy.photoz.PhotoZ(param_file=None, translate_file=translate_filename,\n",
    "#                         zeropoint_file=None, params=params, tempfilt=tempfilt, )\n",
    "\n",
    "# ez.fit_catalog(ez.idx, n_proc=2, prior=False)\n",
    "\n",
    "# zout, hdu = ez.standard_output(prior=False, beta_prior=False)\n",
    "# zout.write(dir_output/'output.fits', overwrite=True)\n",
    "# phdu = fits.PrimaryHDU(data=ez.lnp)\n",
    "# gridhdu = fits.ImageHDU(data=ez.zgrid)\n",
    "# hdul = fits.HDUList([phdu, gridhdu])\n",
    "# hdul.writeto(dir_output/'lnp.fits', overwrite=True)\n",
    "# del ez, zout, hdu, phdu, gridhdu, hdul\n",
    "# gc.collect()"
   ]
  },
  {
   "cell_type": "code",
   "execution_count": 13,
   "metadata": {},
   "outputs": [],
   "source": [
    "def fit_and_save_result(params, tempfilt):\n",
    "    start = time.time()\n",
    "    dir_output = Path(params['OUTPUT_DIRECTORY'])\n",
    "    ez = eazy.photoz.PhotoZ(param_file=None, translate_file=translate_filename,\n",
    "                            zeropoint_file=None, params=params, tempfilt=tempfilt, )\n",
    "\n",
    "    ez.fit_catalog(ez.idx, n_proc=2, prior=False)\n",
    "    ez.fit_at_zbest(prior=False, n_proc=1)\n",
    "    try:\n",
    "        zlimits = ez.pz_percentiles(percentiles=[2.5,16,50,84,97.5],\n",
    "                                        oversample=5)\n",
    "    except:\n",
    "        print('Couldn\\'t compute pz_percentiles')\n",
    "        zlimits = np.zeros((ez.NOBJ, 5), dtype=ez.ARRAY_DTYPE) - 1\n",
    "        \n",
    "    tab = Table()\n",
    "    tab['id'] = ez.OBJID\n",
    "    tab['z_phot'] = ez.zbest\n",
    "    tab['z_phot_chi2'] = ez.chi2_best #chi2_fit.min(axis=1)\n",
    "    tab['z025'] = zlimits[:,0]\n",
    "    tab['z160'] = zlimits[:,1]\n",
    "    tab['z500'] = zlimits[:,2]\n",
    "    tab['z840'] = zlimits[:,3]\n",
    "    tab['z975'] = zlimits[:,4]\n",
    "\n",
    "    # zout, hdu = ez.standard_output(prior=False, beta_prior=False)\n",
    "    tab.write(dir_output/'output.fits', overwrite=True)\n",
    "    phdu = fits.PrimaryHDU(data=ez.lnp)\n",
    "    gridhdu = fits.ImageHDU(data=ez.zgrid)\n",
    "    hdul = fits.HDUList([phdu, gridhdu])\n",
    "    hdul.writeto(dir_output/'lnp.fits', overwrite=True)\n",
    "    del ez, tab, phdu, gridhdu, hdul#, hdu\n",
    "    gc.collect()\n",
    "    end = time.time()\n",
    "    time_taken_hms = time.strftime('%H:%M:%S', time.gmtime(end-start))\n",
    "    print(f'Finished in {time_taken_hms}')\n",
    "    "
   ]
  },
  {
   "cell_type": "code",
   "execution_count": 14,
   "metadata": {},
   "outputs": [
    {
     "name": "stderr",
     "output_type": "stream",
     "text": [
      "<frozen importlib._bootstrap>:228: RuntimeWarning: scipy._lib.messagestream.MessageStream size changed, may indicate binary incompatibility. Expected 56 from C header, got 64 from PyObject\n"
     ]
    },
    {
     "name": "stdout",
     "output_type": "stream",
     "text": [
      "Read default param file: /data1/hbahk/envs/main/lib/python3.9/site-packages/eazy/data/zphot.param.default\n"
     ]
    }
   ],
   "source": [
    "params = params_nored_001_RIS_sub\n",
    "with open('tempfilt_nored_001.pickle', 'rb') as rfile:\n",
    "    tempfilt = pickle.load(rfile)\n",
    "\n",
    "fit_and_save_result(params, tempfilt)"
   ]
  },
  {
   "cell_type": "code",
   "execution_count": null,
   "metadata": {},
   "outputs": [],
   "source": [
    "params = params_reddened_001_RIS_sub\n",
    "with open('tempfilt_reddened_001.pickle', 'rb') as rfile:\n",
    "    tempfilt = pickle.load(rfile)\n",
    "\n",
    "fit_and_save_result(params, tempfilt)"
   ]
  },
  {
   "cell_type": "code",
   "execution_count": null,
   "metadata": {},
   "outputs": [],
   "source": [
    "params = params_reddened_001_RIS_sub_extcorrcat\n",
    "with open('tempfilt_reddened_001_extcorrcat.pickle', 'rb') as rfile:\n",
    "    tempfilt = pickle.load(rfile)\n",
    "\n",
    "fit_and_save_result(params, tempfilt)"
   ]
  },
  {
   "cell_type": "code",
   "execution_count": null,
   "metadata": {},
   "outputs": [],
   "source": [
    "params = params_nored_001_RIS_sub_extcorrcat\n",
    "with open('tempfilt_nored_001_extcorrcat.pickle', 'rb') as rfile:\n",
    "    tempfilt = pickle.load(rfile)\n",
    "\n",
    "fit_and_save_result(params, tempfilt)"
   ]
  },
  {
   "cell_type": "code",
   "execution_count": 14,
   "metadata": {},
   "outputs": [],
   "source": [
    "params = params_nored_001_RIS_sub.copy()\n",
    "params['CATALOG_FILE'] = \"input/input_WFS_subset.csv\"\n",
    "dir_output = WD/\"output\"/\"output_nored_001_WFS_sub\"\n",
    "if not dir_output.exists():\n",
    "    dir_output.mkdir(parents=True)\n",
    "params['OUTPUT_DIRECTORY']  = dir_output.as_posix()\n",
    "params_nored_001_WFS_sub = params.copy()\n",
    "\n",
    "params = params_nored_001_RIS_sub.copy()\n",
    "params['CATALOG_FILE'] = \"input/input_IMS_subset.csv\"\n",
    "dir_output = WD/\"output\"/\"output_nored_001_IMS_sub\"\n",
    "if not dir_output.exists():\n",
    "    dir_output.mkdir(parents=True)\n",
    "params['OUTPUT_DIRECTORY']  = dir_output.as_posix()\n",
    "params_nored_001_IMS_sub = params.copy()\n",
    "\n",
    "params = params_reddened_001_RIS_sub.copy()\n",
    "params['CATALOG_FILE'] = \"input/input_WFS_subset.csv\"\n",
    "dir_output = WD/\"output\"/\"output_reddened_001_WFS_sub\"\n",
    "if not dir_output.exists():\n",
    "    dir_output.mkdir(parents=True)\n",
    "params['OUTPUT_DIRECTORY']  = dir_output.as_posix()\n",
    "params_reddened_001_WFS_sub = params.copy()\n",
    "\n",
    "params = params_reddened_001_RIS_sub.copy()\n",
    "params['CATALOG_FILE'] = \"input/input_IMS_subset.csv\"\n",
    "dir_output = WD/\"output\"/\"output_reddened_001_IMS_sub\"\n",
    "if not dir_output.exists():\n",
    "    dir_output.mkdir(parents=True)\n",
    "params['OUTPUT_DIRECTORY']  = dir_output.as_posix()\n",
    "params_reddened_001_IMS_sub = params.copy()\n",
    "\n",
    "params = params_nored_001_RIS_sub_extcorrcat.copy()\n",
    "params['CATALOG_FILE'] = \"input/input_WFS_subset.csv\"\n",
    "dir_output = WD/\"output\"/\"output_nored_001_WFS_sub_extcorrcat\"\n",
    "if not dir_output.exists():\n",
    "    dir_output.mkdir(parents=True)\n",
    "params['OUTPUT_DIRECTORY']  = dir_output.as_posix()\n",
    "params_nored_001_WFS_sub_extcorrcat = params.copy()\n",
    "\n",
    "params = params_nored_001_RIS_sub_extcorrcat.copy()\n",
    "params['CATALOG_FILE'] = \"input/input_IMS_subset.csv\"\n",
    "dir_output = WD/\"output\"/\"output_nored_001_IMS_sub_extcorrcat\"\n",
    "if not dir_output.exists():\n",
    "    dir_output.mkdir(parents=True)\n",
    "params['OUTPUT_DIRECTORY']  = dir_output.as_posix()\n",
    "params_nored_001_IMS_sub_extcorrcat = params.copy()\n",
    "\n",
    "params = params_reddened_001_RIS_sub_extcorrcat.copy()\n",
    "params['CATALOG_FILE'] = \"input/input_WFS_subset.csv\"\n",
    "dir_output = WD/\"output\"/\"output_reddened_001_WFS_sub_extcorrcat\"\n",
    "if not dir_output.exists():\n",
    "    dir_output.mkdir(parents=True)\n",
    "params['OUTPUT_DIRECTORY']  = dir_output.as_posix()\n",
    "params_reddened_001_WFS_sub_extcorrcat = params.copy()\n",
    "\n",
    "params = params_reddened_001_RIS_sub_extcorrcat.copy()\n",
    "params['CATALOG_FILE'] = \"input/input_IMS_subset.csv\"\n",
    "dir_output = WD/\"output\"/\"output_reddened_001_IMS_sub_extcorrcat\"\n",
    "if not dir_output.exists():\n",
    "    dir_output.mkdir(parents=True)\n",
    "params['OUTPUT_DIRECTORY']  = dir_output.as_posix()\n",
    "params_reddened_001_IMS_sub_extcorrcat = params.copy()"
   ]
  },
  {
   "cell_type": "code",
   "execution_count": null,
   "metadata": {},
   "outputs": [],
   "source": [
    "params = params_nored_001_IMS_sub\n",
    "with open('tempfilt_nored_001.pickle', 'rb') as rfile:\n",
    "    tempfilt = pickle.load(rfile)\n",
    "\n",
    "fit_and_save_result(params, tempfilt)"
   ]
  },
  {
   "cell_type": "code",
   "execution_count": null,
   "metadata": {},
   "outputs": [
    {
     "name": "stderr",
     "output_type": "stream",
     "text": [
      "<frozen importlib._bootstrap>:228: RuntimeWarning: scipy._lib.messagestream.MessageStream size changed, may indicate binary incompatibility. Expected 56 from C header, got 64 from PyObject\n"
     ]
    },
    {
     "name": "stdout",
     "output_type": "stream",
     "text": [
      "Read default param file: /data1/hbahk/envs/main/lib/python3.9/site-packages/eazy/data/zphot.param.default\n",
      "Read CATALOG_FILE: input/input_IMS_subset.csv\n",
      "   >>> NOBJ = 10000\n",
      "F419 E419 (419): 7DT_4000_fitted\n",
      "F420 E420 (420): 7DT_4250_fitted\n",
      "F421 E421 (421): 7DT_4500_fitted\n",
      "F422 E422 (422): 7DT_4750_fitted\n",
      "F423 E423 (423): 7DT_5000_fitted\n",
      "F424 E424 (424): 7DT_5250_fitted\n",
      "F425 E425 (425): 7DT_5500_fitted\n",
      "F426 E426 (426): 7DT_5750_fitted\n",
      "F427 E427 (427): 7DT_6000_fitted\n",
      "F428 E428 (428): 7DT_6250_fitted\n",
      "F429 E429 (429): 7DT_6500_fitted\n",
      "F430 E430 (430): 7DT_6750_fitted\n",
      "F431 E431 (431): 7DT_7000_fitted\n",
      "F432 E432 (432): 7DT_7250_fitted\n",
      "F433 E433 (433): 7DT_7500_fitted\n",
      "F434 E434 (434): 7DT_7750_fitted\n",
      "F435 E435 (435): 7DT_8000_fitted\n",
      "F436 E436 (436): 7DT_8250_fitted\n",
      "F437 E437 (437): 7DT_8500_fitted\n",
      "F438 E438 (438): 7DT_8750_fitted\n"
     ]
    },
    {
     "name": "stderr",
     "output_type": "stream",
     "text": [
      "WARNING: PRIOR_FILE (templates/prior_F160W_TAO.dat) not found! [eazy.photoz]\n"
     ]
    },
    {
     "name": "stdout",
     "output_type": "stream",
     "text": [
      "Set sys_err = 0.01 (positive=True)\n"
     ]
    },
    {
     "name": "stderr",
     "output_type": "stream",
     "text": [
      "191it [00:01, 133.26it/s]\n",
      "  2%|▏         | 4/191 [02:07<1:25:19, 27.38s/it]"
     ]
    }
   ],
   "source": [
    "params = params_reddened_001_IMS_sub\n",
    "with open('tempfilt_reddened_001.pickle', 'rb') as rfile:\n",
    "    tempfilt = pickle.load(rfile)\n",
    "\n",
    "fit_and_save_result(params, tempfilt)"
   ]
  },
  {
   "cell_type": "code",
   "execution_count": null,
   "metadata": {},
   "outputs": [],
   "source": [
    "params = params_nored_001_IMS_sub_extcorrcat\n",
    "with open('tempfilt_nored_001_extcorrcat.pickle', 'rb') as rfile:\n",
    "    tempfilt = pickle.load(rfile)\n",
    "    \n",
    "fit_and_save_result(params, tempfilt)"
   ]
  },
  {
   "cell_type": "code",
   "execution_count": null,
   "metadata": {},
   "outputs": [],
   "source": [
    "params = params_reddened_001_IMS_sub_extcorrcat\n",
    "with open('tempfilt_reddened_001_extcorrcat.pickle', 'rb') as rfile:\n",
    "    tempfilt = pickle.load(rfile)\n",
    "\n",
    "fit_and_save_result(params, tempfilt)"
   ]
  },
  {
   "cell_type": "code",
   "execution_count": null,
   "metadata": {},
   "outputs": [],
   "source": [
    "params = params_nored_001_WFS_sub\n",
    "with open('tempfilt_nored_001.pickle', 'rb') as rfile:\n",
    "    tempfilt = pickle.load(rfile)\n",
    "\n",
    "fit_and_save_result(params, tempfilt)"
   ]
  },
  {
   "cell_type": "code",
   "execution_count": null,
   "metadata": {},
   "outputs": [],
   "source": [
    "params = params_reddened_001_WFS_sub\n",
    "with open('tempfilt_reddened_001.pickle', 'rb') as rfile:\n",
    "    tempfilt = pickle.load(rfile)\n",
    "\n",
    "fit_and_save_result(params, tempfilt)"
   ]
  },
  {
   "cell_type": "code",
   "execution_count": null,
   "metadata": {},
   "outputs": [],
   "source": [
    "params = params_nored_001_WFS_sub_extcorrcat\n",
    "with open('tempfilt_nored_001_extcorrcat.pickle', 'rb') as rfile:\n",
    "    tempfilt = pickle.load(rfile)\n",
    "\n",
    "fit_and_save_result(params, tempfilt)"
   ]
  },
  {
   "cell_type": "code",
   "execution_count": null,
   "metadata": {},
   "outputs": [],
   "source": [
    "params = params_reddened_001_WFS_sub_extcorrcat\n",
    "with open('tempfilt_reddened_001_extcorrcat.pickle', 'rb') as rfile:\n",
    "    tempfilt = pickle.load(rfile)\n",
    "\n",
    "fit_and_save_result(params, tempfilt)"
   ]
  },
  {
   "cell_type": "code",
   "execution_count": null,
   "metadata": {},
   "outputs": [],
   "source": [
    "def fit_and_save_result_prior(params, tempfilt, prior=True, filter_id=429, prior_file=\"prior_R_zmax7.dat\"):\n",
    "    dir_output = Path(params['OUTPUT_DIRECTORY']+f\"_prior\") if prior else Path(params['OUTPUT_DIRECTORY'])\n",
    "    dir_output.mkdir(parents=True, exist_ok=True)\n",
    "    params['OUTPUT_DIRECTORY']  = dir_output.as_posix()\n",
    "    \n",
    "    params['APPLY_PRIOR']       = prior\n",
    "    params['PRIOR_FILE']        = prior_file\n",
    "    params['PRIOR_FILTER']      = filter_id\n",
    "    params['PRIOR_ABZP']        = 23.9\n",
    "    params['PRIOR_FLOOR']       = 0.01\n",
    "    ez = eazy.photoz.PhotoZ(param_file=None, translate_file=translate_filename,\n",
    "                            zeropoint_file=None, params=params, tempfilt=tempfilt, )\n",
    "\n",
    "    if prior:\n",
    "        ez.ZML_WITH_PRIOR = True\n",
    "        ez.fit_catalog(ez.idx, n_proc=3, prior=True)\n",
    "        ez.ZML_WITH_PRIOR = True\n",
    "        ez.fit_at_zbest(prior=True, nproc=1)\n",
    "    else:\n",
    "        ez.fit_catalog(ez.idx, n_proc=15, prior=False)\n",
    "        ez.fit_at_zbest(prior=False, n_proc=1)\n",
    "        \n",
    "    try:\n",
    "        zlimits = ez.pz_percentiles(percentiles=[2.5,16,50,84,97.5],\n",
    "                                        oversample=5)\n",
    "    except:\n",
    "        print('Couldn\\'t compute pz_percentiles')\n",
    "        zlimits = np.zeros((ez.NOBJ, 5), dtype=ez.ARRAY_DTYPE) - 1\n",
    "        \n",
    "    tab = Table()\n",
    "    tab['id'] = ez.OBJID\n",
    "    tab['z_phot'] = ez.zbest\n",
    "    tab['z_phot_chi2'] = ez.chi2_best\n",
    "    tab['z025'] = zlimits[:,0]\n",
    "    tab['z160'] = zlimits[:,1]\n",
    "    tab['z500'] = zlimits[:,2]\n",
    "    tab['z840'] = zlimits[:,3]\n",
    "    tab['z975'] = zlimits[:,4]\n",
    "    \n",
    "#     zout, hdu = ez.standard_output(prior=True, beta_prior=False)\n",
    "    tab.write(dir_output/'output.fits', overwrite=True)\n",
    "    pit = ez.PIT(ez.ZSPEC)\n",
    "    zout['pit'] = pit\n",
    "    phdu = fits.PrimaryHDU(data=ez.lnp)\n",
    "    gridhdu = fits.ImageHDU(data=ez.zgrid)\n",
    "    hdul = fits.HDUList([phdu, gridhdu])\n",
    "    hdul.writeto(dir_output/'lnp.fits', overwrite=True)\n",
    "    del ez, zout, hdu, phdu, gridhdu, hdul\n",
    "    gc.collect()"
   ]
  },
  {
   "cell_type": "code",
   "execution_count": null,
   "metadata": {},
   "outputs": [],
   "source": [
    "params = params_reddened_001_RIS_sub.copy()\n",
    "with open('tempfilt_reddened_001.pickle', 'rb') as rfile:\n",
    "    tempfilt = pickle.load(rfile)\n",
    "\n",
    "fit_and_save_result_prior(params, tempfilt)"
   ]
  },
  {
   "cell_type": "code",
   "execution_count": null,
   "metadata": {},
   "outputs": [],
   "source": [
    "params = params_reddened_001_IMS_sub.copy()\n",
    "with open('tempfilt_reddened_001.pickle', 'rb') as rfile:\n",
    "    tempfilt = pickle.load(rfile)\n",
    "\n",
    "fit_and_save_result_prior(params, tempfilt)"
   ]
  },
  {
   "cell_type": "code",
   "execution_count": null,
   "metadata": {},
   "outputs": [],
   "source": [
    "params = params_reddened_001_WFS_sub.copy()\n",
    "with open('tempfilt_reddened_001.pickle', 'rb') as rfile:\n",
    "    tempfilt = pickle.load(rfile)\n",
    "\n",
    "fit_and_save_result_prior(params, tempfilt)"
   ]
  },
  {
   "cell_type": "code",
   "execution_count": null,
   "metadata": {},
   "outputs": [],
   "source": [
    "scheme = 'reddened_001_IMS_sub'\n",
    "base = Table.read(WD/'output'/f'output_{scheme}'/'result.fits')\n",
    "\n",
    "imask = (base['HSC_i_MAG'] < 20) & (base['HSC_i_MAG'] > 19)\n",
    "omask = np.abs(base['z_spec'] - base['z_phot']) / (1 + base['z_spec']) > 0.15\n",
    "\n",
    "ids = np.arange(len(base))[imask & omask]\n",
    "\n",
    "params = params_reddened_001_IMS_sub\n",
    "with open('tempfilt_reddened_001.pickle', 'rb') as rfile:\n",
    "    tempfilt = pickle.load(rfile)\n",
    "\n",
    "dir_output = Path(params['OUTPUT_DIRECTORY'])\n",
    "ez = eazy.photoz.PhotoZ(param_file=None, translate_file=translate_filename,\n",
    "                        zeropoint_file=None, params=params, tempfilt=tempfilt, )\n",
    "\n",
    "ez.fit_catalog(ids, n_proc=3, prior=False)"
   ]
  },
  {
   "cell_type": "code",
   "execution_count": null,
   "metadata": {},
   "outputs": [],
   "source": [
    "for objid in base['ID'][ids]:\n",
    "    ez.show_fit(objid, figsize=(12, 5), show_components=True, )"
   ]
  },
  {
   "cell_type": "code",
   "execution_count": null,
   "metadata": {},
   "outputs": [],
   "source": [
    "PIT = ez.PIT(zspec=base['z_spec'])"
   ]
  },
  {
   "cell_type": "code",
   "execution_count": null,
   "metadata": {},
   "outputs": [],
   "source": [
    "len(PIT)"
   ]
  },
  {
   "cell_type": "code",
   "execution_count": null,
   "metadata": {},
   "outputs": [],
   "source": [
    "PIT.shape"
   ]
  }
 ],
 "metadata": {
  "kernelspec": {
   "display_name": "Python 3 (ipykernel)",
   "language": "python",
   "name": "python3"
  },
  "language_info": {
   "codemirror_mode": {
    "name": "ipython",
    "version": 3
   },
   "file_extension": ".py",
   "mimetype": "text/x-python",
   "name": "python",
   "nbconvert_exporter": "python",
   "pygments_lexer": "ipython3",
   "version": "3.9.7"
  }
 },
 "nbformat": 4,
 "nbformat_minor": 2
}
