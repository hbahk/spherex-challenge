{
 "cells": [
  {
   "cell_type": "code",
   "execution_count": 4,
   "metadata": {},
   "outputs": [
    {
     "name": "stdout",
     "output_type": "stream",
     "text": [
      "Wrote </data1/hbahk/spherex-photoz/spherex-challenge/7ds_challenge/FILTER.RES+7DT.res[.info]>\n"
     ]
    }
   ],
   "source": [
    "from astropy.table import Table\n",
    "from pathlib import Path\n",
    "from eazy import filters\n",
    "from eazy.utils import path_to_eazy_data\n",
    "\n",
    "\n",
    "WD = Path.cwd()\n",
    "FILTERDIR = WD / '7DT_filters_v2' \n",
    "filtpaths = list(FILTERDIR.glob('*.csv'))\n",
    "\n",
    "path_default_filter = Path(path_to_eazy_data()) / 'FILTER.RES.latest'\n",
    "\n",
    "path_output_filter = WD / 'FILTER.RES+7DT.res'\n",
    "\n",
    "latest_filters = filters.FilterFile(path_default_filter)\n",
    "tempfile = Path('tempfile')\n",
    "with open(tempfile, 'w') as f:\n",
    "    for filtpath in filtpaths:\n",
    "            filt = Table.read(filtpath,\n",
    "                                format='ascii.csv',\n",
    "                                names=['id', 'wave', 'throughput'])\n",
    "            res = filters.FilterDefinition(wave=filt['wave'],\n",
    "                                            throughput=filt['throughput'],\n",
    "                                            name=f'7DT_{filtpath.stem}')\n",
    "            f.write(res.for_filter_file() + '\\n')\n",
    "\n",
    "temp_filters = filters.FilterFile('tempfile')\n",
    "tempfile.unlink()\n",
    "\n",
    "for filt in temp_filters.filters:\n",
    "    latest_filters.filters.append(filt)\n",
    "    \n",
    "latest_filters.write(path_output_filter.as_posix())"
   ]
  }
 ],
 "metadata": {
  "kernelspec": {
   "display_name": "Python 3",
   "language": "python",
   "name": "python3"
  },
  "language_info": {
   "codemirror_mode": {
    "name": "ipython",
    "version": 3
   },
   "file_extension": ".py",
   "mimetype": "text/x-python",
   "name": "python",
   "nbconvert_exporter": "python",
   "pygments_lexer": "ipython3",
   "version": "3.9.7"
  }
 },
 "nbformat": 4,
 "nbformat_minor": 2
}
