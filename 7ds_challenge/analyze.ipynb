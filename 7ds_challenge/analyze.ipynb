{
 "cells": [
  {
   "cell_type": "code",
   "execution_count": 1,
   "metadata": {},
   "outputs": [
    {
     "name": "stdout",
     "output_type": "stream",
     "text": [
      "The autoreload extension is already loaded. To reload it, use:\n",
      "  %reload_ext autoreload\n"
     ]
    }
   ],
   "source": [
    "%load_ext autoreload\n",
    "%autoreload 2"
   ]
  },
  {
   "cell_type": "code",
   "execution_count": 2,
   "metadata": {},
   "outputs": [],
   "source": [
    "import matplotlib_inline.backend_inline\n",
    "from matplotlib import pyplot as plt\n",
    "from astropy.table import Table\n",
    "from astropy.io import fits\n",
    "from pathlib import Path\n",
    "import numpy as np\n",
    "import eazy\n",
    "import pickle\n",
    "import gc\n",
    "import os\n",
    "from matplotlib.colors import LogNorm\n",
    "from mpl_toolkits.axes_grid1 import make_axes_locatable\n",
    "\n",
    "matplotlib_inline.backend_inline.set_matplotlib_formats('retina')\n",
    "\n",
    "plt.rcParams[\"font.size\"] = 20\n",
    "plt.rcParams[\"axes.labelsize\"] = 25\n",
    "\n",
    "WD = Path('/data1/hbahk/spherex-photoz/spherex-challenge/7ds_challenge')\n",
    "os.chdir(WD)\n",
    "TEMPDIR = WD.parent / 'BROWN_COSMOS'\n",
    "\n",
    "from utils import get_result_figures"
   ]
  },
  {
   "cell_type": "code",
   "execution_count": 4,
   "metadata": {},
   "outputs": [
    {
     "name": "stdout",
     "output_type": "stream",
     "text": [
      "Objects : 165602\n",
      "Outliers: 84121\n",
      "\n",
      "\n"
     ]
    },
    {
     "name": "stderr",
     "output_type": "stream",
     "text": [
      "/data1/hbahk/envs/main/lib/python3.9/site-packages/numpy/core/fromnumeric.py:771: UserWarning: Warning: 'partition' will ignore the 'mask' of the MaskedColumn.\n",
      "  a.partition(kth, axis=axis, kind=kind, order=order)\n",
      "/data1/hbahk/spherex-photoz/spherex-challenge/7ds_challenge/utils.py:83: RuntimeWarning: divide by zero encountered in divide\n",
      "  sigz = (np.max([z_840 - z_phot, z_phot - z_160], axis=0) / (1 + z_phot))\n"
     ]
    },
    {
     "name": "stdout",
     "output_type": "stream",
     "text": [
      "Objects : 346\n",
      "Outliers: 2\n",
      "\n",
      "\n",
      "Objects : 346\n",
      "Outliers: 2\n",
      "\n",
      "\n"
     ]
    },
    {
     "name": "stderr",
     "output_type": "stream",
     "text": [
      "/data1/hbahk/envs/main/lib/python3.9/site-packages/numpy/core/fromnumeric.py:771: UserWarning: Warning: 'partition' will ignore the 'mask' of the MaskedColumn.\n",
      "  a.partition(kth, axis=axis, kind=kind, order=order)\n",
      "/data1/hbahk/spherex-photoz/spherex-challenge/7ds_challenge/utils.py:83: RuntimeWarning: divide by zero encountered in divide\n",
      "  sigz = (np.max([z_840 - z_phot, z_phot - z_160], axis=0) / (1 + z_phot))\n"
     ]
    },
    {
     "name": "stdout",
     "output_type": "stream",
     "text": [
      "Objects : 1230\n",
      "Outliers: 1\n",
      "\n",
      "\n"
     ]
    },
    {
     "name": "stderr",
     "output_type": "stream",
     "text": [
      "/data1/hbahk/envs/main/lib/python3.9/site-packages/numpy/core/fromnumeric.py:771: UserWarning: Warning: 'partition' will ignore the 'mask' of the MaskedColumn.\n",
      "  a.partition(kth, axis=axis, kind=kind, order=order)\n",
      "/data1/hbahk/spherex-photoz/spherex-challenge/7ds_challenge/utils.py:83: RuntimeWarning: divide by zero encountered in divide\n",
      "  sigz = (np.max([z_840 - z_phot, z_phot - z_160], axis=0) / (1 + z_phot))\n"
     ]
    },
    {
     "name": "stdout",
     "output_type": "stream",
     "text": [
      "Objects : 1230\n",
      "Outliers: 1\n",
      "\n",
      "\n"
     ]
    },
    {
     "name": "stderr",
     "output_type": "stream",
     "text": [
      "/data1/hbahk/envs/main/lib/python3.9/site-packages/numpy/core/fromnumeric.py:771: UserWarning: Warning: 'partition' will ignore the 'mask' of the MaskedColumn.\n",
      "  a.partition(kth, axis=axis, kind=kind, order=order)\n",
      "/data1/hbahk/spherex-photoz/spherex-challenge/7ds_challenge/utils.py:83: RuntimeWarning: divide by zero encountered in divide\n",
      "  sigz = (np.max([z_840 - z_phot, z_phot - z_160], axis=0) / (1 + z_phot))\n"
     ]
    },
    {
     "name": "stdout",
     "output_type": "stream",
     "text": [
      "Objects : 3487\n",
      "Outliers: 8\n",
      "\n",
      "\n"
     ]
    },
    {
     "name": "stderr",
     "output_type": "stream",
     "text": [
      "/data1/hbahk/envs/main/lib/python3.9/site-packages/numpy/core/fromnumeric.py:771: UserWarning: Warning: 'partition' will ignore the 'mask' of the MaskedColumn.\n",
      "  a.partition(kth, axis=axis, kind=kind, order=order)\n"
     ]
    },
    {
     "name": "stdout",
     "output_type": "stream",
     "text": [
      "Objects : 3487\n",
      "Outliers: 8\n",
      "\n",
      "\n"
     ]
    },
    {
     "name": "stderr",
     "output_type": "stream",
     "text": [
      "/data1/hbahk/envs/main/lib/python3.9/site-packages/numpy/core/fromnumeric.py:771: UserWarning: Warning: 'partition' will ignore the 'mask' of the MaskedColumn.\n",
      "  a.partition(kth, axis=axis, kind=kind, order=order)\n"
     ]
    },
    {
     "name": "stdout",
     "output_type": "stream",
     "text": [
      "Objects : 9247\n",
      "Outliers: 148\n",
      "\n",
      "\n"
     ]
    },
    {
     "name": "stderr",
     "output_type": "stream",
     "text": [
      "/data1/hbahk/envs/main/lib/python3.9/site-packages/numpy/core/fromnumeric.py:771: UserWarning: Warning: 'partition' will ignore the 'mask' of the MaskedColumn.\n",
      "  a.partition(kth, axis=axis, kind=kind, order=order)\n"
     ]
    },
    {
     "name": "stdout",
     "output_type": "stream",
     "text": [
      "Objects : 9247\n",
      "Outliers: 148\n",
      "\n",
      "\n"
     ]
    },
    {
     "name": "stderr",
     "output_type": "stream",
     "text": [
      "/data1/hbahk/envs/main/lib/python3.9/site-packages/numpy/core/fromnumeric.py:771: UserWarning: Warning: 'partition' will ignore the 'mask' of the MaskedColumn.\n",
      "  a.partition(kth, axis=axis, kind=kind, order=order)\n"
     ]
    },
    {
     "name": "stdout",
     "output_type": "stream",
     "text": [
      "Objects : 21182\n",
      "Outliers: 2572\n",
      "\n",
      "\n"
     ]
    },
    {
     "name": "stderr",
     "output_type": "stream",
     "text": [
      "/data1/hbahk/envs/main/lib/python3.9/site-packages/numpy/core/fromnumeric.py:771: UserWarning: Warning: 'partition' will ignore the 'mask' of the MaskedColumn.\n",
      "  a.partition(kth, axis=axis, kind=kind, order=order)\n",
      "/data1/hbahk/spherex-photoz/spherex-challenge/7ds_challenge/utils.py:83: RuntimeWarning: divide by zero encountered in divide\n",
      "  sigz = (np.max([z_840 - z_phot, z_phot - z_160], axis=0) / (1 + z_phot))\n"
     ]
    },
    {
     "name": "stdout",
     "output_type": "stream",
     "text": [
      "Objects : 21182\n",
      "Outliers: 2572\n",
      "\n",
      "\n"
     ]
    },
    {
     "name": "stderr",
     "output_type": "stream",
     "text": [
      "/data1/hbahk/envs/main/lib/python3.9/site-packages/numpy/core/fromnumeric.py:771: UserWarning: Warning: 'partition' will ignore the 'mask' of the MaskedColumn.\n",
      "  a.partition(kth, axis=axis, kind=kind, order=order)\n",
      "/data1/hbahk/spherex-photoz/spherex-challenge/7ds_challenge/utils.py:83: RuntimeWarning: divide by zero encountered in divide\n",
      "  sigz = (np.max([z_840 - z_phot, z_phot - z_160], axis=0) / (1 + z_phot))\n"
     ]
    },
    {
     "name": "stdout",
     "output_type": "stream",
     "text": [
      "Objects : 130110\n",
      "Outliers: 81390\n",
      "\n",
      "\n"
     ]
    },
    {
     "name": "stderr",
     "output_type": "stream",
     "text": [
      "/data1/hbahk/envs/main/lib/python3.9/site-packages/numpy/core/fromnumeric.py:771: UserWarning: Warning: 'partition' will ignore the 'mask' of the MaskedColumn.\n",
      "  a.partition(kth, axis=axis, kind=kind, order=order)\n",
      "/data1/hbahk/spherex-photoz/spherex-challenge/7ds_challenge/utils.py:83: RuntimeWarning: divide by zero encountered in divide\n",
      "  sigz = (np.max([z_840 - z_phot, z_phot - z_160], axis=0) / (1 + z_phot))\n"
     ]
    },
    {
     "name": "stdout",
     "output_type": "stream",
     "text": [
      "Objects : 130110\n",
      "Outliers: 81390\n",
      "\n",
      "\n"
     ]
    },
    {
     "name": "stderr",
     "output_type": "stream",
     "text": [
      "/data1/hbahk/envs/main/lib/python3.9/site-packages/numpy/core/fromnumeric.py:771: UserWarning: Warning: 'partition' will ignore the 'mask' of the MaskedColumn.\n",
      "  a.partition(kth, axis=axis, kind=kind, order=order)\n",
      "/data1/hbahk/spherex-photoz/spherex-challenge/7ds_challenge/utils.py:83: RuntimeWarning: divide by zero encountered in divide\n",
      "  sigz = (np.max([z_840 - z_phot, z_phot - z_160], axis=0) / (1 + z_phot))\n",
      "/data1/hbahk/spherex-photoz/spherex-challenge/7ds_challenge/utils.py:400: RuntimeWarning: divide by zero encountered in divide\n",
      "  np.max([base[\"z840\"] - base[\"z_phot\"], base[\"z_phot\"] - base[\"z160\"]], axis=0)\n"
     ]
    },
    {
     "name": "stdout",
     "output_type": "stream",
     "text": [
      "Objects : 40831\n",
      "Outliers: 2954\n",
      "\n",
      "\n"
     ]
    },
    {
     "name": "stderr",
     "output_type": "stream",
     "text": [
      "/data1/hbahk/envs/main/lib/python3.9/site-packages/numpy/core/fromnumeric.py:771: UserWarning: Warning: 'partition' will ignore the 'mask' of the MaskedColumn.\n",
      "  a.partition(kth, axis=axis, kind=kind, order=order)\n"
     ]
    },
    {
     "name": "stdout",
     "output_type": "stream",
     "text": [
      "Objects : 40831\n",
      "Outliers: 2954\n",
      "\n",
      "\n"
     ]
    },
    {
     "name": "stderr",
     "output_type": "stream",
     "text": [
      "/data1/hbahk/envs/main/lib/python3.9/site-packages/numpy/core/fromnumeric.py:771: UserWarning: Warning: 'partition' will ignore the 'mask' of the MaskedColumn.\n",
      "  a.partition(kth, axis=axis, kind=kind, order=order)\n"
     ]
    },
    {
     "name": "stdout",
     "output_type": "stream",
     "text": [
      "Objects : 14202\n",
      "Outliers: 219\n",
      "\n",
      "\n"
     ]
    },
    {
     "name": "stderr",
     "output_type": "stream",
     "text": [
      "/data1/hbahk/envs/main/lib/python3.9/site-packages/numpy/core/fromnumeric.py:771: UserWarning: Warning: 'partition' will ignore the 'mask' of the MaskedColumn.\n",
      "  a.partition(kth, axis=axis, kind=kind, order=order)\n"
     ]
    },
    {
     "name": "stdout",
     "output_type": "stream",
     "text": [
      "Objects : 14202\n",
      "Outliers: 219\n",
      "\n",
      "\n"
     ]
    },
    {
     "name": "stderr",
     "output_type": "stream",
     "text": [
      "/data1/hbahk/envs/main/lib/python3.9/site-packages/numpy/core/fromnumeric.py:771: UserWarning: Warning: 'partition' will ignore the 'mask' of the MaskedColumn.\n",
      "  a.partition(kth, axis=axis, kind=kind, order=order)\n"
     ]
    },
    {
     "ename": "KeyError",
     "evalue": "'pit'",
     "output_type": "error",
     "traceback": [
      "\u001b[0;31m---------------------------------------------------------------------------\u001b[0m",
      "\u001b[0;31mKeyError\u001b[0m                                  Traceback (most recent call last)",
      "Input \u001b[0;32mIn [4]\u001b[0m, in \u001b[0;36m<cell line: 3>\u001b[0;34m()\u001b[0m\n\u001b[1;32m      8\u001b[0m pitmask \u001b[38;5;241m=\u001b[39m result[\u001b[38;5;124m\"\u001b[39m\u001b[38;5;124mHSC_i_MAG\u001b[39m\u001b[38;5;124m\"\u001b[39m] \u001b[38;5;241m<\u001b[39m imag\n\u001b[1;32m      9\u001b[0m result\u001b[38;5;241m.\u001b[39mrename_column(\u001b[38;5;124m\"\u001b[39m\u001b[38;5;124mz_spec\u001b[39m\u001b[38;5;124m\"\u001b[39m, \u001b[38;5;124m\"\u001b[39m\u001b[38;5;124mz_true\u001b[39m\u001b[38;5;124m\"\u001b[39m)\n\u001b[0;32m---> 10\u001b[0m \u001b[43mget_result_figures\u001b[49m\u001b[43m(\u001b[49m\u001b[43mresult\u001b[49m\u001b[43m,\u001b[49m\u001b[43m \u001b[49m\u001b[43mfigdir\u001b[49m\u001b[43m,\u001b[49m\u001b[43m \u001b[49m\u001b[43msurvey\u001b[49m\u001b[43m,\u001b[49m\u001b[43m \u001b[49m\u001b[43mpit\u001b[49m\u001b[38;5;241;43m=\u001b[39;49m\u001b[38;5;28;43;01mTrue\u001b[39;49;00m\u001b[43m,\u001b[49m\u001b[43m \u001b[49m\u001b[43mpitmask\u001b[49m\u001b[38;5;241;43m=\u001b[39;49m\u001b[43mpitmask\u001b[49m\u001b[43m,\u001b[49m\u001b[43m \u001b[49m\u001b[43mpitmaskdesc\u001b[49m\u001b[38;5;241;43m=\u001b[39;49m\u001b[38;5;124;43mr\u001b[39;49m\u001b[38;5;124;43m\"\u001b[39;49m\u001b[38;5;124;43m$i<\u001b[39;49m\u001b[38;5;124;43m\"\u001b[39;49m\u001b[38;5;241;43m+\u001b[39;49m\u001b[38;5;124;43mf\u001b[39;49m\u001b[38;5;124;43m\"\u001b[39;49m\u001b[38;5;132;43;01m{\u001b[39;49;00m\u001b[43mimag\u001b[49m\u001b[38;5;132;43;01m}\u001b[39;49;00m\u001b[38;5;124;43m\"\u001b[39;49m\u001b[38;5;241;43m+\u001b[39;49m\u001b[38;5;124;43mr\u001b[39;49m\u001b[38;5;124;43m\"\u001b[39;49m\u001b[38;5;124;43m$\u001b[39;49m\u001b[38;5;124;43m\"\u001b[39;49m\u001b[43m)\u001b[49m\n",
      "File \u001b[0;32m/data1/hbahk/spherex-photoz/spherex-challenge/7ds_challenge/utils.py:531\u001b[0m, in \u001b[0;36mget_result_figures\u001b[0;34m(base, figdir, scheme, pit, pitmask, pitmaskdesc)\u001b[0m\n\u001b[1;32m    529\u001b[0m fig \u001b[38;5;241m=\u001b[39m plt\u001b[38;5;241m.\u001b[39mfigure(figsize\u001b[38;5;241m=\u001b[39m(\u001b[38;5;241m8\u001b[39m, \u001b[38;5;241m6\u001b[39m))\n\u001b[1;32m    530\u001b[0m ax \u001b[38;5;241m=\u001b[39m fig\u001b[38;5;241m.\u001b[39madd_subplot(\u001b[38;5;241m111\u001b[39m)\n\u001b[0;32m--> 531\u001b[0m ax\u001b[38;5;241m.\u001b[39mhist(\u001b[43mbase\u001b[49m\u001b[43m[\u001b[49m\u001b[38;5;124;43m\"\u001b[39;49m\u001b[38;5;124;43mpit\u001b[39;49m\u001b[38;5;124;43m\"\u001b[39;49m\u001b[43m]\u001b[49m, bins\u001b[38;5;241m=\u001b[39m\u001b[38;5;241m50\u001b[39m, histtype\u001b[38;5;241m=\u001b[39m\u001b[38;5;124m\"\u001b[39m\u001b[38;5;124mstepfilled\u001b[39m\u001b[38;5;124m\"\u001b[39m, lw\u001b[38;5;241m=\u001b[39m\u001b[38;5;241m1\u001b[39m, color\u001b[38;5;241m=\u001b[39m\u001b[38;5;124m\"\u001b[39m\u001b[38;5;124mcornflowerblue\u001b[39m\u001b[38;5;124m\"\u001b[39m)\n\u001b[1;32m    532\u001b[0m ax\u001b[38;5;241m.\u001b[39mset_xlabel(\u001b[38;5;124m\"\u001b[39m\u001b[38;5;124mPIT\u001b[39m\u001b[38;5;124m\"\u001b[39m)\n\u001b[1;32m    533\u001b[0m ax\u001b[38;5;241m.\u001b[39mset_ylabel(\u001b[38;5;124mr\u001b[39m\u001b[38;5;124m\"\u001b[39m\u001b[38;5;124m$N$\u001b[39m\u001b[38;5;124m\"\u001b[39m)\n",
      "File \u001b[0;32m/data1/hbahk/envs/main/lib/python3.9/site-packages/astropy/table/table.py:2055\u001b[0m, in \u001b[0;36mTable.__getitem__\u001b[0;34m(self, item)\u001b[0m\n\u001b[1;32m   2053\u001b[0m \u001b[38;5;28;01mdef\u001b[39;00m \u001b[38;5;21m__getitem__\u001b[39m(\u001b[38;5;28mself\u001b[39m, item):\n\u001b[1;32m   2054\u001b[0m     \u001b[38;5;28;01mif\u001b[39;00m \u001b[38;5;28misinstance\u001b[39m(item, \u001b[38;5;28mstr\u001b[39m):\n\u001b[0;32m-> 2055\u001b[0m         \u001b[38;5;28;01mreturn\u001b[39;00m \u001b[38;5;28;43mself\u001b[39;49m\u001b[38;5;241;43m.\u001b[39;49m\u001b[43mcolumns\u001b[49m\u001b[43m[\u001b[49m\u001b[43mitem\u001b[49m\u001b[43m]\u001b[49m\n\u001b[1;32m   2056\u001b[0m     \u001b[38;5;28;01melif\u001b[39;00m \u001b[38;5;28misinstance\u001b[39m(item, (\u001b[38;5;28mint\u001b[39m, np\u001b[38;5;241m.\u001b[39minteger)):\n\u001b[1;32m   2057\u001b[0m         \u001b[38;5;28;01mreturn\u001b[39;00m \u001b[38;5;28mself\u001b[39m\u001b[38;5;241m.\u001b[39mRow(\u001b[38;5;28mself\u001b[39m, item)\n",
      "File \u001b[0;32m/data1/hbahk/envs/main/lib/python3.9/site-packages/astropy/table/table.py:264\u001b[0m, in \u001b[0;36mTableColumns.__getitem__\u001b[0;34m(self, item)\u001b[0m\n\u001b[1;32m    253\u001b[0m \u001b[38;5;124;03m\"\"\"Get items from a TableColumns object.\u001b[39;00m\n\u001b[1;32m    254\u001b[0m \n\u001b[1;32m    255\u001b[0m \u001b[38;5;124;03m::\u001b[39;00m\n\u001b[0;32m   (...)\u001b[0m\n\u001b[1;32m    261\u001b[0m \u001b[38;5;124;03m  tc[1:3] # <TableColumns names=('b', 'c')>\u001b[39;00m\n\u001b[1;32m    262\u001b[0m \u001b[38;5;124;03m\"\"\"\u001b[39;00m\n\u001b[1;32m    263\u001b[0m \u001b[38;5;28;01mif\u001b[39;00m \u001b[38;5;28misinstance\u001b[39m(item, \u001b[38;5;28mstr\u001b[39m):\n\u001b[0;32m--> 264\u001b[0m     \u001b[38;5;28;01mreturn\u001b[39;00m \u001b[43mOrderedDict\u001b[49m\u001b[38;5;241;43m.\u001b[39;49m\u001b[38;5;21;43m__getitem__\u001b[39;49m\u001b[43m(\u001b[49m\u001b[38;5;28;43mself\u001b[39;49m\u001b[43m,\u001b[49m\u001b[43m \u001b[49m\u001b[43mitem\u001b[49m\u001b[43m)\u001b[49m\n\u001b[1;32m    265\u001b[0m \u001b[38;5;28;01melif\u001b[39;00m \u001b[38;5;28misinstance\u001b[39m(item, (\u001b[38;5;28mint\u001b[39m, np\u001b[38;5;241m.\u001b[39minteger)):\n\u001b[1;32m    266\u001b[0m     \u001b[38;5;28;01mreturn\u001b[39;00m \u001b[38;5;28mlist\u001b[39m(\u001b[38;5;28mself\u001b[39m\u001b[38;5;241m.\u001b[39mvalues())[item]\n",
      "\u001b[0;31mKeyError\u001b[0m: 'pit'"
     ]
    },
    {
     "data": {
      "image/png": "[encoded data removed]",
      "text/plain": [
       "<Figure size 576x432 with 1 Axes>"
      ]
     },
     "metadata": {
      "image/png": {
       "height": 375,
       "width": 515
      },
      "needs_background": "light"
     },
     "output_type": "display_data"
    }
   ],
   "source": [
    "surveys = [\"IMS\", \"WFS\", \"RIS\",]\n",
    "imags = [23, 22, 20]\n",
    "for survey, imag in zip(surveys, imags):\n",
    "    outdir = WD/\"output\"/f\"output_{survey}\"\n",
    "    figdir = outdir/\"figures\"\n",
    "    figdir.mkdir(exist_ok=True)\n",
    "    result = Table.read(outdir/\"result.fits\")\n",
    "    pitmask = result[\"HSC_i_MAG\"] < imag\n",
    "    result.rename_column(\"z_spec\", \"z_true\")\n",
    "    get_result_figures(result, figdir, survey, pit=True, pitmask=pitmask, pitmaskdesc=r\"$i<\"+f\"{imag}\"+r\"$\")"
   ]
  },
  {
   "cell_type": "code",
   "execution_count": 6,
   "metadata": {},
   "outputs": [
    {
     "data": {
      "text/html": [
       "<div><i>Table length=166041</i>\n",
       "<table id=\"table140587749552240\" class=\"table-striped table-bordered table-condensed\">\n",
       "<thead><tr><th>ID</th><th>HSC_i_MAG</th><th>z_true</th><th>FLAG_ML</th><th>ra</th><th>dec</th><th>E_B-V_</th><th>Classic</th><th>EZzphot</th><th>F419</th><th>F420</th><th>F421</th><th>F422</th><th>F423</th><th>F424</th><th>F425</th><th>F426</th><th>F427</th><th>F428</th><th>F429</th><th>F430</th><th>F431</th><th>F432</th><th>F433</th><th>F434</th><th>F435</th><th>F436</th><th>F437</th><th>F438</th><th>E419</th><th>E420</th><th>E421</th><th>E422</th><th>E423</th><th>E424</th><th>E425</th><th>E426</th><th>E427</th><th>E428</th><th>E429</th><th>E430</th><th>E431</th><th>E432</th><th>E433</th><th>E434</th><th>E435</th><th>E436</th><th>E437</th><th>E438</th><th>z_phot</th><th>z_phot_chi2</th><th>z160</th><th>z840</th><th>id</th></tr></thead>\n",
       "<thead><tr><th>int64</th><th>float64</th><th>float64</th><th>float64</th><th>float64</th><th>float64</th><th>float64</th><th>int64</th><th>float64</th><th>float64</th><th>float64</th><th>float64</th><th>float64</th><th>float64</th><th>float64</th><th>float64</th><th>float64</th><th>float64</th><th>float64</th><th>float64</th><th>float64</th><th>float64</th><th>float64</th><th>float64</th><th>float64</th><th>float64</th><th>float64</th><th>float64</th><th>float64</th><th>float64</th><th>float64</th><th>float64</th><th>float64</th><th>float64</th><th>float64</th><th>float64</th><th>float64</th><th>float64</th><th>float64</th><th>float64</th><th>float64</th><th>float64</th><th>float64</th><th>float64</th><th>float64</th><th>float64</th><th>float64</th><th>float64</th><th>float64</th><th>float64</th><th>float64</th><th>float64</th><th>float64</th><th>float64</th></tr></thead>\n",
       "<tr><td>12</td><td>23.990103981421147</td><td>0.707</td><td>0.0</td><td>150.47679031</td><td>2.33150699</td><td>0.014723000000000002</td><td>962809</td><td>0.6809810000000001</td><td>0.40049770149460284</td><td>0.5078999488291236</td><td>0.2963054331463698</td><td>0.3335773725294298</td><td>0.09632781075085359</td><td>0.21192752586334654</td><td>0.37209524197826066</td><td>0.29368319984589747</td><td>0.4985870900193809</td><td>0.4046981079202723</td><td>0.3725967722012696</td><td>0.6751451221323529</td><td>0.7335593340776831</td><td>1.0759871857767476</td><td>0.6807956725650958</td><td>1.184172133594535</td><td>0.9488228953306005</td><td>0.5163122176461388</td><td>1.267783441864066</td><td>1.0484799666863904</td><td>0.12772560052432094</td><td>0.11387962045581174</td><td>0.10839052197376808</td><td>0.10817636615811946</td><td>0.10437727725409991</td><td>0.1112288824337841</td><td>0.13267015359507206</td><td>0.13184519400400985</td><td>0.1461283265740689</td><td>0.17801847567707968</td><td>0.16864207043732382</td><td>0.1791378725006872</td><td>0.2072308907717925</td><td>0.2797763431091668</td><td>0.3134661478735132</td><td>0.4545645852922471</td><td>0.5045852615320934</td><td>0.5662332409277782</td><td>0.7237828478570381</td><td>1.0045318576971731</td><td>0.7945095300674438</td><td>12.572508811950684</td><td>0.6266355514526367</td><td>1.6924772262573242</td><td>12.0</td></tr>\n",
       "<tr><td>27</td><td>24.875468381594267</td><td>0.7751</td><td>0.0</td><td>150.71248825</td><td>1.79210579</td><td>0.018367</td><td>387749</td><td>0.7748600000000001</td><td>0.1555804207561737</td><td>0.23298046022847965</td><td>0.20890100061051156</td><td>0.2425297540900066</td><td>0.13264911732809592</td><td>-0.0433434970476219</td><td>0.35263735305899857</td><td>0.16517200662142031</td><td>0.3326562541108519</td><td>0.3481771377052659</td><td>0.34860829092313544</td><td>0.02851365349579364</td><td>0.008300258547255055</td><td>0.42246510939716175</td><td>0.46133413411519236</td><td>0.14976108017397355</td><td>0.851427575477548</td><td>-0.897450868898974</td><td>0.2007836151573084</td><td>2.190287917569994</td><td>0.12762509466835778</td><td>0.11378978870803297</td><td>0.10830610016743172</td><td>0.1081038162090855</td><td>0.10429418725856796</td><td>0.11114809639838144</td><td>0.1326006719991642</td><td>0.13176752195440508</td><td>0.14605500324842657</td><td>0.17786784737357897</td><td>0.16846603974830524</td><td>0.1789315807075524</td><td>0.20697474783076347</td><td>0.2795536598475472</td><td>0.3132480706679894</td><td>0.45435525020422407</td><td>0.5043646250919653</td><td>0.5659866828358857</td><td>0.7234516116407833</td><td>1.0043847645427422</td><td>0.750039279460907</td><td>19.01792335510254</td><td>0.4972153306007385</td><td>1.8505767583847046</td><td>27.0</td></tr>\n",
       "<tr><td>57</td><td>24.701907916699273</td><td>0.9672</td><td>0.0</td><td>150.71818794</td><td>1.79272545</td><td>0.018322</td><td>389282</td><td>1.1766590000000001</td><td>-0.054737980225801494</td><td>0.04076737416359779</td><td>0.19915366253184433</td><td>0.03687395897230117</td><td>-0.09475717700582041</td><td>0.22444761604077712</td><td>0.30358720097369435</td><td>-0.06753550541133471</td><td>0.12421776007421409</td><td>0.17713751348287443</td><td>0.08627032336250276</td><td>0.2326219235041975</td><td>0.21709594958645737</td><td>0.07597485583211182</td><td>0.677247753679458</td><td>0.03490887039540123</td><td>-0.2480045975157707</td><td>0.7788508763142791</td><td>1.1624588195869474</td><td>1.2659804772021994</td><td>0.1275851634339583</td><td>0.11375130576334735</td><td>0.10826689082059997</td><td>0.1080594647816753</td><td>0.1042494542311209</td><td>0.11110165214751623</td><td>0.13255633589986265</td><td>0.13172823514975307</td><td>0.14601737853200192</td><td>0.17783937574050313</td><td>0.16842310562925578</td><td>0.17887109400639423</td><td>0.20692856795829775</td><td>0.2795355640202538</td><td>0.3132266091940865</td><td>0.45435071828231227</td><td>0.504491708276954</td><td>0.566135925331746</td><td>0.7235979580280588</td><td>1.0046030766284597</td><td>1.8208976984024048</td><td>14.711345672607422</td><td>1.058492660522461</td><td>3.231773614883423</td><td>57.0</td></tr>\n",
       "<tr><td>73</td><td>22.48269003598378</td><td>0.429</td><td>1.0</td><td>149.46802488</td><td>1.6256133</td><td>0.016032</td><td>223727</td><td>0.43394200000000005</td><td>0.7226129138786842</td><td>1.014288922428972</td><td>1.1581251416199758</td><td>1.3547618005051005</td><td>1.400602041888884</td><td>1.616632135249312</td><td>2.2694297446494174</td><td>2.474247850057344</td><td>2.9859002690302696</td><td>2.6522513206686162</td><td>3.3694931983719636</td><td>3.5530225794887795</td><td>3.283500613480419</td><td>3.7532825007462294</td><td>3.793716830437237</td><td>3.65305438092117</td><td>3.914739544396484</td><td>4.734975203242984</td><td>5.164469807302925</td><td>4.4082057736409705</td><td>0.12824829191612544</td><td>0.11452386712447703</td><td>0.10910970207477683</td><td>0.10900060223368876</td><td>0.10529780578041016</td><td>0.11253702196946067</td><td>0.1347654223654789</td><td>0.1348061563993731</td><td>0.14945706282396798</td><td>0.18067431455374316</td><td>0.17213943650547076</td><td>0.18271779798586546</td><td>0.21057968912922717</td><td>0.2826978277597573</td><td>0.3162551216604109</td><td>0.45681249870817014</td><td>0.5068566787537366</td><td>0.5686421364911033</td><td>0.7258077475191598</td><td>1.0064684941657884</td><td>0.43086308240890503</td><td>11.668225288391113</td><td>0.35603246092796326</td><td>0.45433375239372253</td><td>73.0</td></tr>\n",
       "<tr><td>74</td><td>23.767750415802425</td><td>1.5087</td><td>0.0</td><td>150.48801441</td><td>1.87542049</td><td>0.016019000000000002</td><td>474228</td><td>1.5545130000000003</td><td>0.9043723451691895</td><td>0.9241546345824337</td><td>0.8376749717354218</td><td>1.0431517736839278</td><td>0.9686406955233214</td><td>0.8291589385989732</td><td>0.8567698400850087</td><td>1.0772021769260163</td><td>1.22920871519457</td><td>0.96780645144338</td><td>1.0900818913388457</td><td>0.7175984913601234</td><td>1.135410787981521</td><td>1.1838429951698604</td><td>1.691370314690319</td><td>0.920774515144222</td><td>0.7390915193966872</td><td>1.953368050098978</td><td>1.3896700643417654</td><td>1.5232801094989303</td><td>0.1281414292164226</td><td>0.11436000316399687</td><td>0.1088881960944967</td><td>0.1086508087412815</td><td>0.10487646150284026</td><td>0.11171071287329465</td><td>0.13309620466582675</td><td>0.13228021723409972</td><td>0.1465128632530602</td><td>0.17826478843277516</td><td>0.16888661625908186</td><td>0.1793645731658265</td><td>0.20736966760174141</td><td>0.2798974049623964</td><td>0.31362758876770125</td><td>0.45466371650188114</td><td>0.5046800652243358</td><td>0.5663326183747645</td><td>0.7237436497938352</td><td>1.0046306755005667</td><td>0.5092815160751343</td><td>11.821293830871582</td><td>0.5042232871055603</td><td>1.2420574426651</td><td>74.0</td></tr>\n",
       "<tr><td>82</td><td>24.707701668462914</td><td>0.3562</td><td>1.0</td><td>150.72868387</td><td>2.5438014</td><td>0.017903000000000002</td><td>1184955</td><td>0.39554600000000006</td><td>0.14039065373170553</td><td>-0.2938540683466727</td><td>0.033638844151240375</td><td>-0.07743565071900796</td><td>0.38460734012883974</td><td>0.3265031654880933</td><td>0.2719180897423249</td><td>0.1248808937549619</td><td>0.3633882275706825</td><td>0.5269082330572408</td><td>0.43834515884022535</td><td>0.35634177846275245</td><td>0.5156639286424224</td><td>0.28025028973087474</td><td>0.0011906167084311334</td><td>0.8914835964357261</td><td>-0.07196499501125715</td><td>0.5424006921104023</td><td>1.121363087645094</td><td>-0.9980672854259383</td><td>0.12760564155599408</td><td>0.11377310463124916</td><td>0.10828994512091321</td><td>0.10808577033417094</td><td>0.10429338766436502</td><td>0.11116908170945859</td><td>0.13263719709600452</td><td>0.13181793757277321</td><td>0.14610023185580664</td><td>0.1779205754025908</td><td>0.16850050655782978</td><td>0.17896498041731973</td><td>0.20699779472240817</td><td>0.2795668177806003</td><td>0.3132728075902983</td><td>0.4543681550157149</td><td>0.5043897522997512</td><td>0.5660116274008955</td><td>0.7234658375911582</td><td>1.0043702269656718</td><td>0.2747623026371002</td><td>28.293668746948242</td><td>0.2558133006095886</td><td>3.837280750274658</td><td>82.0</td></tr>\n",
       "<tr><td>85</td><td>23.76854613020753</td><td>1.08</td><td>0.0</td><td>150.47643824</td><td>2.33418806</td><td>0.014780000000000001</td><td>965709</td><td>1.0853000000000002</td><td>0.5793830888506274</td><td>0.6986017789224432</td><td>0.5481730172115074</td><td>0.8104620328456229</td><td>0.7366923094263066</td><td>0.5988099310380193</td><td>0.573504336247755</td><td>0.8290506171522416</td><td>0.8532286876615509</td><td>0.6241229446603187</td><td>0.6862112196330155</td><td>0.8455684541829899</td><td>0.7035077012368708</td><td>0.8183124474387998</td><td>0.7662772422559524</td><td>0.9791622159523762</td><td>1.559034442493181</td><td>0.330424663161681</td><td>1.7005468479624792</td><td>0.9055398396623492</td><td>0.12790011624387332</td><td>0.11408061035140042</td><td>0.10859354007176737</td><td>0.10836644659766953</td><td>0.10455254001637239</td><td>0.1114047601122535</td><td>0.13284814466763142</td><td>0.1320230200498357</td><td>0.14631372201272572</td><td>0.1781091140946582</td><td>0.16871047055940078</td><td>0.17916522611202362</td><td>0.20721974666959364</td><td>0.27975499610297966</td><td>0.3134768471243684</td><td>0.45476020905043535</td><td>0.5047232437539119</td><td>0.5663800477680154</td><td>0.7238533642642867</td><td>1.0047055411512071</td><td>1.1651684045791626</td><td>9.126945495605469</td><td>0.5884090065956116</td><td>1.5293046236038208</td><td>85.0</td></tr>\n",
       "<tr><td>104</td><td>24.480462347939646</td><td>1.2817</td><td>0.0</td><td>149.47572426</td><td>1.62630687</td><td>0.016092000000000002</td><td>223552</td><td>1.2979530000000001</td><td>0.3153430905155396</td><td>0.26853515836495906</td><td>0.4510570333555601</td><td>0.43908707134542746</td><td>0.26016182708333424</td><td>0.35477970014822174</td><td>0.5065107193817554</td><td>0.5459372380484216</td><td>0.5084432130327752</td><td>0.7049176470379853</td><td>0.1919861500274225</td><td>0.2697247914979936</td><td>0.7020751932248614</td><td>0.40256827273650286</td><td>0.8205472044681426</td><td>0.7414484331365417</td><td>0.9479418483559063</td><td>1.6674438506043165</td><td>1.0590611934483987</td><td>2.527106602537006</td><td>0.12772370414362175</td><td>0.1138882814942448</td><td>0.10839928502416006</td><td>0.10819713047564002</td><td>0.10439700587625243</td><td>0.11124900155834593</td><td>0.1326870722060425</td><td>0.13186233577539197</td><td>0.146152648845029</td><td>0.1779578254496079</td><td>0.16854047898119004</td><td>0.17900675309511727</td><td>0.20705910627277438</td><td>0.2796180771224163</td><td>0.3133310387211096</td><td>0.45441015561099835</td><td>0.5044334123460225</td><td>0.5660624346557992</td><td>0.7236623865585173</td><td>1.0045390715902869</td><td>1.807395577430725</td><td>11.664020538330078</td><td>1.0850597620010376</td><td>2.7877357006073</td><td>104.0</td></tr>\n",
       "<tr><td>129</td><td>24.334761096800534</td><td>3.4618</td><td>0.0</td><td>150.72468229</td><td>2.54390945</td><td>0.017883000000000003</td><td>1185951</td><td>3.1178930000000005</td><td>0.13333072086508474</td><td>0.09362716959397155</td><td>0.1128398111500196</td><td>0.06847083768807888</td><td>0.26859533790007173</td><td>0.13597935416615808</td><td>0.6602565350146481</td><td>0.5906325745752963</td><td>0.577971390892927</td><td>0.7358790223937381</td><td>0.46216826653352483</td><td>0.6263919377907855</td><td>0.3549388795337224</td><td>0.3523578966035985</td><td>0.14954310608617508</td><td>0.38518180223042464</td><td>0.8117744903129943</td><td>0.09527490727697967</td><td>0.8080207610161215</td><td>0.7756809227869272</td><td>0.12757817856774456</td><td>0.11375132189218702</td><td>0.10827467145794298</td><td>0.10808519955049237</td><td>0.10428170756800885</td><td>0.1111294039795089</td><td>0.13262852062721087</td><td>0.13186802359456073</td><td>0.14618013198152008</td><td>0.17797053943806215</td><td>0.16859068862405</td><td>0.1790326747604016</td><td>0.207067590075356</td><td>0.27965591713891724</td><td>0.31338789333170053</td><td>0.4544584948473957</td><td>0.5044902041261645</td><td>0.5661055827047567</td><td>0.7235399271962252</td><td>1.004438417831031</td><td>0.34762251377105713</td><td>16.498689651489258</td><td>0.26015764474868774</td><td>3.2110531330108643</td><td>129.0</td></tr>\n",
       "<tr><td>134</td><td>24.1068101187983</td><td>1.1812</td><td>0.0</td><td>149.46234295</td><td>1.62647838</td><td>0.016006000000000003</td><td>224752</td><td>1.192117</td><td>-0.11524466068756999</td><td>0.09617506293804803</td><td>0.08271809631079757</td><td>0.034074112285429815</td><td>0.06208420952234414</td><td>-0.0879479249947902</td><td>0.07717420261779408</td><td>0.0486469775057373</td><td>0.09056837944174422</td><td>0.3070610499002111</td><td>0.19829563529061361</td><td>0.6378785316934668</td><td>0.5070875834521972</td><td>0.7279600038988823</td><td>0.6343968479769775</td><td>-0.249207594076482</td><td>0.8480492766551394</td><td>0.7721978796150988</td><td>1.0720632562501784</td><td>2.2487417046946883</td><td>0.12758265636144764</td><td>0.11375095831358682</td><td>0.10827011004760319</td><td>0.1080656238188851</td><td>0.10425607282720847</td><td>0.11110429695308553</td><td>0.1325629000265808</td><td>0.13173919758547703</td><td>0.14602232172377297</td><td>0.17786564173282157</td><td>0.16847340234379213</td><td>0.17896267048829473</td><td>0.20703372560014718</td><td>0.2796499222326584</td><td>0.31338544236579946</td><td>0.4545082275931979</td><td>0.5046125816984609</td><td>0.5663968302395722</td><td>0.7238991078373307</td><td>1.0050350764603802</td><td>2.251326322555542</td><td>8.732430458068848</td><td>0.985278844833374</td><td>2.3277876377105713</td><td>134.0</td></tr>\n",
       "<tr><td>...</td><td>...</td><td>...</td><td>...</td><td>...</td><td>...</td><td>...</td><td>...</td><td>...</td><td>...</td><td>...</td><td>...</td><td>...</td><td>...</td><td>...</td><td>...</td><td>...</td><td>...</td><td>...</td><td>...</td><td>...</td><td>...</td><td>...</td><td>...</td><td>...</td><td>...</td><td>...</td><td>...</td><td>...</td><td>...</td><td>...</td><td>...</td><td>...</td><td>...</td><td>...</td><td>...</td><td>...</td><td>...</td><td>...</td><td>...</td><td>...</td><td>...</td><td>...</td><td>...</td><td>...</td><td>...</td><td>...</td><td>...</td><td>...</td><td>...</td><td>...</td><td>...</td><td>...</td><td>...</td></tr>\n",
       "<tr><td>601266</td><td>22.12988620700954</td><td>0.3956</td><td>0.0</td><td>150.38912823</td><td>1.67272761</td><td>0.016762000000000003</td><td>269232</td><td>0.41271500000000005</td><td>1.1627174614121307</td><td>1.4655574915682836</td><td>1.5070186267067691</td><td>1.7528639620671342</td><td>1.869831689261506</td><td>2.2510364923846833</td><td>2.9988810675301285</td><td>3.1496780794323835</td><td>3.483381697257341</td><td>4.003795837705125</td><td>4.052254387571684</td><td>4.540174397190848</td><td>5.010463982929246</td><td>4.614640582537712</td><td>4.861392404722571</td><td>5.346225872157212</td><td>5.133475800685841</td><td>5.013807492915442</td><td>4.66377058663594</td><td>3.4238784656521655</td><td>0.12847656936933877</td><td>0.11488888930496752</td><td>0.1095483885276229</td><td>0.10955332750020037</td><td>0.10599977727657234</td><td>0.11424708582706665</td><td>0.13611332671917034</td><td>0.13644012134292777</td><td>0.15063137199245966</td><td>0.18246711599323498</td><td>0.1741030159718453</td><td>0.18512955235034942</td><td>0.21394944431560714</td><td>0.2839519887208103</td><td>0.3180851395698004</td><td>0.4583287337157666</td><td>0.5084325624927807</td><td>0.5702288884747271</td><td>0.7270612700133168</td><td>1.0074575222916786</td><td>0.390065997838974</td><td>11.693533897399902</td><td>0.3844037353992462</td><td>0.41203799843788147</td><td>601266.0</td></tr>\n",
       "<tr><td>601285</td><td>23.08134887836266</td><td>0.3037</td><td>0.0</td><td>150.76414183</td><td>2.11412999</td><td>0.015794000000000002</td><td>724937</td><td>11.935175000000001</td><td>0.36043427694817826</td><td>0.5532121443424443</td><td>0.5569456207136956</td><td>0.7645980421011742</td><td>0.9046886923741766</td><td>1.0502074088554594</td><td>1.0154950783535555</td><td>1.3899263317263768</td><td>1.339006529941309</td><td>1.7393929836643203</td><td>2.2430049587806002</td><td>1.3023255727276477</td><td>1.825883166140871</td><td>1.1863782370109752</td><td>1.0822329413973504</td><td>1.880943526121241</td><td>2.0673522949632392</td><td>1.5223912015734233</td><td>1.6283617719418433</td><td>2.253320633137437</td><td>0.12783547733602754</td><td>0.11401746223207654</td><td>0.10853690521543731</td><td>0.10845283432789596</td><td>0.10480021066751824</td><td>0.11174408026903357</td><td>0.1331327827126643</td><td>0.13254051084806587</td><td>0.1467496092195488</td><td>0.17872960346062053</td><td>0.1703408089207087</td><td>0.1797035765920117</td><td>0.2078029451669576</td><td>0.28027717185509515</td><td>0.31406288735532906</td><td>0.4550625984201406</td><td>0.5050661891878299</td><td>0.5667993840702457</td><td>0.7250304757806751</td><td>1.0051070042369517</td><td>0.28292834758758545</td><td>13.31944751739502</td><td>0.27942517399787903</td><td>0.3071592450141907</td><td>601285.0</td></tr>\n",
       "<tr><td>601286</td><td>21.862766103048436</td><td>0.4922</td><td>0.0</td><td>149.56839546</td><td>1.83552944</td><td>0.017118</td><td>434576</td><td>0.47444000000000003</td><td>1.4748992389346265</td><td>1.6493957332109284</td><td>1.7166816638482736</td><td>2.1264220709811505</td><td>2.1320717518227195</td><td>2.3441841118120337</td><td>2.7526608631114144</td><td>3.701692763265749</td><td>4.561997844699595</td><td>5.0868354341014355</td><td>4.946611788712093</td><td>5.624972996884107</td><td>6.040173867297433</td><td>6.077518891623596</td><td>6.939618661100642</td><td>5.314894602892257</td><td>5.7945573931002805</td><td>6.538921900050521</td><td>6.181144518924302</td><td>6.503378621507405</td><td>0.12892283710980512</td><td>0.11532501207476716</td><td>0.1101974322581779</td><td>0.1102471173540726</td><td>0.1067028666558894</td><td>0.11370584593965816</td><td>0.13586687941898</td><td>0.13768740518429504</td><td>0.15278424366302137</td><td>0.18579636317731207</td><td>0.17674248475180454</td><td>0.18894171641766674</td><td>0.21718795106271463</td><td>0.2883134338454599</td><td>0.3222406251299079</td><td>0.46045236092277203</td><td>0.5108778353552774</td><td>0.5728873433206088</td><td>0.7296855253345303</td><td>1.0093421355832741</td><td>0.49279385805130005</td><td>9.897306442260742</td><td>0.4866001009941101</td><td>0.5031841993331909</td><td>601286.0</td></tr>\n",
       "<tr><td>601290</td><td>24.613078903831617</td><td>2.1965</td><td>0.0</td><td>149.81784145</td><td>2.5198115</td><td>0.016236</td><td>1160328</td><td>2.016356</td><td>0.163454023561226</td><td>0.23649005630779846</td><td>0.3445245375169346</td><td>0.3779970617446491</td><td>0.15425647429300146</td><td>0.3299843449908659</td><td>0.37816283976640325</td><td>0.4548419491649937</td><td>0.32985634110370415</td><td>0.5663590494878792</td><td>0.47662563328563035</td><td>0.41776471530843673</td><td>0.4241146088159884</td><td>0.3668861130802219</td><td>0.6650159108485227</td><td>-0.22914077722069645</td><td>1.2888736632938225</td><td>0.6961173518502718</td><td>-0.09169921420989337</td><td>-0.2119973942749775</td><td>0.1276638463107431</td><td>0.11385364074865094</td><td>0.10836707347133094</td><td>0.10817392368512758</td><td>0.10435599265249922</td><td>0.11122971047606145</td><td>0.1326801932828903</td><td>0.13186102829190982</td><td>0.14612773631136658</td><td>0.17793423337875816</td><td>0.16850848051006623</td><td>0.17895781355283463</td><td>0.2069998364894051</td><td>0.27956801803311154</td><td>0.31326497305972034</td><td>0.45436980046388853</td><td>0.5043930096438597</td><td>0.5660240468270696</td><td>0.7234892333383969</td><td>1.0043851298875615</td><td>0.621377170085907</td><td>10.210935592651367</td><td>0.4398954212665558</td><td>1.7163960933685303</td><td>601290.0</td></tr>\n",
       "<tr><td>601291</td><td>24.27133455977532</td><td>0.8005</td><td>0.0</td><td>150.33245386</td><td>2.67824458</td><td>0.016311000000000003</td><td>1322638</td><td>0.7670680000000001</td><td>0.07242460838109165</td><td>-0.07352576840657057</td><td>0.0023013228319024638</td><td>0.07081471259956999</td><td>0.03825887503351215</td><td>0.010907853873922532</td><td>0.2626164281144518</td><td>0.3973980762246248</td><td>0.293044715301239</td><td>0.14536254290786169</td><td>0.27030800251628756</td><td>0.15316199241345027</td><td>0.533262445359576</td><td>0.8023285802314335</td><td>-0.03109784278968963</td><td>0.984479971134634</td><td>1.101716115562097</td><td>0.9314659607658551</td><td>0.9197789298366666</td><td>0.14565889842874466</td><td>0.12758552061937176</td><td>0.11375356061703837</td><td>0.10827286309002661</td><td>0.10807065761252352</td><td>0.10426271310797236</td><td>0.11111917189957182</td><td>0.1325800224885957</td><td>0.13174975930790217</td><td>0.1460406889768422</td><td>0.1778605073842985</td><td>0.1684361890983307</td><td>0.17893601446954172</td><td>0.20701686419242696</td><td>0.2796320495180622</td><td>0.31337629476741097</td><td>0.45446823086056864</td><td>0.504529256842177</td><td>0.566209490401948</td><td>0.723674562369421</td><td>1.0045800813633237</td><td>1.6861969232559204</td><td>11.988358497619629</td><td>0.6027697324752808</td><td>2.391573190689087</td><td>601291.0</td></tr>\n",
       "<tr><td>601302</td><td>23.736425468137693</td><td>1.089</td><td>0.0</td><td>150.12957544</td><td>1.84261132</td><td>0.014967000000000001</td><td>440349</td><td>1.0811870000000001</td><td>0.5874157268255762</td><td>0.5664703927939247</td><td>0.42115588278963184</td><td>0.6693465665012492</td><td>0.6158278129640608</td><td>0.8099046622869943</td><td>0.7639015859627795</td><td>0.7110175486057372</td><td>0.57359208907719</td><td>0.5290059848393933</td><td>1.0866848240163496</td><td>0.7351167732815652</td><td>0.8866769925270038</td><td>0.9490262161301442</td><td>0.6579386825875745</td><td>1.0058179045407931</td><td>0.06834162766201575</td><td>2.183694668180597</td><td>0.48512182627184786</td><td>1.0530369055161903</td><td>0.1278593411067094</td><td>0.1140301255545417</td><td>0.10853535533412094</td><td>0.10832317715043617</td><td>0.10452000554291489</td><td>0.11138259595609695</td><td>0.13283370692954352</td><td>0.13201402496263206</td><td>0.14630825496877237</td><td>0.17810765398539657</td><td>0.16871232576681164</td><td>0.179167615337057</td><td>0.20723139935871945</td><td>0.27976867838985153</td><td>0.3134913811222133</td><td>0.45476570550360007</td><td>0.5047267125601931</td><td>0.5664003184864835</td><td>0.7238748898177039</td><td>1.0047246171583533</td><td>0.6597819924354553</td><td>16.472843170166016</td><td>0.28945109248161316</td><td>1.237103819847107</td><td>601302.0</td></tr>\n",
       "<tr><td>601303</td><td>21.929525881356454</td><td>0.5592</td><td>0.0</td><td>150.2803099</td><td>2.25340064</td><td>0.014265000000000002</td><td>879744</td><td>0.669382</td><td>0.12627387052355946</td><td>0.2293651301121043</td><td>0.32615245699437356</td><td>0.4523262022851504</td><td>0.7460019747536896</td><td>0.9548612161595479</td><td>1.2210973380249337</td><td>1.2528497362964577</td><td>1.7620524911811206</td><td>2.4555320848488322</td><td>2.7657741988916955</td><td>3.3520087306494424</td><td>3.9196295163556982</td><td>4.854481564911599</td><td>5.8883116028252465</td><td>5.4532436921938165</td><td>5.370835957912227</td><td>7.177290338427116</td><td>7.225852524287179</td><td>8.281477695154363</td><td>0.12765046940416025</td><td>0.11384125803743761</td><td>0.10840995395968353</td><td>0.1083033586626693</td><td>0.1046115605682114</td><td>0.11163735091438075</td><td>0.13314872016197937</td><td>0.1325839434875012</td><td>0.1472966790614857</td><td>0.17988147176948813</td><td>0.17158122543154344</td><td>0.1827381495981672</td><td>0.2123156921953651</td><td>0.28487915866013436</td><td>0.3198552203027639</td><td>0.4596818793324392</td><td>0.5096663826845823</td><td>0.5724914782972211</td><td>0.7297478618042672</td><td>1.0103539844851357</td><td>0.5117424726486206</td><td>10.09361743927002</td><td>0.5072565674781799</td><td>0.6142510771751404</td><td>601303.0</td></tr>\n",
       "<tr><td>601305</td><td>22.928291030031573</td><td>0.3745</td><td>0.0</td><td>149.4461531</td><td>1.84428172</td><td>0.017262000000000003</td><td>442443</td><td>0.37322900000000003</td><td>0.9806456944258242</td><td>0.9199367086117048</td><td>1.0064312584728248</td><td>1.0711589821333194</td><td>1.388073141759621</td><td>1.646316736439767</td><td>1.4492865897610705</td><td>1.6976508975695708</td><td>1.941961358972514</td><td>1.6968233528944914</td><td>1.8948390032218378</td><td>2.6705203193060605</td><td>2.3220767790031833</td><td>2.123528091485287</td><td>2.0519949829859394</td><td>2.8836208679581654</td><td>2.0596249826637245</td><td>2.1516043628180475</td><td>2.5927740851994</td><td>2.6182885939569687</td><td>0.128223481872206</td><td>0.11441779779537047</td><td>0.10893510405492071</td><td>0.10876180813150957</td><td>0.10521961333649801</td><td>0.11263555680451458</td><td>0.13386875068201323</td><td>0.13318649617151712</td><td>0.14759815947183766</td><td>0.17912297164649893</td><td>0.1699065221205211</td><td>0.18150771021224824</td><td>0.20941145128906988</td><td>0.28074993215429905</td><td>0.3145282782801418</td><td>0.45541360315788953</td><td>0.5055197352890155</td><td>0.56715300989688</td><td>0.7244807382187078</td><td>1.0053577126743154</td><td>0.36768415570259094</td><td>11.174115180969238</td><td>0.33545273542404175</td><td>0.3769235610961914</td><td>601305.0</td></tr>\n",
       "<tr><td>601306</td><td>24.536803399359474</td><td>1.251</td><td>0.0</td><td>150.20873104</td><td>1.91956036</td><td>0.015677000000000003</td><td>518734</td><td>1.246434</td><td>0.4448403836558903</td><td>0.3769398725113616</td><td>0.6588841366183233</td><td>0.5711064860208762</td><td>0.5648312492899669</td><td>0.26917918324142365</td><td>0.6454792281890096</td><td>0.5104040721500086</td><td>0.30531418270504723</td><td>0.8420584497290265</td><td>0.33278099142643647</td><td>0.4559756681859614</td><td>0.5626773630474935</td><td>0.4120879102744008</td><td>0.8043668545128961</td><td>0.6844994030360436</td><td>0.8176412817278096</td><td>0.6796601853313282</td><td>0.6233617848248391</td><td>0.7722328254024188</td><td>0.12776666126018313</td><td>0.11391864818607517</td><td>0.10843852380720337</td><td>0.1082392536313217</td><td>0.10443648682610114</td><td>0.11126980584667907</td><td>0.132703370336417</td><td>0.1318799230653558</td><td>0.14616388289219667</td><td>0.1779595191518032</td><td>0.16854161337837978</td><td>0.1789960724217566</td><td>0.2070370113995994</td><td>0.2795913433591601</td><td>0.31329336111325956</td><td>0.4543787722524719</td><td>0.5043924908523286</td><td>0.5660152753260024</td><td>0.7235211052561443</td><td>1.0044318841956235</td><td>1.0284454822540283</td><td>16.263595581054688</td><td>0.7660406231880188</td><td>2.1086831092834473</td><td>601306.0</td></tr>\n",
       "<tr><td>601307</td><td>23.419138966614625</td><td>0.9887</td><td>0.0</td><td>149.65314841</td><td>1.91801112</td><td>0.017255000000000003</td><td>517960</td><td>0.9661940000000001</td><td>0.8486022094737301</td><td>0.764619503562235</td><td>0.8365446645146113</td><td>0.7763798880990768</td><td>0.8288892696702996</td><td>1.0587029815713078</td><td>1.021267731768535</td><td>0.6928503735658591</td><td>0.8391538161285291</td><td>1.0250040971273104</td><td>1.0330912488787503</td><td>0.8527144936953842</td><td>1.0605160114362693</td><td>1.4401021780048857</td><td>1.3487188006296411</td><td>0.8856407884402954</td><td>1.4962213201256338</td><td>0.853149926086529</td><td>2.3030464934533854</td><td>0.3588008487150213</td><td>0.12806180109282708</td><td>0.11423869411287942</td><td>0.10872207630740051</td><td>0.10850396134561366</td><td>0.10475076410378502</td><td>0.11164954916634175</td><td>0.13302800940329676</td><td>0.1322552544348428</td><td>0.1465322061237879</td><td>0.17829182239539668</td><td>0.16891575414712842</td><td>0.17938682394794514</td><td>0.20742053942002675</td><td>0.27992617626230865</td><td>0.31396678354132385</td><td>0.45491343742490425</td><td>0.5048846031577782</td><td>0.5665417559727232</td><td>0.7239526787501562</td><td>1.0048642197988775</td><td>0.9479976892471313</td><td>12.040942192077637</td><td>0.7017627954483032</td><td>1.435010552406311</td><td>601307.0</td></tr>\n",
       "</table></div>"
      ],
      "text/plain": [
       "<Table length=166041>\n",
       "  ID       HSC_i_MAG       z_true ...         z840           id   \n",
       "int64       float64       float64 ...       float64       float64 \n",
       "------ ------------------ ------- ... ------------------- --------\n",
       "    12 23.990103981421147   0.707 ...  1.6924772262573242     12.0\n",
       "    27 24.875468381594267  0.7751 ...  1.8505767583847046     27.0\n",
       "    57 24.701907916699273  0.9672 ...   3.231773614883423     57.0\n",
       "    73  22.48269003598378   0.429 ... 0.45433375239372253     73.0\n",
       "    74 23.767750415802425  1.5087 ...     1.2420574426651     74.0\n",
       "    82 24.707701668462914  0.3562 ...   3.837280750274658     82.0\n",
       "    85  23.76854613020753    1.08 ...  1.5293046236038208     85.0\n",
       "   104 24.480462347939646  1.2817 ...     2.7877357006073    104.0\n",
       "   129 24.334761096800534  3.4618 ...  3.2110531330108643    129.0\n",
       "   134   24.1068101187983  1.1812 ...  2.3277876377105713    134.0\n",
       "   ...                ...     ... ...                 ...      ...\n",
       "601266  22.12988620700954  0.3956 ... 0.41203799843788147 601266.0\n",
       "601285  23.08134887836266  0.3037 ...  0.3071592450141907 601285.0\n",
       "601286 21.862766103048436  0.4922 ...  0.5031841993331909 601286.0\n",
       "601290 24.613078903831617  2.1965 ...  1.7163960933685303 601290.0\n",
       "601291  24.27133455977532  0.8005 ...   2.391573190689087 601291.0\n",
       "601302 23.736425468137693   1.089 ...   1.237103819847107 601302.0\n",
       "601303 21.929525881356454  0.5592 ...  0.6142510771751404 601303.0\n",
       "601305 22.928291030031573  0.3745 ...  0.3769235610961914 601305.0\n",
       "601306 24.536803399359474   1.251 ...  2.1086831092834473 601306.0\n",
       "601307 23.419138966614625  0.9887 ...   1.435010552406311 601307.0"
      ]
     },
     "execution_count": 6,
     "metadata": {},
     "output_type": "execute_result"
    }
   ],
   "source": [
    "result"
   ]
  }
 ],
 "metadata": {
  "kernelspec": {
   "display_name": "Python 3",
   "language": "python",
   "name": "python3"
  },
  "language_info": {
   "codemirror_mode": {
    "name": "ipython",
    "version": 3
   },
   "file_extension": ".py",
   "mimetype": "text/x-python",
   "name": "python",
   "nbconvert_exporter": "python",
   "pygments_lexer": "ipython3",
   "version": "3.9.7"
  }
 },
 "nbformat": 4,
 "nbformat_minor": 2
}
