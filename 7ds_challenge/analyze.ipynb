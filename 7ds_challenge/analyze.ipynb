{
 "cells": [
  {
   "cell_type": "code",
   "execution_count": null,
   "metadata": {},
   "outputs": [],
   "source": [
    "%load_ext autoreload\n",
    "%autoreload 2"
   ]
  },
  {
   "cell_type": "code",
   "execution_count": null,
   "metadata": {},
   "outputs": [],
   "source": [
    "import matplotlib_inline.backend_inline\n",
    "from matplotlib import pyplot as plt\n",
    "from astropy.table import Table\n",
    "from astropy.io import fits\n",
    "from pathlib import Path\n",
    "import numpy as np\n",
    "import eazy\n",
    "import pickle\n",
    "import gc\n",
    "import os\n",
    "from matplotlib.colors import LogNorm\n",
    "from mpl_toolkits.axes_grid1 import make_axes_locatable\n",
    "\n",
    "matplotlib_inline.backend_inline.set_matplotlib_formats('retina')\n",
    "\n",
    "plt.rcParams[\"font.size\"] = 20\n",
    "plt.rcParams[\"axes.labelsize\"] = 25\n",
    "\n",
    "WD = Path('/data1/hbahk/spherex-photoz/spherex-challenge/7ds_challenge')\n",
    "os.chdir(WD)\n",
    "TEMPDIR = WD.parent / 'BROWN_COSMOS'\n",
    "\n",
    "from utils import get_result_figures"
   ]
  },
  {
   "cell_type": "code",
   "execution_count": null,
   "metadata": {},
   "outputs": [],
   "source": [
    "surveys = [\"IMS\", \"WFS\", \"RIS\",]\n",
    "imags = [23, 22, 20]\n",
    "for survey, imag in zip(surveys, imags):\n",
    "    outdir = WD/\"output\"/f\"output_{survey}\"\n",
    "    figdir = outdir/\"figures\"\n",
    "    figdir.mkdir(exist_ok=True)\n",
    "    result = Table.read(outdir/\"result.fits\")\n",
    "    pitmask = result[\"HSC_i_MAG\"] < imag\n",
    "    get_result_figures(result, figdir, survey, pit=True, pitmask=pitmask, pitmaskdesc=r\"$i<\"+f\"{imag}\"+r\"$\")"
   ]
  }
 ],
 "metadata": {
  "language_info": {
   "name": "python"
  }
 },
 "nbformat": 4,
 "nbformat_minor": 2
}
