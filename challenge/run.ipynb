{
 "cells": [
  {
   "cell_type": "code",
   "execution_count": 13,
   "metadata": {},
   "outputs": [],
   "source": [
    "# retina\n",
    "%config InlineBackend.figure_format = 'retina'"
   ]
  },
  {
   "cell_type": "code",
   "execution_count": 14,
   "metadata": {},
   "outputs": [],
   "source": [
    "import os\n",
    "from pathlib import Path\n",
    "import pickle\n",
    "import numpy as np\n",
    "import gc\n",
    "from matplotlib import pyplot as plt\n",
    "from astropy.io import fits\n",
    "from astropy.table import Table\n",
    "import eazy\n",
    "\n",
    "from matplotlib import rcParams\n",
    "plt.rcParams[\"font.size\"] = 20\n",
    "plt.rcParams[\"axes.labelsize\"] = 25\n",
    "\n",
    "WD = Path('/data1/hbahk/spherex-photoz/spherex-challenge/challenge')\n",
    "os.chdir(WD)\n",
    "\n",
    "from utils import make_eazy_filters_spherex, plot_comp_hexbin"
   ]
  },
  {
   "cell_type": "code",
   "execution_count": 15,
   "metadata": {},
   "outputs": [],
   "source": [
    "params = {}\n",
    "params['FILTERS_RES']       = \"FILTERS+spherex_reduced_fullband_halfband.res\"\n",
    "params['TEMPLATES_FILE']    = \"spherex_brown_cosmos.templates\"\n",
    "params['TEMP_ERR_FILE']     = \"../template_error_cosmos2020.txt\"\n",
    "params['TEMP_ERR_A2']       = 0.0 # nullify the template error\n",
    "\n",
    "params['TEMPLATE_COMBOS']   = 1\n",
    "params['SYS_ERR']           = 0.01\n",
    "\n",
    "params['MW_EBV']            = 0.012\n",
    "params['CAT_HAS_EXTCORR']   = True\n",
    "\n",
    "params['CATALOG_FILE']      = \"data/spherex_synphot_combined.dat\" \n",
    "\n",
    "dir_output = WD/\"output_combined\"\n",
    "\n",
    "if not dir_output.exists():\n",
    "    dir_output.mkdir()\n",
    "params['OUTPUT_DIRECTORY']  = dir_output.as_posix()\n",
    "params['MAIN_OUTPUT_FILE']  = \"output\"\n",
    "\n",
    "params['APPLY_PRIOR']       = True\n",
    "params['PRIOR_FILE']        = \"../prior_K_TAO.dat\"\n",
    "params['PRIOR_FILTER']      = 466  # SPHEREx band corresponding to 2.2um\n",
    "params['PRIOR_ABZP']        = 23.9\n",
    "params['PRIOR_FLOOR']       = 0.01\n",
    "\n",
    "params['FIX_ZSPEC']         = False\n",
    "params['Z_MIN']             = 0.015\n",
    "params['Z_MAX']             = 5.8\n",
    "params['Z_STEP']            = 0.003\n",
    "params['Z_STEP_TYPE']       = 1\n",
    "\n",
    "translate_filename = 'dummy.translate'"
   ]
  },
  {
   "cell_type": "code",
   "execution_count": 16,
   "metadata": {},
   "outputs": [
    {
     "data": {
      "text/plain": [
       "2557"
      ]
     },
     "execution_count": 16,
     "metadata": {},
     "output_type": "execute_result"
    }
   ],
   "source": [
    "import gc\n",
    "gc.collect()"
   ]
  },
  {
   "cell_type": "code",
   "execution_count": null,
   "metadata": {},
   "outputs": [],
   "source": [
    "with open('tempfilt0003_comb.pickle', 'rb') as rfile:\n",
    "    tempfilt = pickle.load(rfile)\n",
    "\n",
    "for i in range(17):\n",
    "    start_id = i * 10000\n",
    "    end_id = (i+1) * 10000\n",
    "\n",
    "    ez = eazy.photoz.PhotoZ(param_file=None, translate_file=translate_filename,\n",
    "                            zeropoint_file=None, params=params, tempfilt=tempfilt, )\n",
    "    \n",
    "    if end_id > len(ez.idx):\n",
    "        end_id = len(ez.idx)\n",
    "    \n",
    "    ez.ZML_WITH_PRIOR = True\n",
    "    ez.fit_catalog(ez.idx[start_id:end_id], n_proc=2, prior=True)\n",
    "    ez.ZML_WITH_PRIOR = True\n",
    "    ez.fit_at_zbest(prior=True, nproc=1)\n",
    "    \n",
    "    zout, hdu = ez.standard_output(prior=True, beta_prior=False)\n",
    "    zout[start_id:end_id].write(dir_output/f'output{i:02d}.fits', overwrite=True)\n",
    "    phdu = fits.PrimaryHDU(data=ez.lnp[start_id:end_id])\n",
    "    gridhdu = fits.ImageHDU(data=ez.zgrid)\n",
    "    hdul = fits.HDUList([phdu, gridhdu])\n",
    "    hdul.writeto(dir_output/f'lnp{i:02d}.fits', overwrite=True)\n",
    "    del ez, zout, hdu, phdu, gridhdu, hdul\n",
    "    gc.collect()"
   ]
  },
  {
   "cell_type": "code",
   "execution_count": 33,
   "metadata": {},
   "outputs": [],
   "source": [
    "params = {}\n",
    "params['FILTERS_RES']       = \"FILTERS+spherex_reduced_fullband_halfband.res\"\n",
    "params['TEMPLATES_FILE']    = \"spherex_brown_cosmos.templates\"\n",
    "params['TEMP_ERR_FILE']     = \"../template_error_cosmos2020.txt\"\n",
    "params['TEMP_ERR_A2']       = 0.0 # nullify the template error\n",
    "\n",
    "params['TEMPLATE_COMBOS']   = 1\n",
    "params['SYS_ERR']           = 0.01\n",
    "\n",
    "params['MW_EBV']            = 0.012\n",
    "params['CAT_HAS_EXTCORR']   = True\n",
    "\n",
    "params['CATALOG_FILE']      = \"data/spherex_synphot.dat\" \n",
    "\n",
    "dir_output = WD/\"output\"\n",
    "\n",
    "if not dir_output.exists():\n",
    "    dir_output.mkdir()\n",
    "params['OUTPUT_DIRECTORY']  = dir_output.as_posix()\n",
    "params['MAIN_OUTPUT_FILE']  = \"output\"\n",
    "\n",
    "params['APPLY_PRIOR']       = True\n",
    "params['PRIOR_FILE']        = \"../prior_K_TAO.dat\"\n",
    "params['PRIOR_FILTER']      = 466  # SPHEREx band corresponding to 2.2um\n",
    "params['PRIOR_ABZP']        = 23.9\n",
    "params['PRIOR_FLOOR']       = 0.01\n",
    "\n",
    "params['FIX_ZSPEC']         = False\n",
    "params['Z_MIN']             = 0.015\n",
    "params['Z_MAX']             = 5.8\n",
    "params['Z_STEP']            = 0.003\n",
    "params['Z_STEP_TYPE']       = 1\n",
    "\n",
    "translate_filename = 'dummy.translate'"
   ]
  },
  {
   "cell_type": "code",
   "execution_count": null,
   "metadata": {},
   "outputs": [],
   "source": [
    "with open('tempfilt0003.pickle', 'rb') as rfile:\n",
    "    tempfilt = pickle.load(rfile)\n",
    "\n",
    "for i in range(17):\n",
    "    start_id = i * 10000\n",
    "    end_id = (i+1) * 10000\n",
    "\n",
    "    ez = eazy.photoz.PhotoZ(param_file=None, translate_file=translate_filename,\n",
    "                            zeropoint_file=None, params=params, tempfilt=tempfilt, )\n",
    "    \n",
    "    if end_id > len(ez.idx):\n",
    "        end_id = len(ez.idx)\n",
    "    \n",
    "    ez.ZML_WITH_PRIOR = True\n",
    "    ez.fit_catalog(ez.idx[start_id:end_id], n_proc=2, prior=True)\n",
    "    ez.ZML_WITH_PRIOR = True\n",
    "    ez.fit_at_zbest(prior=True, nproc=1)\n",
    "    \n",
    "    zout, hdu = ez.standard_output(prior=True, beta_prior=False)\n",
    "    zout[start_id:end_id].write(dir_output/f'output{i:02d}.fits', overwrite=True)\n",
    "    phdu = fits.PrimaryHDU(data=ez.lnp[start_id:end_id])\n",
    "    gridhdu = fits.ImageHDU(data=ez.zgrid)\n",
    "    hdul = fits.HDUList([phdu, gridhdu])\n",
    "    hdul.writeto(dir_output/f'lnp{i:02d}.fits', overwrite=True)\n",
    "    del ez, zout, hdu, phdu, gridhdu, hdul\n",
    "    gc.collect()"
   ]
  }
 ],
 "metadata": {
  "kernelspec": {
   "display_name": "Python 3 (ipykernel)",
   "language": "python",
   "name": "python3"
  },
  "language_info": {
   "codemirror_mode": {
    "name": "ipython",
    "version": 3
   },
   "file_extension": ".py",
   "mimetype": "text/x-python",
   "name": "python",
   "nbconvert_exporter": "python",
   "pygments_lexer": "ipython3",
   "version": "3.9.7"
  }
 },
 "nbformat": 4,
 "nbformat_minor": 2
}
