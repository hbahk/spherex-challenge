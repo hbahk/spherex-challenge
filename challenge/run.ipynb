{
 "cells": [
  {
   "cell_type": "code",
   "execution_count": 2,
   "metadata": {},
   "outputs": [],
   "source": [
    "# retina\n",
    "%config InlineBackend.figure_format = 'retina'"
   ]
  },
  {
   "cell_type": "code",
   "execution_count": 4,
   "metadata": {},
   "outputs": [],
   "source": [
    "import os\n",
    "from pathlib import Path\n",
    "import pickle\n",
    "import numpy as np\n",
    "from matplotlib import pyplot as plt\n",
    "from astropy.io import fits\n",
    "from astropy.table import Table\n",
    "import eazy\n",
    "\n",
    "from matplotlib import rcParams\n",
    "plt.rcParams[\"font.size\"] = 20\n",
    "plt.rcParams[\"axes.labelsize\"] = 25\n",
    "\n",
    "WD = Path('/data1/hbahk/spherex-photoz/spherex-challenge/challenge')\n",
    "os.chdir(WD)\n",
    "\n",
    "from utils import make_eazy_filters_spherex"
   ]
  },
  {
   "cell_type": "code",
   "execution_count": 3,
   "metadata": {},
   "outputs": [
    {
     "name": "stdout",
     "output_type": "stream",
     "text": [
      "Filename: /data1/hbahk/spherex-photoz/spherex-challenge/challenge/data/L3_COSMOS2020_Richard_2023DEC4_SPHEREx_fiducial102_more.fits\n",
      "No.    Name      Ver    Type      Cards   Dimensions   Format\n",
      "  0  PRIMARY       1 PrimaryHDU       4   ()      \n",
      "  1                1 BinTableHDU     26   166041R x 8C   [K, D, D, PD(102), PD(102), D, D, D]   \n"
     ]
    }
   ],
   "source": [
    "# let's see the data structure\n",
    "hdu = fits.open(WD/'data/L3_COSMOS2020_Richard_2023DEC4_SPHEREx_fiducial102_more.fits')\n",
    "hdu.info()"
   ]
  },
  {
   "cell_type": "code",
   "execution_count": 36,
   "metadata": {},
   "outputs": [
    {
     "name": "stdout",
     "output_type": "stream",
     "text": [
      "['source_id', 'x', 'y', 'fiducial_flux', 'fiducial_error', 'HSC_i_MAG', 'z_true', 'FLAG_ML']\n",
      "166041\n"
     ]
    }
   ],
   "source": [
    "cat = Table(hdu[1].data)\n",
    "print(cat.colnames)\n",
    "print(len(cat))"
   ]
  },
  {
   "cell_type": "code",
   "execution_count": 38,
   "metadata": {},
   "outputs": [],
   "source": [
    "cat_reduced = cat['source_id', 'x', 'y', 'HSC_i_MAG', 'z_true', 'FLAG_ML']\n",
    "cat_reduced.write(WD/'data/fiducial102_reduced.fits', overwrite=True)"
   ]
  },
  {
   "cell_type": "code",
   "execution_count": 46,
   "metadata": {},
   "outputs": [],
   "source": [
    "cat_synphot = Table.read(WD/'data/L3_COSMOS2020_Richard_2023DEC4_SPHEREx_fiducial102_for_photoz.txt', format='ascii.no_header')"
   ]
  },
  {
   "cell_type": "code",
   "execution_count": 47,
   "metadata": {},
   "outputs": [
    {
     "data": {
      "text/html": [
       "<div><i>Table length=2</i>\n",
       "<table id=\"table140203108578448\" class=\"table-striped table-bordered table-condensed\">\n",
       "<thead><tr><th>col1</th><th>col2</th><th>col3</th><th>col4</th><th>col5</th><th>col6</th><th>col7</th><th>col8</th><th>col9</th><th>col10</th><th>col11</th><th>col12</th><th>col13</th><th>col14</th><th>col15</th><th>col16</th><th>col17</th><th>col18</th><th>col19</th><th>col20</th><th>col21</th><th>col22</th><th>col23</th><th>col24</th><th>col25</th><th>col26</th><th>col27</th><th>col28</th><th>col29</th><th>col30</th><th>col31</th><th>col32</th><th>col33</th><th>col34</th><th>col35</th><th>col36</th><th>col37</th><th>col38</th><th>col39</th><th>col40</th><th>col41</th><th>col42</th><th>col43</th><th>col44</th><th>col45</th><th>col46</th><th>col47</th><th>col48</th><th>col49</th><th>col50</th><th>col51</th><th>col52</th><th>col53</th><th>col54</th><th>col55</th><th>col56</th><th>col57</th><th>col58</th><th>col59</th><th>col60</th><th>col61</th><th>col62</th><th>col63</th><th>col64</th><th>col65</th><th>col66</th><th>col67</th><th>col68</th><th>col69</th><th>col70</th><th>col71</th><th>col72</th><th>col73</th><th>col74</th><th>col75</th><th>col76</th><th>col77</th><th>col78</th><th>col79</th><th>col80</th><th>col81</th><th>col82</th><th>col83</th><th>col84</th><th>col85</th><th>col86</th><th>col87</th><th>col88</th><th>col89</th><th>col90</th><th>col91</th><th>col92</th><th>col93</th><th>col94</th><th>col95</th><th>col96</th><th>col97</th><th>col98</th><th>col99</th><th>col100</th><th>col101</th><th>col102</th><th>col103</th><th>col104</th><th>col105</th><th>col106</th><th>col107</th><th>col108</th><th>col109</th><th>col110</th><th>col111</th><th>col112</th><th>col113</th><th>col114</th><th>col115</th><th>col116</th><th>col117</th><th>col118</th><th>col119</th><th>col120</th><th>col121</th><th>col122</th><th>col123</th><th>col124</th><th>col125</th><th>col126</th><th>col127</th><th>col128</th><th>col129</th><th>col130</th><th>col131</th><th>col132</th><th>col133</th><th>col134</th><th>col135</th><th>col136</th><th>col137</th><th>col138</th><th>col139</th><th>col140</th><th>col141</th><th>col142</th><th>col143</th><th>col144</th><th>col145</th><th>col146</th><th>col147</th><th>col148</th><th>col149</th><th>col150</th><th>col151</th><th>col152</th><th>col153</th><th>col154</th><th>col155</th><th>col156</th><th>col157</th><th>col158</th><th>col159</th><th>col160</th><th>col161</th><th>col162</th><th>col163</th><th>col164</th><th>col165</th><th>col166</th><th>col167</th><th>col168</th><th>col169</th><th>col170</th><th>col171</th><th>col172</th><th>col173</th><th>col174</th><th>col175</th><th>col176</th><th>col177</th><th>col178</th><th>col179</th><th>col180</th><th>col181</th><th>col182</th><th>col183</th><th>col184</th><th>col185</th><th>col186</th><th>col187</th><th>col188</th><th>col189</th><th>col190</th><th>col191</th><th>col192</th><th>col193</th><th>col194</th><th>col195</th><th>col196</th><th>col197</th><th>col198</th><th>col199</th><th>col200</th><th>col201</th><th>col202</th><th>col203</th><th>col204</th><th>col205</th></tr></thead>\n",
       "<thead><tr><th>int64</th><th>float64</th><th>float64</th><th>float64</th><th>float64</th><th>float64</th><th>float64</th><th>float64</th><th>float64</th><th>float64</th><th>float64</th><th>float64</th><th>float64</th><th>float64</th><th>float64</th><th>float64</th><th>float64</th><th>float64</th><th>float64</th><th>float64</th><th>float64</th><th>float64</th><th>float64</th><th>float64</th><th>float64</th><th>float64</th><th>float64</th><th>float64</th><th>float64</th><th>float64</th><th>float64</th><th>float64</th><th>float64</th><th>float64</th><th>float64</th><th>float64</th><th>float64</th><th>float64</th><th>float64</th><th>float64</th><th>float64</th><th>float64</th><th>float64</th><th>float64</th><th>float64</th><th>float64</th><th>float64</th><th>float64</th><th>float64</th><th>float64</th><th>float64</th><th>float64</th><th>float64</th><th>float64</th><th>float64</th><th>float64</th><th>float64</th><th>float64</th><th>float64</th><th>float64</th><th>float64</th><th>float64</th><th>float64</th><th>float64</th><th>float64</th><th>float64</th><th>float64</th><th>float64</th><th>float64</th><th>float64</th><th>float64</th><th>float64</th><th>float64</th><th>float64</th><th>float64</th><th>float64</th><th>float64</th><th>float64</th><th>float64</th><th>float64</th><th>float64</th><th>float64</th><th>float64</th><th>float64</th><th>float64</th><th>float64</th><th>float64</th><th>float64</th><th>float64</th><th>float64</th><th>float64</th><th>float64</th><th>float64</th><th>float64</th><th>float64</th><th>float64</th><th>float64</th><th>float64</th><th>float64</th><th>float64</th><th>float64</th><th>float64</th><th>float64</th><th>float64</th><th>float64</th><th>float64</th><th>float64</th><th>float64</th><th>float64</th><th>float64</th><th>float64</th><th>float64</th><th>float64</th><th>float64</th><th>float64</th><th>float64</th><th>float64</th><th>float64</th><th>float64</th><th>float64</th><th>float64</th><th>float64</th><th>float64</th><th>float64</th><th>float64</th><th>float64</th><th>float64</th><th>float64</th><th>float64</th><th>float64</th><th>float64</th><th>float64</th><th>float64</th><th>float64</th><th>float64</th><th>float64</th><th>float64</th><th>float64</th><th>float64</th><th>float64</th><th>float64</th><th>float64</th><th>float64</th><th>float64</th><th>float64</th><th>float64</th><th>float64</th><th>float64</th><th>float64</th><th>float64</th><th>float64</th><th>float64</th><th>float64</th><th>float64</th><th>float64</th><th>float64</th><th>float64</th><th>float64</th><th>float64</th><th>float64</th><th>float64</th><th>float64</th><th>float64</th><th>float64</th><th>float64</th><th>float64</th><th>float64</th><th>float64</th><th>float64</th><th>float64</th><th>float64</th><th>float64</th><th>float64</th><th>float64</th><th>float64</th><th>float64</th><th>float64</th><th>float64</th><th>float64</th><th>float64</th><th>float64</th><th>float64</th><th>float64</th><th>float64</th><th>float64</th><th>float64</th><th>float64</th><th>float64</th><th>float64</th><th>float64</th><th>float64</th><th>float64</th><th>float64</th><th>float64</th><th>float64</th><th>float64</th><th>float64</th><th>float64</th><th>float64</th><th>float64</th><th>float64</th><th>float64</th><th>float64</th><th>float64</th><th>float64</th></tr></thead>\n",
       "<tr><td>180642</td><td>-12.93</td><td>10.04</td><td>4.18</td><td>10.46</td><td>12.45</td><td>10.53</td><td>-10.32</td><td>11.83</td><td>0.6</td><td>10.85</td><td>-5.49</td><td>9.34</td><td>2.98</td><td>10.72</td><td>13.86</td><td>9.59</td><td>-10.02</td><td>10.29</td><td>-6.82</td><td>10.42</td><td>27.23</td><td>9.13</td><td>-8.28</td><td>8.45</td><td>-3.51</td><td>6.44</td><td>2.49</td><td>8.21</td><td>10.66</td><td>8.29</td><td>-4.09</td><td>9.0</td><td>13.52</td><td>9.55</td><td>34.25</td><td>12.5</td><td>4.91</td><td>5.8</td><td>-6.65</td><td>6.88</td><td>0.72</td><td>6.89</td><td>4.82</td><td>7.01</td><td>-0.9</td><td>6.57</td><td>1.6</td><td>5.24</td><td>7.11</td><td>5.93</td><td>1.35</td><td>4.65</td><td>9.69</td><td>5.44</td><td>-0.38</td><td>6.23</td><td>-12.41</td><td>5.99</td><td>6.43</td><td>5.44</td><td>-4.11</td><td>6.47</td><td>-11.08</td><td>6.42</td><td>2.28</td><td>6.19</td><td>16.48</td><td>11.14</td><td>-4.16</td><td>6.91</td><td>-2.19</td><td>6.41</td><td>-3.11</td><td>10.02</td><td>-1.6</td><td>7.81</td><td>16.47</td><td>12.64</td><td>8.29</td><td>9.36</td><td>4.45</td><td>9.03</td><td>10.84</td><td>8.37</td><td>-2.91</td><td>8.04</td><td>7.52</td><td>7.34</td><td>-4.62</td><td>6.25</td><td>4.36</td><td>7.47</td><td>-1.3</td><td>7.47</td><td>-4.62</td><td>7.28</td><td>-1.75</td><td>7.18</td><td>3.17</td><td>7.23</td><td>1.13</td><td>9.37</td><td>-6.13</td><td>7.6</td><td>7.06</td><td>8.26</td><td>11.44</td><td>8.33</td><td>13.36</td><td>8.02</td><td>9.41</td><td>8.88</td><td>16.02</td><td>7.43</td><td>0.56</td><td>7.71</td><td>18.61</td><td>8.31</td><td>20.02</td><td>8.82</td><td>10.55</td><td>7.34</td><td>1.74</td><td>6.61</td><td>11.86</td><td>6.92</td><td>0.36</td><td>5.69</td><td>13.75</td><td>5.37</td><td>3.66</td><td>6.28</td><td>9.13</td><td>6.88</td><td>11.03</td><td>7.18</td><td>32.55</td><td>18.27</td><td>0.05</td><td>8.07</td><td>11.93</td><td>14.37</td><td>31.63</td><td>14.33</td><td>-17.03</td><td>14.37</td><td>13.86</td><td>14.41</td><td>-23.31</td><td>12.61</td><td>-2.0</td><td>14.43</td><td>5.6</td><td>11.1</td><td>9.79</td><td>13.73</td><td>1.69</td><td>15.94</td><td>2.03</td><td>16.12</td><td>-4.25</td><td>15.21</td><td>7.88</td><td>17.6</td><td>-16.08</td><td>17.71</td><td>6.25</td><td>17.38</td><td>-47.59</td><td>25.32</td><td>47.42</td><td>23.2</td><td>11.77</td><td>18.67</td><td>34.52</td><td>30.58</td><td>25.26</td><td>25.33</td><td>28.14</td><td>42.79</td><td>-59.15</td><td>35.28</td><td>60.1</td><td>34.4</td><td>-26.15</td><td>33.87</td><td>5.99</td><td>35.57</td><td>-3.53</td><td>32.0</td><td>-46.36</td><td>28.34</td><td>-109.88</td><td>35.92</td><td>-2.75</td><td>34.97</td><td>-55.47</td><td>39.18</td><td>0.74</td><td>36.54</td><td>-24.96</td><td>41.72</td><td>-54.64</td><td>37.64</td></tr>\n",
       "<tr><td>180650</td><td>11.95</td><td>11.1</td><td>-17.29</td><td>10.8</td><td>-9.8</td><td>9.43</td><td>-5.06</td><td>9.01</td><td>-2.83</td><td>10.11</td><td>17.57</td><td>10.18</td><td>-16.88</td><td>10.32</td><td>18.33</td><td>8.2</td><td>-0.08</td><td>9.77</td><td>3.23</td><td>7.9</td><td>-0.2</td><td>8.22</td><td>8.48</td><td>8.37</td><td>1.34</td><td>7.4</td><td>7.25</td><td>6.74</td><td>4.53</td><td>7.92</td><td>-4.44</td><td>8.1</td><td>4.6</td><td>10.75</td><td>3.59</td><td>11.03</td><td>15.01</td><td>7.25</td><td>28.51</td><td>9.56</td><td>-3.95</td><td>9.95</td><td>13.55</td><td>8.52</td><td>16.43</td><td>7.58</td><td>13.69</td><td>6.88</td><td>9.88</td><td>6.82</td><td>0.57</td><td>8.54</td><td>3.75</td><td>7.74</td><td>4.55</td><td>8.12</td><td>23.95</td><td>7.96</td><td>-3.28</td><td>8.03</td><td>17.01</td><td>8.31</td><td>1.24</td><td>8.8</td><td>12.35</td><td>8.75</td><td>28.54</td><td>12.59</td><td>14.92</td><td>10.14</td><td>5.72</td><td>8.14</td><td>0.13</td><td>9.66</td><td>8.18</td><td>8.12</td><td>16.0</td><td>7.9</td><td>9.15</td><td>10.72</td><td>11.54</td><td>9.74</td><td>22.4</td><td>9.59</td><td>9.32</td><td>11.9</td><td>7.78</td><td>8.73</td><td>6.12</td><td>7.58</td><td>17.01</td><td>6.45</td><td>5.49</td><td>7.77</td><td>4.25</td><td>8.17</td><td>2.56</td><td>9.33</td><td>0.03</td><td>9.52</td><td>15.31</td><td>9.86</td><td>1.25</td><td>8.54</td><td>23.85</td><td>8.12</td><td>13.92</td><td>8.72</td><td>12.79</td><td>9.07</td><td>13.63</td><td>7.92</td><td>-3.24</td><td>7.94</td><td>28.23</td><td>7.68</td><td>23.84</td><td>6.48</td><td>11.14</td><td>7.99</td><td>2.92</td><td>6.43</td><td>16.5</td><td>6.64</td><td>7.22</td><td>6.66</td><td>5.51</td><td>5.96</td><td>3.01</td><td>5.87</td><td>17.25</td><td>5.74</td><td>20.85</td><td>6.67</td><td>-6.55</td><td>9.17</td><td>12.55</td><td>12.72</td><td>4.89</td><td>11.08</td><td>8.48</td><td>19.08</td><td>14.44</td><td>20.71</td><td>10.83</td><td>17.12</td><td>-15.41</td><td>18.22</td><td>8.77</td><td>17.54</td><td>22.44</td><td>17.88</td><td>-14.94</td><td>22.57</td><td>-4.25</td><td>19.95</td><td>27.66</td><td>22.72</td><td>6.1</td><td>21.81</td><td>-21.03</td><td>21.69</td><td>4.26</td><td>21.74</td><td>36.83</td><td>25.15</td><td>-16.61</td><td>26.4</td><td>26.71</td><td>37.14</td><td>10.87</td><td>30.63</td><td>19.21</td><td>23.67</td><td>-10.35</td><td>30.25</td><td>26.98</td><td>26.41</td><td>51.79</td><td>26.13</td><td>-12.05</td><td>40.13</td><td>20.68</td><td>38.67</td><td>49.2</td><td>39.5</td><td>37.25</td><td>48.11</td><td>28.48</td><td>39.06</td><td>68.02</td><td>34.06</td><td>3.64</td><td>35.31</td><td>20.11</td><td>30.18</td><td>-6.1</td><td>40.81</td><td>51.49</td><td>48.07</td><td>-39.65</td><td>53.02</td><td>12.13</td><td>38.81</td></tr>\n",
       "</table></div>"
      ],
      "text/plain": [
       "<Table length=2>\n",
       " col1    col2    col3    col4    col5  ...  col202  col203  col204  col205\n",
       "int64  float64 float64 float64 float64 ... float64 float64 float64 float64\n",
       "------ ------- ------- ------- ------- ... ------- ------- ------- -------\n",
       "180642  -12.93   10.04    4.18   10.46 ...  -24.96   41.72  -54.64   37.64\n",
       "180650   11.95    11.1  -17.29    10.8 ...  -39.65   53.02   12.13   38.81"
      ]
     },
     "execution_count": 47,
     "metadata": {},
     "output_type": "execute_result"
    }
   ],
   "source": [
    "cat_synphot[:2]"
   ]
  },
  {
   "cell_type": "markdown",
   "metadata": {},
   "source": [
    "# Making EAZY Filter file"
   ]
  },
  {
   "cell_type": "code",
   "execution_count": 5,
   "metadata": {},
   "outputs": [
    {
     "name": "stdout",
     "output_type": "stream",
     "text": [
      "Wrote <FILTERS+spherex.res[.info]>\n"
     ]
    }
   ],
   "source": [
    "filtdir = WD/'data'/'fiducial_filters_102'\n",
    "filters_spherex = make_eazy_filters_spherex(filtdir, 'FILTERS+spherex.res')"
   ]
  },
  {
   "cell_type": "code",
   "execution_count": 5,
   "metadata": {},
   "outputs": [],
   "source": [
    "params = {}\n",
    "params['FILTERS_RES']       = \"FILTERS+spherex.res\"\n",
    "params['TEMPLATES_FILE']    = \"BROWN_COSMOS.template\"\n",
    "params['WAVELENGTH_FILE ']  = \"../lambda.def\" # TODO: check this\n",
    "params['TEMP_ERR_FILE']     = \"../template_error_cosmos2020.txt\" # TODO: check this\n",
    "\n",
    "params['TEMPLATE_COMBOS']   = 1\n",
    "params['TEMP_ERR_A2']       = 0.2\n",
    "params['SYS_ERR']           = 0.01\n",
    "\n",
    "params['MW_EBV']            = 0.012\n",
    "params['CAT_HAS_EXTCORR']   = True\n",
    "\n",
    "# params['CATALOG_FILE']      = \"data/spherex_synphot.dat\" \n",
    "params['CATALOG_FILE']      = \"data/synphot_i19.dat\" \n",
    "\n",
    "dir_output = WD/\"output\"\n",
    "\n",
    "if not dir_output.exists():\n",
    "    dir_output.mkdir()\n",
    "params['OUTPUT_DIRECTORY']  = dir_output.as_posix()\n",
    "params['MAIN_OUTPUT_FILE']  = \"output\"\n",
    "\n",
    "params['APPLY_PRIOR']       = False \n",
    "params['PRIOR_FILE']        = \"../prior_K_TAO.dat\"\n",
    "params['PRIOR_FILTER']      = 163  # 2MASS Ks band\n",
    "params['PRIOR_ABZP']        = 23.9\n",
    "params['PRIOR_FLOOR']       = 0.01\n",
    "\n",
    "params['FIX_ZSPEC']         = False\n",
    "params['Z_MIN']             = 0.015\n",
    "params['Z_MAX']             = 5.8\n",
    "params['Z_STEP']            = 0.001\n",
    "params['Z_STEP_TYPE']       = 1\n",
    "\n",
    "translate_filename = 'spherex.translate'"
   ]
  },
  {
   "cell_type": "markdown",
   "metadata": {},
   "source": [
    "# Making EAZY `.template` file"
   ]
  },
  {
   "cell_type": "code",
   "execution_count": 51,
   "metadata": {},
   "outputs": [],
   "source": [
    "lines = open(\"../BROWN_COSMOS.list\").readlines()\n",
    "with open(params['TEMPLATES_FILE'], 'w') as f:\n",
    "    for i, line in enumerate(lines):\n",
    "        if not line.startswith('#'):\n",
    "            f.write(f'{i+1:3d} ../{line}')"
   ]
  },
  {
   "cell_type": "markdown",
   "metadata": {},
   "source": [
    "# Making EAZY `.translate` file"
   ]
  },
  {
   "cell_type": "code",
   "execution_count": 8,
   "metadata": {},
   "outputs": [
    {
     "name": "stdout",
     "output_type": "stream",
     "text": [
      "  419 SPHEREx_Band1_1 lambda_c= 6.9090e+03 AB-Vega= 0.360 w95=9992.6\n",
      "  420 SPHEREx_Band1_2 lambda_c= 7.0989e+03 AB-Vega= 0.387 w95=9711.2\n",
      "  421 SPHEREx_Band1_3 lambda_c= 7.4153e+03 AB-Vega= 0.424 w95=9346.2\n",
      "  422 SPHEREx_Band1_4 lambda_c= 7.4454e+03 AB-Vega= 0.452 w95=9084.0\n",
      "  423 SPHEREx_Band1_5 lambda_c= 7.5601e+03 AB-Vega= 0.484 w95=8761.8\n",
      "  424 SPHEREx_Band1_6 lambda_c= 7.9043e+03 AB-Vega= 0.508 w95=8682.3\n",
      "  425 SPHEREx_Band1_7 lambda_c= 7.9427e+03 AB-Vega= 0.553 w95=8377.5\n",
      "  426 SPHEREx_Band1_8 lambda_c= 8.0093e+03 AB-Vega= 0.535 w95=8026.9\n",
      "  427 SPHEREx_Band1_9 lambda_c= 8.6532e+03 AB-Vega= 0.550 w95=7737.0\n",
      "  428 SPHEREx_Band1_10 lambda_c= 8.5533e+03 AB-Vega= 0.518 w95=7399.9\n",
      "  429 SPHEREx_Band1_11 lambda_c= 9.2650e+03 AB-Vega= 0.561 w95=7028.0\n",
      "  430 SPHEREx_Band1_12 lambda_c= 8.9319e+03 AB-Vega= 0.545 w95=6689.0\n",
      "  431 SPHEREx_Band1_13 lambda_c= 9.6759e+03 AB-Vega= 0.572 w95=1186.8\n",
      "  432 SPHEREx_Band1_14 lambda_c= 9.0150e+03 AB-Vega= 0.620 w95=374.5\n",
      "  433 SPHEREx_Band1_15 lambda_c= 9.1351e+03 AB-Vega= 0.618 w95=1478.2\n",
      "  434 SPHEREx_Band1_16 lambda_c= 1.0242e+04 AB-Vega= 0.663 w95=1159.2\n",
      "  435 SPHEREx_Band1_17 lambda_c= 1.0628e+04 AB-Vega= 0.756 w95=378.8\n",
      "  436 SPHEREx_Band2_1 lambda_c= 1.0787e+04 AB-Vega= 0.763 w95=308.4\n",
      "  437 SPHEREx_Band2_2 lambda_c= 1.1085e+04 AB-Vega= 0.741 w95=310.7\n",
      "  438 SPHEREx_Band2_3 lambda_c= 1.1442e+04 AB-Vega= 0.777 w95=313.1\n",
      "  439 SPHEREx_Band2_4 lambda_c= 1.1726e+04 AB-Vega= 0.820 w95=321.6\n",
      "  440 SPHEREx_Band2_5 lambda_c= 1.2015e+04 AB-Vega= 0.857 w95=329.8\n",
      "  441 SPHEREx_Band2_6 lambda_c= 1.2301e+04 AB-Vega= 0.897 w95=338.7\n",
      "  442 SPHEREx_Band2_7 lambda_c= 1.2618e+04 AB-Vega= 0.960 w95=347.7\n",
      "  443 SPHEREx_Band2_8 lambda_c= 1.2915e+04 AB-Vega= 1.000 w95=356.4\n",
      "  444 SPHEREx_Band2_9 lambda_c= 1.3235e+04 AB-Vega= 1.018 w95=365.8\n",
      "  445 SPHEREx_Band2_10 lambda_c= 1.3564e+04 AB-Vega= 1.060 w95=375.3\n",
      "  446 SPHEREx_Band2_11 lambda_c= 1.3903e+04 AB-Vega= 1.101 w95=385.2\n",
      "  447 SPHEREx_Band2_12 lambda_c= 1.4241e+04 AB-Vega= 1.144 w95=395.3\n",
      "  448 SPHEREx_Band2_13 lambda_c= 1.4598e+04 AB-Vega= 1.185 w95=405.1\n",
      "  449 SPHEREx_Band2_14 lambda_c= 1.4955e+04 AB-Vega= 1.225 w95=415.4\n",
      "  450 SPHEREx_Band2_15 lambda_c= 1.5326e+04 AB-Vega= 1.270 w95=426.2\n",
      "  451 SPHEREx_Band2_16 lambda_c= 1.5702e+04 AB-Vega= 1.320 w95=437.2\n",
      "  452 SPHEREx_Band2_17 lambda_c= 1.6087e+04 AB-Vega= 1.350 w95=448.0\n",
      "  453 SPHEREx_Band3_1 lambda_c= 1.6089e+04 AB-Vega= 1.350 w95=429.4\n",
      "  454 SPHEREx_Band3_2 lambda_c= 1.6484e+04 AB-Vega= 1.383 w95=441.3\n",
      "  455 SPHEREx_Band3_3 lambda_c= 1.6891e+04 AB-Vega= 1.419 w95=454.0\n",
      "  456 SPHEREx_Band3_4 lambda_c= 1.7305e+04 AB-Vega= 1.474 w95=466.3\n",
      "  457 SPHEREx_Band3_5 lambda_c= 1.7731e+04 AB-Vega= 1.481 w95=478.4\n",
      "  458 SPHEREx_Band3_6 lambda_c= 1.8168e+04 AB-Vega= 1.561 w95=491.7\n",
      "  459 SPHEREx_Band3_7 lambda_c= 1.8615e+04 AB-Vega= 1.603 w95=505.3\n",
      "  460 SPHEREx_Band3_8 lambda_c= 1.9074e+04 AB-Vega= 1.624 w95=518.7\n",
      "  461 SPHEREx_Band3_9 lambda_c= 1.9543e+04 AB-Vega= 1.686 w95=532.6\n",
      "  462 SPHEREx_Band3_10 lambda_c= 2.0024e+04 AB-Vega= 1.706 w95=546.5\n",
      "  463 SPHEREx_Band3_11 lambda_c= 2.0515e+04 AB-Vega= 1.752 w95=560.7\n",
      "  464 SPHEREx_Band3_12 lambda_c= 2.1021e+04 AB-Vega= 1.800 w95=574.2\n",
      "  465 SPHEREx_Band3_13 lambda_c= 2.1536e+04 AB-Vega= 1.874 w95=588.3\n",
      "  466 SPHEREx_Band3_14 lambda_c= 2.2063e+04 AB-Vega= 1.892 w95=604.2\n",
      "  467 SPHEREx_Band3_15 lambda_c= 2.2605e+04 AB-Vega= 1.938 w95=618.6\n",
      "  468 SPHEREx_Band3_16 lambda_c= 2.3140e+04 AB-Vega= 1.983 w95=630.4\n",
      "  469 SPHEREx_Band3_17 lambda_c= 2.3581e+04 AB-Vega= 2.026 w95=612.9\n",
      "  470 SPHEREx_Band4_1 lambda_c= 2.3252e+04 AB-Vega= 2.041 w95=728.7\n",
      "  471 SPHEREx_Band4_2 lambda_c= 2.4326e+04 AB-Vega= 2.084 w95=763.0\n",
      "  472 SPHEREx_Band4_3 lambda_c= 2.5015e+04 AB-Vega= 2.138 w95=832.9\n",
      "  473 SPHEREx_Band4_4 lambda_c= 2.5735e+04 AB-Vega= 2.208 w95=855.5\n",
      "  474 SPHEREx_Band4_5 lambda_c= 2.6479e+04 AB-Vega= 2.256 w95=880.8\n",
      "  475 SPHEREx_Band4_6 lambda_c= 2.7240e+04 AB-Vega= 2.304 w95=903.9\n",
      "  476 SPHEREx_Band4_7 lambda_c= 2.8024e+04 AB-Vega= 2.347 w95=930.2\n",
      "  477 SPHEREx_Band4_8 lambda_c= 2.8832e+04 AB-Vega= 2.412 w95=954.4\n",
      "  478 SPHEREx_Band4_9 lambda_c= 2.9659e+04 AB-Vega= 2.459 w95=980.5\n",
      "  479 SPHEREx_Band4_10 lambda_c= 3.0512e+04 AB-Vega= 2.523 w95=1006.6\n",
      "  480 SPHEREx_Band4_11 lambda_c= 3.1391e+04 AB-Vega= 2.568 w95=1034.9\n",
      "  481 SPHEREx_Band4_12 lambda_c= 3.2293e+04 AB-Vega= 2.635 w95=1062.4\n",
      "  482 SPHEREx_Band4_13 lambda_c= 3.3224e+04 AB-Vega= 2.686 w95=1093.1\n",
      "  483 SPHEREx_Band4_14 lambda_c= 3.4178e+04 AB-Vega= 2.738 w95=1121.8\n",
      "  484 SPHEREx_Band4_15 lambda_c= 3.5160e+04 AB-Vega= 2.795 w95=1151.8\n",
      "  485 SPHEREx_Band4_16 lambda_c= 3.6175e+04 AB-Vega= 2.854 w95=1174.4\n",
      "  486 SPHEREx_Band4_17 lambda_c= 3.7212e+04 AB-Vega= 2.925 w95=1209.7\n",
      "  487 SPHEREx_Band5_1 lambda_c= 3.7806e+04 AB-Vega= 2.935 w95=412.9\n",
      "  488 SPHEREx_Band5_2 lambda_c= 3.8151e+04 AB-Vega= 2.955 w95=417.1\n",
      "  489 SPHEREx_Band5_3 lambda_c= 3.8499e+04 AB-Vega= 2.968 w95=421.1\n",
      "  490 SPHEREx_Band5_4 lambda_c= 3.8850e+04 AB-Vega= 2.999 w95=424.6\n",
      "  491 SPHEREx_Band5_5 lambda_c= 3.9207e+04 AB-Vega= 3.005 w95=428.3\n",
      "  492 SPHEREx_Band5_6 lambda_c= 3.9567e+04 AB-Vega= 3.022 w95=432.2\n",
      "  493 SPHEREx_Band5_7 lambda_c= 3.9929e+04 AB-Vega= 3.060 w95=434.1\n",
      "  494 SPHEREx_Band5_8 lambda_c= 4.0296e+04 AB-Vega= 3.091 w95=435.7\n",
      "  495 SPHEREx_Band5_9 lambda_c= 4.0664e+04 AB-Vega= 3.078 w95=439.1\n",
      "  496 SPHEREx_Band5_10 lambda_c= 4.1038e+04 AB-Vega= 3.095 w95=442.1\n",
      "  497 SPHEREx_Band5_11 lambda_c= 4.1413e+04 AB-Vega= 3.138 w95=445.0\n",
      "  498 SPHEREx_Band5_12 lambda_c= 4.1791e+04 AB-Vega= 3.137 w95=447.8\n",
      "  499 SPHEREx_Band5_13 lambda_c= 4.2172e+04 AB-Vega= 3.150 w95=451.1\n",
      "  500 SPHEREx_Band5_14 lambda_c= 4.2558e+04 AB-Vega= 3.168 w95=454.3\n",
      "  501 SPHEREx_Band5_15 lambda_c= 4.2948e+04 AB-Vega= 3.187 w95=457.9\n",
      "  502 SPHEREx_Band5_16 lambda_c= 4.3341e+04 AB-Vega= 3.222 w95=461.3\n",
      "  503 SPHEREx_Band5_17 lambda_c= 4.3741e+04 AB-Vega= 3.241 w95=464.4\n",
      "  504 SPHEREx_Band6_1 lambda_c= 4.3601e+04 AB-Vega= 3.237 w95=467.8\n",
      "  505 SPHEREx_Band6_2 lambda_c= 4.3947e+04 AB-Vega= 3.242 w95=470.2\n",
      "  506 SPHEREx_Band6_3 lambda_c= 4.4274e+04 AB-Vega= 3.257 w95=473.1\n",
      "  507 SPHEREx_Band6_4 lambda_c= 4.4623e+04 AB-Vega= 3.273 w95=475.3\n",
      "  508 SPHEREx_Band6_5 lambda_c= 4.4971e+04 AB-Vega= 3.288 w95=478.1\n",
      "  509 SPHEREx_Band6_6 lambda_c= 4.5307e+04 AB-Vega= 3.304 w95=480.7\n",
      "  510 SPHEREx_Band6_7 lambda_c= 4.5665e+04 AB-Vega= 3.322 w95=483.4\n",
      "  511 SPHEREx_Band6_8 lambda_c= 4.6023e+04 AB-Vega= 3.370 w95=485.8\n",
      "  512 SPHEREx_Band6_9 lambda_c= 4.6381e+04 AB-Vega= 3.388 w95=488.0\n",
      "  513 SPHEREx_Band6_10 lambda_c= 4.6737e+04 AB-Vega= 3.370 w95=490.2\n",
      "  514 SPHEREx_Band6_11 lambda_c= 4.7092e+04 AB-Vega= 3.383 w95=492.6\n",
      "  515 SPHEREx_Band6_12 lambda_c= 4.7465e+04 AB-Vega= 3.398 w95=495.3\n",
      "  516 SPHEREx_Band6_13 lambda_c= 4.7830e+04 AB-Vega= 3.414 w95=498.6\n",
      "  517 SPHEREx_Band6_14 lambda_c= 4.8188e+04 AB-Vega= 3.430 w95=500.8\n",
      "  518 SPHEREx_Band6_15 lambda_c= 4.8576e+04 AB-Vega= 3.446 w95=502.8\n",
      "  519 SPHEREx_Band6_16 lambda_c= 4.8937e+04 AB-Vega= 3.462 w95=504.9\n",
      "  520 SPHEREx_Band6_17 lambda_c= 4.9322e+04 AB-Vega= 3.478 w95=506.7\n"
     ]
    }
   ],
   "source": [
    "ids_sphx = filters_spherex.search('SPHEREx')\n",
    "nums_sphx = ids_sphx + 1\n",
    "\n",
    "colnames = ['id']\n",
    "for num in nums_sphx:\n",
    "    colnames.append(f'F{num}')\n",
    "    colnames.append(f'E{num}')\n",
    "\n",
    "cat_synphot = Table.read(WD/'data/L3_COSMOS2020_Richard_2023DEC4_SPHEREx_fiducial102_for_photoz.txt',\n",
    "                         format='ascii.no_header', names=colnames)\n",
    "cat_synphot.write(WD/'data/spherex_synphot.dat', format='ascii.commented_header', overwrite=True)\n",
    "del cat_synphot\n",
    "\n",
    "\n",
    "with open(translate_filename, 'w') as f:\n",
    "    for num in nums_sphx:\n",
    "        f.write(f'F{num} F{num}\\n')\n",
    "        f.write(f'E{num} E{num}\\n')\n"
   ]
  },
  {
   "cell_type": "code",
   "execution_count": 41,
   "metadata": {},
   "outputs": [
    {
     "data": {
      "text/plain": [
       "124380"
      ]
     },
     "execution_count": 41,
     "metadata": {},
     "output_type": "execute_result"
    }
   ],
   "source": [
    "import gc\n",
    "gc.collect()"
   ]
  },
  {
   "cell_type": "code",
   "execution_count": null,
   "metadata": {},
   "outputs": [],
   "source": [
    "ez = eazy.photoz.PhotoZ(param_file=None, translate_file=translate_filename,\n",
    "                        zeropoint_file=None, params=params, n_proc=30,\n",
    "                        timeout=3600)\n",
    "\n",
    "with open('tempfilt0001.pickle', 'wb') as wfile:\n",
    "   pickle.dump(ez.tempfilt, wfile, protocol=pickle.HIGHEST_PROTOCOL)"
   ]
  },
  {
   "cell_type": "code",
   "execution_count": null,
   "metadata": {},
   "outputs": [],
   "source": [
    "ez = eazy.photoz.PhotoZ(param_file=None, translate_file=translate_filename,\n",
    "                        zeropoint_file=None, params=params, n_proc=20,\n",
    "                        timeout=3600)\n",
    "\n",
    "with open('tempfilt.pickle', 'wb') as wfile:\n",
    "   pickle.dump(ez.tempfilt, wfile, protocol=pickle.HIGHEST_PROTOCOL)"
   ]
  },
  {
   "cell_type": "markdown",
   "metadata": {},
   "source": [
    "~ 2 hours 18 minutes"
   ]
  },
  {
   "cell_type": "code",
   "execution_count": 11,
   "metadata": {},
   "outputs": [
    {
     "name": "stderr",
     "output_type": "stream",
     "text": [
      "  4%|▎         | 24/649 [52:13<22:40:01, 130.56s/it]Process ForkPoolWorker-27:\n",
      "KeyboardInterrupt\n",
      "\n",
      "Process ForkPoolWorker-24:\n",
      "Process ForkPoolWorker-25:\n",
      "Process ForkPoolWorker-21:\n",
      "Process ForkPoolWorker-22:\n",
      "Process ForkPoolWorker-23:\n",
      "Traceback (most recent call last):\n",
      "Traceback (most recent call last):\n",
      "Traceback (most recent call last):\n",
      "Traceback (most recent call last):\n",
      "  File \"/data1/hbahk/envs/main/lib/python3.9/multiprocessing/process.py\", line 315, in _bootstrap\n",
      "    self.run()\n",
      "  File \"/data1/hbahk/envs/main/lib/python3.9/multiprocessing/process.py\", line 315, in _bootstrap\n",
      "    self.run()\n",
      "  File \"/data1/hbahk/envs/main/lib/python3.9/multiprocessing/process.py\", line 108, in run\n",
      "    self._target(*self._args, **self._kwargs)\n",
      "  File \"/data1/hbahk/envs/main/lib/python3.9/multiprocessing/process.py\", line 108, in run\n",
      "    self._target(*self._args, **self._kwargs)\n",
      "  File \"/data1/hbahk/envs/main/lib/python3.9/multiprocessing/pool.py\", line 125, in worker\n",
      "    result = (True, func(*args, **kwds))\n",
      "  File \"/data1/hbahk/envs/main/lib/python3.9/multiprocessing/process.py\", line 315, in _bootstrap\n",
      "    self.run()\n",
      "  File \"/data1/hbahk/envs/main/lib/python3.9/multiprocessing/pool.py\", line 125, in worker\n",
      "    result = (True, func(*args, **kwds))\n",
      "  File \"/data1/hbahk/envs/main/lib/python3.9/site-packages/eazy/photoz.py\", line 5771, in fit_by_redshift\n",
      "    _res = template_lsq(fnu_i, efnu_i, A, TEFz, zp, False, fitter)\n",
      "  File \"/data1/hbahk/envs/main/lib/python3.9/multiprocessing/process.py\", line 315, in _bootstrap\n",
      "    self.run()\n",
      "Traceback (most recent call last):\n",
      "Traceback (most recent call last):\n",
      "  File \"/data1/hbahk/envs/main/lib/python3.9/multiprocessing/process.py\", line 108, in run\n",
      "    self._target(*self._args, **self._kwargs)\n",
      "  File \"/data1/hbahk/envs/main/lib/python3.9/site-packages/eazy/photoz.py\", line 5771, in fit_by_redshift\n",
      "    _res = template_lsq(fnu_i, efnu_i, A, TEFz, zp, False, fitter)\n",
      "  File \"/data1/hbahk/envs/main/lib/python3.9/multiprocessing/process.py\", line 108, in run\n",
      "    self._target(*self._args, **self._kwargs)\n",
      "  File \"/data1/hbahk/envs/main/lib/python3.9/site-packages/eazy/photoz.py\", line 6115, in template_lsq\n",
      "    fmodel = np.dot(coeffs_i, A)\n",
      "  File \"/data1/hbahk/envs/main/lib/python3.9/multiprocessing/process.py\", line 315, in _bootstrap\n",
      "    self.run()\n",
      "  File \"/data1/hbahk/envs/main/lib/python3.9/multiprocessing/process.py\", line 315, in _bootstrap\n",
      "    self.run()\n",
      "  File \"/data1/hbahk/envs/main/lib/python3.9/multiprocessing/pool.py\", line 125, in worker\n",
      "    result = (True, func(*args, **kwds))\n",
      "  File \"/data1/hbahk/envs/main/lib/python3.9/multiprocessing/pool.py\", line 125, in worker\n",
      "    result = (True, func(*args, **kwds))\n",
      "  File \"/data1/hbahk/envs/main/lib/python3.9/site-packages/eazy/photoz.py\", line 6115, in template_lsq\n",
      "    fmodel = np.dot(coeffs_i, A)\n",
      "KeyboardInterrupt\n",
      "  File \"/data1/hbahk/envs/main/lib/python3.9/multiprocessing/process.py\", line 108, in run\n",
      "    self._target(*self._args, **self._kwargs)\n",
      "  File \"/data1/hbahk/envs/main/lib/python3.9/site-packages/eazy/photoz.py\", line 5771, in fit_by_redshift\n",
      "    _res = template_lsq(fnu_i, efnu_i, A, TEFz, zp, False, fitter)\n",
      "KeyboardInterrupt\n",
      "  File \"/data1/hbahk/envs/main/lib/python3.9/site-packages/eazy/photoz.py\", line 5771, in fit_by_redshift\n",
      "    _res = template_lsq(fnu_i, efnu_i, A, TEFz, zp, False, fitter)\n",
      "  File \"/data1/hbahk/envs/main/lib/python3.9/multiprocessing/process.py\", line 108, in run\n",
      "    self._target(*self._args, **self._kwargs)\n",
      "  File \"/data1/hbahk/envs/main/lib/python3.9/multiprocessing/pool.py\", line 125, in worker\n",
      "    result = (True, func(*args, **kwds))\n",
      "  File \"/data1/hbahk/envs/main/lib/python3.9/site-packages/eazy/photoz.py\", line 6115, in template_lsq\n",
      "    fmodel = np.dot(coeffs_i, A)\n",
      "  File \"/data1/hbahk/envs/main/lib/python3.9/multiprocessing/pool.py\", line 125, in worker\n",
      "    result = (True, func(*args, **kwds))\n",
      "  File \"/data1/hbahk/envs/main/lib/python3.9/site-packages/eazy/photoz.py\", line 6115, in template_lsq\n",
      "    fmodel = np.dot(coeffs_i, A)\n",
      "  File \"/data1/hbahk/envs/main/lib/python3.9/site-packages/eazy/photoz.py\", line 5771, in fit_by_redshift\n",
      "    _res = template_lsq(fnu_i, efnu_i, A, TEFz, zp, False, fitter)\n",
      "KeyboardInterrupt\n",
      "  File \"/data1/hbahk/envs/main/lib/python3.9/site-packages/eazy/photoz.py\", line 5771, in fit_by_redshift\n",
      "    _res = template_lsq(fnu_i, efnu_i, A, TEFz, zp, False, fitter)\n",
      "KeyboardInterrupt\n",
      "  File \"/data1/hbahk/envs/main/lib/python3.9/site-packages/eazy/photoz.py\", line 6115, in template_lsq\n",
      "    fmodel = np.dot(coeffs_i, A)\n",
      "  File \"/data1/hbahk/envs/main/lib/python3.9/site-packages/eazy/photoz.py\", line 6115, in template_lsq\n",
      "    fmodel = np.dot(coeffs_i, A)\n",
      "KeyboardInterrupt\n"
     ]
    }
   ],
   "source": [
    "ez.fit_catalog(ez.idx, n_proc=8)\n",
    "\n",
    "ez.show_fit(id=0, savefig='fit.png')"
   ]
  },
  {
   "cell_type": "code",
   "execution_count": 7,
   "metadata": {},
   "outputs": [
    {
     "name": "stdout",
     "output_type": "stream",
     "text": [
      "Read default param file: /data1/hbahk/envs/main/lib/python3.9/site-packages/eazy/data/zphot.param.default\n",
      "Read CATALOG_FILE: data/spherex_synphot.dat\n",
      "   >>> NOBJ = 166041\n",
      "F419 E419 (419): SPHEREx_Band1_1\n",
      "F420 E420 (420): SPHEREx_Band1_2\n",
      "F421 E421 (421): SPHEREx_Band1_3\n",
      "F422 E422 (422): SPHEREx_Band1_4\n",
      "F423 E423 (423): SPHEREx_Band1_5\n",
      "F424 E424 (424): SPHEREx_Band1_6\n",
      "F425 E425 (425): SPHEREx_Band1_7\n",
      "F426 E426 (426): SPHEREx_Band1_8\n",
      "F427 E427 (427): SPHEREx_Band1_9\n",
      "F428 E428 (428): SPHEREx_Band1_10\n",
      "F429 E429 (429): SPHEREx_Band1_11\n",
      "F430 E430 (430): SPHEREx_Band1_12\n",
      "F431 E431 (431): SPHEREx_Band1_13\n",
      "F432 E432 (432): SPHEREx_Band1_14\n",
      "F433 E433 (433): SPHEREx_Band1_15\n",
      "F434 E434 (434): SPHEREx_Band1_16\n",
      "F435 E435 (435): SPHEREx_Band1_17\n",
      "F436 E436 (436): SPHEREx_Band2_1\n",
      "F437 E437 (437): SPHEREx_Band2_2\n",
      "F438 E438 (438): SPHEREx_Band2_3\n",
      "F439 E439 (439): SPHEREx_Band2_4\n",
      "F440 E440 (440): SPHEREx_Band2_5\n",
      "F441 E441 (441): SPHEREx_Band2_6\n",
      "F442 E442 (442): SPHEREx_Band2_7\n",
      "F443 E443 (443): SPHEREx_Band2_8\n",
      "F444 E444 (444): SPHEREx_Band2_9\n",
      "F445 E445 (445): SPHEREx_Band2_10\n",
      "F446 E446 (446): SPHEREx_Band2_11\n",
      "F447 E447 (447): SPHEREx_Band2_12\n",
      "F448 E448 (448): SPHEREx_Band2_13\n",
      "F449 E449 (449): SPHEREx_Band2_14\n",
      "F450 E450 (450): SPHEREx_Band2_15\n",
      "F451 E451 (451): SPHEREx_Band2_16\n",
      "F452 E452 (452): SPHEREx_Band2_17\n",
      "F453 E453 (453): SPHEREx_Band3_1\n",
      "F454 E454 (454): SPHEREx_Band3_2\n",
      "F455 E455 (455): SPHEREx_Band3_3\n",
      "F456 E456 (456): SPHEREx_Band3_4\n",
      "F457 E457 (457): SPHEREx_Band3_5\n",
      "F458 E458 (458): SPHEREx_Band3_6\n",
      "F459 E459 (459): SPHEREx_Band3_7\n",
      "F460 E460 (460): SPHEREx_Band3_8\n",
      "F461 E461 (461): SPHEREx_Band3_9\n",
      "F462 E462 (462): SPHEREx_Band3_10\n",
      "F463 E463 (463): SPHEREx_Band3_11\n",
      "F464 E464 (464): SPHEREx_Band3_12\n",
      "F465 E465 (465): SPHEREx_Band3_13\n",
      "F466 E466 (466): SPHEREx_Band3_14\n",
      "F467 E467 (467): SPHEREx_Band3_15\n",
      "F468 E468 (468): SPHEREx_Band3_16\n",
      "F469 E469 (469): SPHEREx_Band3_17\n",
      "F470 E470 (470): SPHEREx_Band4_1\n",
      "F471 E471 (471): SPHEREx_Band4_2\n",
      "F472 E472 (472): SPHEREx_Band4_3\n",
      "F473 E473 (473): SPHEREx_Band4_4\n",
      "F474 E474 (474): SPHEREx_Band4_5\n",
      "F475 E475 (475): SPHEREx_Band4_6\n",
      "F476 E476 (476): SPHEREx_Band4_7\n",
      "F477 E477 (477): SPHEREx_Band4_8\n",
      "F478 E478 (478): SPHEREx_Band4_9\n",
      "F479 E479 (479): SPHEREx_Band4_10\n",
      "F480 E480 (480): SPHEREx_Band4_11\n",
      "F481 E481 (481): SPHEREx_Band4_12\n",
      "F482 E482 (482): SPHEREx_Band4_13\n",
      "F483 E483 (483): SPHEREx_Band4_14\n",
      "F484 E484 (484): SPHEREx_Band4_15\n",
      "F485 E485 (485): SPHEREx_Band4_16\n",
      "F486 E486 (486): SPHEREx_Band4_17\n",
      "F487 E487 (487): SPHEREx_Band5_1\n",
      "F488 E488 (488): SPHEREx_Band5_2\n",
      "F489 E489 (489): SPHEREx_Band5_3\n",
      "F490 E490 (490): SPHEREx_Band5_4\n",
      "F491 E491 (491): SPHEREx_Band5_5\n",
      "F492 E492 (492): SPHEREx_Band5_6\n",
      "F493 E493 (493): SPHEREx_Band5_7\n",
      "F494 E494 (494): SPHEREx_Band5_8\n",
      "F495 E495 (495): SPHEREx_Band5_9\n",
      "F496 E496 (496): SPHEREx_Band5_10\n",
      "F497 E497 (497): SPHEREx_Band5_11\n",
      "F498 E498 (498): SPHEREx_Band5_12\n",
      "F499 E499 (499): SPHEREx_Band5_13\n",
      "F500 E500 (500): SPHEREx_Band5_14\n",
      "F501 E501 (501): SPHEREx_Band5_15\n",
      "F502 E502 (502): SPHEREx_Band5_16\n",
      "F503 E503 (503): SPHEREx_Band5_17\n",
      "F504 E504 (504): SPHEREx_Band6_1\n",
      "F505 E505 (505): SPHEREx_Band6_2\n",
      "F506 E506 (506): SPHEREx_Band6_3\n",
      "F507 E507 (507): SPHEREx_Band6_4\n",
      "F508 E508 (508): SPHEREx_Band6_5\n",
      "F509 E509 (509): SPHEREx_Band6_6\n",
      "F510 E510 (510): SPHEREx_Band6_7\n",
      "F511 E511 (511): SPHEREx_Band6_8\n",
      "F512 E512 (512): SPHEREx_Band6_9\n",
      "F513 E513 (513): SPHEREx_Band6_10\n",
      "F514 E514 (514): SPHEREx_Band6_11\n",
      "F515 E515 (515): SPHEREx_Band6_12\n",
      "F516 E516 (516): SPHEREx_Band6_13\n",
      "F517 E517 (517): SPHEREx_Band6_14\n",
      "F518 E518 (518): SPHEREx_Band6_15\n",
      "F519 E519 (519): SPHEREx_Band6_16\n",
      "F520 E520 (520): SPHEREx_Band6_17\n",
      "F419 E419 (419): SPHEREx_Band1_1\n",
      "F420 E420 (420): SPHEREx_Band1_2\n",
      "F421 E421 (421): SPHEREx_Band1_3\n",
      "F422 E422 (422): SPHEREx_Band1_4\n",
      "F423 E423 (423): SPHEREx_Band1_5\n",
      "F424 E424 (424): SPHEREx_Band1_6\n",
      "F425 E425 (425): SPHEREx_Band1_7\n",
      "F426 E426 (426): SPHEREx_Band1_8\n",
      "F427 E427 (427): SPHEREx_Band1_9\n",
      "F428 E428 (428): SPHEREx_Band1_10\n",
      "F429 E429 (429): SPHEREx_Band1_11\n",
      "F430 E430 (430): SPHEREx_Band1_12\n",
      "F431 E431 (431): SPHEREx_Band1_13\n",
      "F432 E432 (432): SPHEREx_Band1_14\n",
      "F433 E433 (433): SPHEREx_Band1_15\n",
      "F434 E434 (434): SPHEREx_Band1_16\n",
      "F435 E435 (435): SPHEREx_Band1_17\n",
      "F436 E436 (436): SPHEREx_Band2_1\n",
      "F437 E437 (437): SPHEREx_Band2_2\n",
      "F438 E438 (438): SPHEREx_Band2_3\n",
      "F439 E439 (439): SPHEREx_Band2_4\n",
      "F440 E440 (440): SPHEREx_Band2_5\n",
      "F441 E441 (441): SPHEREx_Band2_6\n",
      "F442 E442 (442): SPHEREx_Band2_7\n",
      "F443 E443 (443): SPHEREx_Band2_8\n",
      "F444 E444 (444): SPHEREx_Band2_9\n",
      "F445 E445 (445): SPHEREx_Band2_10\n",
      "F446 E446 (446): SPHEREx_Band2_11\n",
      "F447 E447 (447): SPHEREx_Band2_12\n",
      "F448 E448 (448): SPHEREx_Band2_13\n",
      "F449 E449 (449): SPHEREx_Band2_14\n",
      "F450 E450 (450): SPHEREx_Band2_15\n",
      "F451 E451 (451): SPHEREx_Band2_16\n",
      "F452 E452 (452): SPHEREx_Band2_17\n",
      "F453 E453 (453): SPHEREx_Band3_1\n",
      "F454 E454 (454): SPHEREx_Band3_2\n",
      "F455 E455 (455): SPHEREx_Band3_3\n",
      "F456 E456 (456): SPHEREx_Band3_4\n",
      "F457 E457 (457): SPHEREx_Band3_5\n",
      "F458 E458 (458): SPHEREx_Band3_6\n",
      "F459 E459 (459): SPHEREx_Band3_7\n",
      "F460 E460 (460): SPHEREx_Band3_8\n",
      "F461 E461 (461): SPHEREx_Band3_9\n",
      "F462 E462 (462): SPHEREx_Band3_10\n",
      "F463 E463 (463): SPHEREx_Band3_11\n",
      "F464 E464 (464): SPHEREx_Band3_12\n",
      "F465 E465 (465): SPHEREx_Band3_13\n",
      "F466 E466 (466): SPHEREx_Band3_14\n",
      "F467 E467 (467): SPHEREx_Band3_15\n",
      "F468 E468 (468): SPHEREx_Band3_16\n",
      "F469 E469 (469): SPHEREx_Band3_17\n",
      "F470 E470 (470): SPHEREx_Band4_1\n",
      "F471 E471 (471): SPHEREx_Band4_2\n",
      "F472 E472 (472): SPHEREx_Band4_3\n",
      "F473 E473 (473): SPHEREx_Band4_4\n",
      "F474 E474 (474): SPHEREx_Band4_5\n",
      "F475 E475 (475): SPHEREx_Band4_6\n",
      "F476 E476 (476): SPHEREx_Band4_7\n",
      "F477 E477 (477): SPHEREx_Band4_8\n",
      "F478 E478 (478): SPHEREx_Band4_9\n",
      "F479 E479 (479): SPHEREx_Band4_10\n",
      "F480 E480 (480): SPHEREx_Band4_11\n",
      "F481 E481 (481): SPHEREx_Band4_12\n",
      "F482 E482 (482): SPHEREx_Band4_13\n",
      "F483 E483 (483): SPHEREx_Band4_14\n",
      "F484 E484 (484): SPHEREx_Band4_15\n",
      "F485 E485 (485): SPHEREx_Band4_16\n",
      "F486 E486 (486): SPHEREx_Band4_17\n",
      "F487 E487 (487): SPHEREx_Band5_1\n",
      "F488 E488 (488): SPHEREx_Band5_2\n",
      "F489 E489 (489): SPHEREx_Band5_3\n",
      "F490 E490 (490): SPHEREx_Band5_4\n",
      "F491 E491 (491): SPHEREx_Band5_5\n",
      "F492 E492 (492): SPHEREx_Band5_6\n",
      "F493 E493 (493): SPHEREx_Band5_7\n",
      "F494 E494 (494): SPHEREx_Band5_8\n",
      "F495 E495 (495): SPHEREx_Band5_9\n",
      "F496 E496 (496): SPHEREx_Band5_10\n",
      "F497 E497 (497): SPHEREx_Band5_11\n",
      "F498 E498 (498): SPHEREx_Band5_12\n",
      "F499 E499 (499): SPHEREx_Band5_13\n",
      "F500 E500 (500): SPHEREx_Band5_14\n",
      "F501 E501 (501): SPHEREx_Band5_15\n",
      "F502 E502 (502): SPHEREx_Band5_16\n",
      "F503 E503 (503): SPHEREx_Band5_17\n",
      "F504 E504 (504): SPHEREx_Band6_1\n",
      "F505 E505 (505): SPHEREx_Band6_2\n",
      "F506 E506 (506): SPHEREx_Band6_3\n",
      "F507 E507 (507): SPHEREx_Band6_4\n",
      "F508 E508 (508): SPHEREx_Band6_5\n",
      "F509 E509 (509): SPHEREx_Band6_6\n",
      "F510 E510 (510): SPHEREx_Band6_7\n",
      "F511 E511 (511): SPHEREx_Band6_8\n",
      "F512 E512 (512): SPHEREx_Band6_9\n",
      "F513 E513 (513): SPHEREx_Band6_10\n",
      "F514 E514 (514): SPHEREx_Band6_11\n",
      "F515 E515 (515): SPHEREx_Band6_12\n",
      "F516 E516 (516): SPHEREx_Band6_13\n",
      "F517 E517 (517): SPHEREx_Band6_14\n",
      "F518 E518 (518): SPHEREx_Band6_15\n",
      "F519 E519 (519): SPHEREx_Band6_16\n",
      "F520 E520 (520): SPHEREx_Band6_17\n"
     ]
    },
    {
     "name": "stderr",
     "output_type": "stream",
     "text": [
      "WARNING: No z_spec column found in catalog.  Some functionality might not be available. [eazy.photoz]\n",
      "WARNING: No ra column found in catalog.  Some functionality might not be available. [eazy.photoz]\n",
      "WARNING: No dec column found in catalog.  Some functionality might not be available. [eazy.photoz]\n"
     ]
    },
    {
     "name": "stdout",
     "output_type": "stream",
     "text": [
      "Set sys_err = 0.01 (positive=True)\n"
     ]
    },
    {
     "name": "stderr",
     "output_type": "stream",
     "text": [
      "WARNING: PRIOR_FILTER (163) not found in the catalog! [eazy.photoz]\n"
     ]
    },
    {
     "name": "stdout",
     "output_type": "stream",
     "text": [
      "Read PRIOR_FILE:  ../prior_K_TAO.dat\n"
     ]
    },
    {
     "name": "stderr",
     "output_type": "stream",
     "text": [
      "649it [03:44,  2.88it/s]\n",
      "100%|██████████| 649/649 [00:03<00:00, 183.89it/s] \n"
     ]
    },
    {
     "name": "stdout",
     "output_type": "stream",
     "text": [
      "Compute best fits\n",
      "fit_best: 0.0 s (n_proc=1,  NOBJ=10)\n",
      "Fit 8.4 s (n_proc=8, NOBJ=10)\n"
     ]
    }
   ],
   "source": [
    "with open('tempfilt.pickle', 'rb') as rfile:\n",
    "    tempfilt = pickle.load(rfile)\n",
    "ez = eazy.photoz.PhotoZ(param_file=None, translate_file=translate_filename,\n",
    "                        zeropoint_file=None, params=params, tempfilt=tempfilt, )"
   ]
  },
  {
   "cell_type": "code",
   "execution_count": 12,
   "metadata": {},
   "outputs": [
    {
     "name": "stderr",
     "output_type": "stream",
     "text": [
      "100%|██████████| 649/649 [1:13:30<00:00,  6.80s/it]\n"
     ]
    },
    {
     "name": "stdout",
     "output_type": "stream",
     "text": [
      "Compute best fits\n",
      "fit_best: 44.1 s (n_proc=2,  NOBJ=29833)\n",
      "Fit 4461.2 s (n_proc=16, NOBJ=10000)\n"
     ]
    }
   ],
   "source": [
    "ez.fit_catalog(ez.idx[20000:30000], n_proc=16)"
   ]
  },
  {
   "cell_type": "code",
   "execution_count": 13,
   "metadata": {},
   "outputs": [
    {
     "name": "stdout",
     "output_type": "stream",
     "text": [
      "Get best fit coeffs & best redshifts\n"
     ]
    },
    {
     "name": "stderr",
     "output_type": "stream",
     "text": [
      "/data1/hbahk/envs/main/lib/python3.9/site-packages/eazy/photoz.py:6144: RuntimeWarning: covariance is not symmetric positive-semidefinite.\n",
      "  draws = np.random.multivariate_normal((coeffs_i*An)[ok_temp],\n",
      "/data1/hbahk/envs/main/lib/python3.9/site-packages/eazy/photoz.py:6144: RuntimeWarning: covariance is not symmetric positive-semidefinite.\n",
      "  draws = np.random.multivariate_normal((coeffs_i*An)[ok_temp],\n"
     ]
    },
    {
     "name": "stdout",
     "output_type": "stream",
     "text": [
      "fit_best: 89.8 s (n_proc=2,  NOBJ=29833)\n",
      "Get parameters (UBVJ=[153, 154, 155, 161], simple=False)\n"
     ]
    },
    {
     "name": "stderr",
     "output_type": "stream",
     "text": [
      "  0%|          | 0/29833 [00:00<?, ?it/s]/data1/hbahk/envs/main/lib/python3.9/site-packages/eazy/photoz.py:6144: RuntimeWarning: covariance is not symmetric positive-semidefinite.\n",
      "  draws = np.random.multivariate_normal((coeffs_i*An)[ok_temp],\n",
      "100%|██████████| 29833/29833 [22:43<00:00, 21.88it/s]\n"
     ]
    },
    {
     "name": "stdout",
     "output_type": "stream",
     "text": [
      "\n",
      " Couldn't find template parameters file BROWN_COSMOS.template.fits for population synthesis \n",
      " calculations.\n",
      "            \n"
     ]
    },
    {
     "name": "stderr",
     "output_type": "stream",
     "text": [
      "/data1/hbahk/envs/main/lib/python3.9/site-packages/eazy/photoz.py:4111: RuntimeWarning: invalid value encountered in divide\n",
      "  coeffs_norm = (coeffs_norm.T/coeffs_norm.sum(axis=1)).T\n",
      "/data1/hbahk/envs/main/lib/python3.9/site-packages/astropy/units/quantity.py:666: RuntimeWarning: invalid value encountered in divide\n",
      "  result = super().__array_ufunc__(function, method, *arrays, **kwargs)\n",
      "/data1/hbahk/envs/main/lib/python3.9/site-packages/eazy/photoz.py:4146: RuntimeWarning: invalid value encountered in divide\n",
      "  draws_norm = (draws_norm.T/draws_norm.sum(axis=2).T).T\n",
      "100%|██████████| 29833/29833 [1:07:45<00:00,  7.34it/s]\n"
     ]
    },
    {
     "name": "stdout",
     "output_type": "stream",
     "text": [
      "Abs Mag filters [271, 272, 274]\n",
      "Rest-frame filters:\n",
      "~~~~~~~~~~~~~~~~~~~ \n",
      "   0 RestUV/Tophat_1700_200.dat lambda_c= 1.6989e+03 AB-Vega=1.916 w95=190.7\n",
      "   1 RestUV/Tophat_2200_200.dat lambda_c= 2.1993e+03 AB-Vega=1.691 w95=191.1\n",
      "   2 RestUV/Tophat_2800_200.dat lambda_c= 2.7996e+03 AB-Vega=1.465 w95=191.2\n"
     ]
    },
    {
     "name": "stderr",
     "output_type": "stream",
     "text": [
      "100%|██████████| 3/3 [12:11<00:00, 243.91s/it]\n"
     ]
    },
    {
     "name": "stdout",
     "output_type": "stream",
     "text": [
      " ... rest-frame flux: 732.8 s (n_proc=3,  NOBJ=29930)\n"
     ]
    },
    {
     "name": "stderr",
     "output_type": "stream",
     "text": [
      "/data1/hbahk/envs/main/lib/python3.9/site-packages/astropy/cosmology/flrw/base.py:1343: RuntimeWarning: divide by zero encountered in log10\n",
      "  val = 5.0 * np.log10(abs(self.luminosity_distance(z).value)) + 25.0\n",
      "/data1/hbahk/envs/main/lib/python3.9/site-packages/eazy/photoz.py:3960: RuntimeWarning: divide by zero encountered in log10\n",
      "  obsm = self.param.params['PRIOR_ABZP'] - 2.5*np.log10(rf[:,i,:])\n",
      "/data1/hbahk/envs/main/lib/python3.9/site-packages/eazy/photoz.py:3960: RuntimeWarning: invalid value encountered in log10\n",
      "  obsm = self.param.params['PRIOR_ABZP'] - 2.5*np.log10(rf[:,i,:])\n",
      "WARNING: VerifyWarning: Keyword name 'TEMP_ERR_FILE' is greater than 8 characters or contains characters not allowed by the FITS standard; a HIERARCH card will be created. [astropy.io.fits.card]\n",
      "WARNING: VerifyWarning: Keyword name 'TEMP_ERR_A2' is greater than 8 characters or contains characters not allowed by the FITS standard; a HIERARCH card will be created. [astropy.io.fits.card]\n",
      "WARNING: VerifyWarning: Keyword name 'PRIOR_FILTER' is greater than 8 characters or contains characters not allowed by the FITS standard; a HIERARCH card will be created. [astropy.io.fits.card]\n",
      "WARNING: VerifyWarning: Keyword name 'PRIOR_ABZP' is greater than 8 characters or contains characters not allowed by the FITS standard; a HIERARCH card will be created. [astropy.io.fits.card]\n",
      "WARNING: VerifyWarning: Keyword name 'IGM_SCALE_TAU' is greater than 8 characters or contains characters not allowed by the FITS standard; a HIERARCH card will be created. [astropy.io.fits.card]\n",
      "WARNING: VerifyWarning: Keyword name 'APPLY_IGM' is greater than 8 characters or contains characters not allowed by the FITS standard; a HIERARCH card will be created. [astropy.io.fits.card]\n",
      "WARNING: VerifyWarning: Keyword name 'TEMPLATES_FILE' is greater than 8 characters or contains characters not allowed by the FITS standard; a HIERARCH card will be created. [astropy.io.fits.card]\n",
      "WARNING: VerifyWarning: Keyword name 'ZBEST_USER' is greater than 8 characters or contains characters not allowed by the FITS standard; a HIERARCH card will be created. [astropy.io.fits.card]\n",
      "WARNING: VerifyWarning: Keyword name 'ZBEST_AT_ZSPEC' is greater than 8 characters or contains characters not allowed by the FITS standard; a HIERARCH card will be created. [astropy.io.fits.card]\n",
      "WARNING: VerifyWarning: Keyword name 'ZML_WITH_PRIOR' is greater than 8 characters or contains characters not allowed by the FITS standard; a HIERARCH card will be created. [astropy.io.fits.card]\n",
      "WARNING: VerifyWarning: Keyword name 'ZML_WITH_BETA_PRIOR' is greater than 8 characters or contains characters not allowed by the FITS standard; a HIERARCH card will be created. [astropy.io.fits.card]\n"
     ]
    }
   ],
   "source": [
    "zout, hdu = ez.standard_output(prior=True, beta_prior=False)\n",
    "zout.write('output.fits', overwrite=True)"
   ]
  },
  {
   "cell_type": "code",
   "execution_count": null,
   "metadata": {},
   "outputs": [],
   "source": [
    "with open('tempfilt.pickle', 'rb') as rfile:\n",
    "    tempfilt = pickle.load(rfile)\n",
    "\n",
    "for i in range(17):\n",
    "    start_id = i * 10000\n",
    "    end_id = (i+1) * 10000\n",
    "\n",
    "    ez = eazy.photoz.PhotoZ(param_file=None, translate_file=translate_filename,\n",
    "                            zeropoint_file=None, params=params, tempfilt=tempfilt, )\n",
    "    \n",
    "    if end_id > len(ez.idx):\n",
    "        end_id = len(ez.idx)\n",
    "        \n",
    "    ez.fit_catalog(ez.idx[start_id:end_id], n_proc=16)\n",
    "    zout, hdu = ez.standard_output(prior=True, beta_prior=False)\n",
    "    zout[start_id:end_id].write(dir_output/f'output{i:02d}.fits', overwrite=True)\n",
    "    phdu = fits.PrimaryHDU(data=ez.lnp[start_id:end_id])\n",
    "    gridhdu = fits.ImageHDU(data=ez.zgrid)\n",
    "    hdul = fits.HDUList([phdu, gridhdu])\n",
    "    hdul.writeto(dir_output/f'lnp{i:02d}.fits', overwrite=True)\n",
    "    del ez, zout, hdu, phdu, gridhdu, hdul\n",
    "    gc.collect()"
   ]
  },
  {
   "cell_type": "code",
   "execution_count": 32,
   "metadata": {},
   "outputs": [
    {
     "name": "stdout",
     "output_type": "stream",
     "text": [
      "Filename: lnp5000.fits\n",
      "No.    Name      Ver    Type      Cards   Dimensions   Format\n",
      "  0  PRIMARY       1 PrimaryHDU       6   (649, 166041)   float32   \n",
      "  1                1 ImageHDU         6   (649,)   float32   \n"
     ]
    }
   ],
   "source": [
    "from astropy.io import fits\n",
    "hdul = fits.open('lnp5000.fits')\n",
    "hdul.info()"
   ]
  }
 ],
 "metadata": {
  "kernelspec": {
   "display_name": "Python 3 (ipykernel)",
   "language": "python",
   "name": "python3"
  }
 },
 "nbformat": 4,
 "nbformat_minor": 2
}
