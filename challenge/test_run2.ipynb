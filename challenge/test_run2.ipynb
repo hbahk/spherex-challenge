{
 "cells": [
  {
   "cell_type": "code",
   "execution_count": null,
   "metadata": {},
   "outputs": [],
   "source": [
    "# retina\n",
    "%config InlineBackend.figure_format = 'retina'"
   ]
  },
  {
   "cell_type": "code",
   "execution_count": null,
   "metadata": {},
   "outputs": [],
   "source": [
    "import os\n",
    "from pathlib import Path\n",
    "import pickle\n",
    "import numpy as np\n",
    "from matplotlib import pyplot as plt\n",
    "from astropy.io import fits\n",
    "from astropy.table import Table\n",
    "import eazy\n",
    "\n",
    "from matplotlib import rcParams\n",
    "plt.rcParams[\"font.size\"] = 15\n",
    "plt.rcParams[\"axes.labelsize\"] = 20\n",
    "\n",
    "WD = Path('/data1/hbahk/spherex-photoz/spherex-challenge/challenge')\n",
    "os.chdir(WD)\n",
    "\n",
    "from utils import plot_comp_hexbin"
   ]
  },
  {
   "cell_type": "code",
   "execution_count": null,
   "metadata": {},
   "outputs": [],
   "source": [
    "imag = 19\n",
    "params = {}\n",
    "params['FILTERS_RES']       = \"FILTERS+spherex_reduced.res\"\n",
    "params['TEMPLATES_FILE']    = \"BROWN_COSMOS.template\"\n",
    "params['WAVELENGTH_FILE ']  = \"../lambda.def\" # TODO: check this\n",
    "params['TEMP_ERR_FILE']     = \"../template_error_cosmos2020.txt\" # TODO: check this\n",
    "\n",
    "params['TEMPLATE_COMBOS']   = 1\n",
    "params['TEMP_ERR_A2']       = 0.0\n",
    "params['SYS_ERR']           = 0.01\n",
    "\n",
    "params['MW_EBV']            = 0.012\n",
    "params['CAT_HAS_EXTCORR']   = True\n",
    "\n",
    "params['CATALOG_FILE']      = f\"data/synphot_i{imag:02d}.dat\" \n",
    "\n",
    "dir_output = WD/f\"output_i{imag:02d}\"\n",
    "dir_outfig = dir_output/f\"outfig_i{imag:02d}\"\n",
    "if not dir_output.exists():\n",
    "    dir_output.mkdir()\n",
    "if not dir_outfig.exists():\n",
    "    dir_outfig.mkdir()\n",
    "\n",
    "params['OUTPUT_DIRECTORY']  = dir_output.as_posix()\n",
    "params['MAIN_OUTPUT_FILE']  = f\"output_i{imag:02d}\"\n",
    "\n",
    "params['APPLY_PRIOR']       = False\n",
    "params['PRIOR_FILE']        = \"../prior_K_TAO.dat\"\n",
    "params['PRIOR_FILTER']      = 163  # 2MASS Ks band\n",
    "params['PRIOR_ABZP']        = 23.9\n",
    "params['PRIOR_FLOOR']       = 0.01\n",
    "\n",
    "params['FIX_ZSPEC']         = False\n",
    "params['Z_MIN']             = 0.0\n",
    "params['Z_MAX']             = 6.0\n",
    "params['Z_STEP']            = 0.003\n",
    "params['Z_STEP_TYPE']       = 1\n",
    "\n",
    "translate_filename = 'spherex.translate'"
   ]
  }
 ],
 "metadata": {
  "language_info": {
   "name": "python"
  }
 },
 "nbformat": 4,
 "nbformat_minor": 2
}
