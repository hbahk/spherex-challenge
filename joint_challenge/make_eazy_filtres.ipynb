{
 "cells": [
  {
   "cell_type": "code",
   "execution_count": 3,
   "metadata": {},
   "outputs": [
    {
     "data": {
      "text/plain": [
       "[PosixPath('/data1/hbahk/spherex-photoz/spherex-challenge/7ds_challenge/7DT_filters_v2/4000_fitted.csv'),\n",
       " PosixPath('/data1/hbahk/spherex-photoz/spherex-challenge/7ds_challenge/7DT_filters_v2/4250_fitted.csv'),\n",
       " PosixPath('/data1/hbahk/spherex-photoz/spherex-challenge/7ds_challenge/7DT_filters_v2/4500_fitted.csv'),\n",
       " PosixPath('/data1/hbahk/spherex-photoz/spherex-challenge/7ds_challenge/7DT_filters_v2/4750_fitted.csv'),\n",
       " PosixPath('/data1/hbahk/spherex-photoz/spherex-challenge/7ds_challenge/7DT_filters_v2/5000_fitted.csv'),\n",
       " PosixPath('/data1/hbahk/spherex-photoz/spherex-challenge/7ds_challenge/7DT_filters_v2/5250_fitted.csv'),\n",
       " PosixPath('/data1/hbahk/spherex-photoz/spherex-challenge/7ds_challenge/7DT_filters_v2/5500_fitted.csv'),\n",
       " PosixPath('/data1/hbahk/spherex-photoz/spherex-challenge/7ds_challenge/7DT_filters_v2/5750_fitted.csv'),\n",
       " PosixPath('/data1/hbahk/spherex-photoz/spherex-challenge/7ds_challenge/7DT_filters_v2/6000_fitted.csv'),\n",
       " PosixPath('/data1/hbahk/spherex-photoz/spherex-challenge/7ds_challenge/7DT_filters_v2/6250_fitted.csv'),\n",
       " PosixPath('/data1/hbahk/spherex-photoz/spherex-challenge/7ds_challenge/7DT_filters_v2/6500_fitted.csv'),\n",
       " PosixPath('/data1/hbahk/spherex-photoz/spherex-challenge/7ds_challenge/7DT_filters_v2/6750_fitted.csv'),\n",
       " PosixPath('/data1/hbahk/spherex-photoz/spherex-challenge/7ds_challenge/7DT_filters_v2/7000_fitted.csv'),\n",
       " PosixPath('/data1/hbahk/spherex-photoz/spherex-challenge/7ds_challenge/7DT_filters_v2/7250_fitted.csv'),\n",
       " PosixPath('/data1/hbahk/spherex-photoz/spherex-challenge/7ds_challenge/7DT_filters_v2/7500_fitted.csv'),\n",
       " PosixPath('/data1/hbahk/spherex-photoz/spherex-challenge/7ds_challenge/7DT_filters_v2/7750_fitted.csv'),\n",
       " PosixPath('/data1/hbahk/spherex-photoz/spherex-challenge/7ds_challenge/7DT_filters_v2/8000_fitted.csv'),\n",
       " PosixPath('/data1/hbahk/spherex-photoz/spherex-challenge/7ds_challenge/7DT_filters_v2/8250_fitted.csv'),\n",
       " PosixPath('/data1/hbahk/spherex-photoz/spherex-challenge/7ds_challenge/7DT_filters_v2/8500_fitted.csv'),\n",
       " PosixPath('/data1/hbahk/spherex-photoz/spherex-challenge/7ds_challenge/7DT_filters_v2/8750_fitted.csv')]"
      ]
     },
     "execution_count": 3,
     "metadata": {},
     "output_type": "execute_result"
    }
   ],
   "source": [
    "from astropy.table import Table\n",
    "from pathlib import Path\n",
    "from eazy import filters\n",
    "from eazy.utils import path_to_eazy_data\n",
    "import numpy as np\n",
    "\n",
    "\n",
    "WD = Path.cwd()\n",
    "FILTERDIR = WD / \"7DT_filters_v2\"\n",
    "filtpaths = list(FILTERDIR.glob(\"*.csv\"))\n",
    "filtpaths.sort()\n",
    "filtpaths"
   ]
  },
  {
   "cell_type": "code",
   "execution_count": 4,
   "metadata": {},
   "outputs": [
    {
     "name": "stdout",
     "output_type": "stream",
     "text": [
      "Wrote </data1/hbahk/spherex-photoz/spherex-challenge/7ds_challenge/FILTER.RES+7DT.res[.info]>\n"
     ]
    }
   ],
   "source": [
    "path_default_filter = Path(path_to_eazy_data()) / \"FILTER.RES.latest\"\n",
    "\n",
    "path_output_filter = WD / \"FILTER.RES+7DT.res\"\n",
    "\n",
    "latest_filters = filters.FilterFile(path_default_filter)\n",
    "tempfile = Path(\"tempfile\")\n",
    "with open(tempfile, \"w\") as f:\n",
    "    for filtpath in filtpaths:\n",
    "        filt = Table.read(\n",
    "            filtpath, format=\"ascii.csv\", names=[\"id\", \"wave\", \"throughput\"]\n",
    "        )\n",
    "        res = filters.FilterDefinition(\n",
    "            wave=filt[\"wave\"] * 10, # Convert to Angstrom from nm\n",
    "            throughput=filt[\"throughput\"],\n",
    "            name=f\"7DT_{filtpath.stem}\",\n",
    "        )\n",
    "        f.write(res.for_filter_file() + \"\\n\")\n",
    "\n",
    "temp_filters = filters.FilterFile(\"tempfile\")\n",
    "tempfile.unlink()\n",
    "\n",
    "for filt in temp_filters.filters:\n",
    "    latest_filters.filters.append(filt)\n",
    "\n",
    "latest_filters.write(path_output_filter.as_posix())"
   ]
  },
  {
   "cell_type": "markdown",
   "metadata": {},
   "source": [
    "Reduce filter with RDP algorithm."
   ]
  },
  {
   "cell_type": "code",
   "execution_count": 5,
   "metadata": {},
   "outputs": [],
   "source": [
    "def reduce_filter(filt, epsilon_rdp=1e-5):\n",
    "    \"\"\"\n",
    "    Reduce the number of points in the filter curve using the Ramer-Douglas-Peucker\n",
    "    (RDP) algorithm. The filter curve is first smoothed using a median filter, then the\n",
    "    pivot wavelength is calculated. The curve is then clipped around the pivot\n",
    "    wavelength and the RDP algorithm is applied to the clipped curve.\n",
    "\n",
    "    Parameters:\n",
    "    filt (FilterDefinition): The filter curve to be reduced.\n",
    "    epsilon_rdp (float, optional): The epsilon value for the RDP algorithm.\n",
    "        Default is 1e-5.\n",
    "\n",
    "    Returns:\n",
    "    wave_rdp (array-like): The reduced wavelength array.\n",
    "    thru_rdp (array-like): The reduced throughput array.\n",
    "    \"\"\"\n",
    "    from scipy import signal\n",
    "    from rdp import rdp\n",
    "\n",
    "    thru_med = signal.medfilt(filt.throughput, kernel_size=5)\n",
    "\n",
    "    pivot = np.sqrt(\n",
    "        np.trapz(thru_med * filt.wave, filt.wave)\n",
    "        / np.trapz(thru_med / filt.wave, filt.wave)\n",
    "    )\n",
    "\n",
    "    clip_mask = (filt.wave > pivot - 3 * filt.rectwidth) & (\n",
    "        filt.wave < pivot + 3 * filt.rectwidth\n",
    "    )\n",
    "    wave_clip, thru_med_clip = filt.wave[clip_mask], thru_med[clip_mask]\n",
    "\n",
    "    pivot_clip = np.sqrt(\n",
    "        np.trapz(thru_med_clip * wave_clip, wave_clip)\n",
    "        / np.trapz(thru_med_clip / wave_clip, wave_clip)\n",
    "    )\n",
    "\n",
    "    clip_mask_2nd = (filt.wave > pivot_clip - 1.5 * filt.rectwidth) & (\n",
    "        filt.wave < pivot_clip + 1.5 * filt.rectwidth\n",
    "    )\n",
    "    wave_clip_2nd, thru_med_clip_2nd = filt.wave[clip_mask_2nd], thru_med[clip_mask_2nd]\n",
    "\n",
    "    # Ramer-Douglas-Peucker algorithm.\n",
    "    rdp_reduced = rdp(\n",
    "        np.array([wave_clip_2nd, thru_med_clip_2nd]).T, epsilon=epsilon_rdp\n",
    "    )\n",
    "    wave_rdp, thru_rdp = rdp_reduced.T\n",
    "\n",
    "    return wave_rdp, thru_rdp"
   ]
  },
  {
   "cell_type": "code",
   "execution_count": 6,
   "metadata": {},
   "outputs": [
    {
     "name": "stderr",
     "output_type": "stream",
     "text": [
      "<frozen importlib._bootstrap>:228: RuntimeWarning: scipy._lib.messagestream.MessageStream size changed, may indicate binary incompatibility. Expected 56 from C header, got 64 from PyObject\n"
     ]
    },
    {
     "name": "stdout",
     "output_type": "stream",
     "text": [
      "Wrote </data1/hbahk/spherex-photoz/spherex-challenge/7ds_challenge/FILTER.RES+7DTreduced.res[.info]>\n"
     ]
    }
   ],
   "source": [
    "path_output_filter = WD / \"FILTER.RES+7DTreduced.res\"\n",
    "epsilon_rdp = 1e-5\n",
    "\n",
    "latest_filters = filters.FilterFile(path_default_filter)\n",
    "tempfile = Path(\"tempfile\")\n",
    "with open(tempfile, \"w\") as f:\n",
    "    for filtpath in filtpaths:\n",
    "        filt = Table.read(\n",
    "            filtpath, format=\"ascii.csv\", names=[\"id\", \"wave\", \"throughput\"]\n",
    "        )\n",
    "        res = filters.FilterDefinition(\n",
    "            wave=filt[\"wave\"] * 10, # Convert to Angstrom from nm\n",
    "            throughput=filt[\"throughput\"],\n",
    "            name=f\"7DT_{filtpath.stem}\",\n",
    "        )\n",
    "        \n",
    "        wred, tred = reduce_filter(res, epsilon_rdp)\n",
    "                \n",
    "        res = filters.FilterDefinition(wave=wred, throughput=tred, name=f\"7DT_{filtpath.stem}\")\n",
    "        f.write(res.for_filter_file() + \"\\n\")\n",
    "\n",
    "temp_filters = filters.FilterFile(\"tempfile\")\n",
    "tempfile.unlink()\n",
    "\n",
    "for filt in temp_filters.filters:\n",
    "    latest_filters.filters.append(filt)\n",
    "\n",
    "latest_filters.write(path_output_filter.as_posix())"
   ]
  }
 ],
 "metadata": {
  "kernelspec": {
   "display_name": "Python 3",
   "language": "python",
   "name": "python3"
  },
  "language_info": {
   "codemirror_mode": {
    "name": "ipython",
    "version": 3
   },
   "file_extension": ".py",
   "mimetype": "text/x-python",
   "name": "python",
   "nbconvert_exporter": "python",
   "pygments_lexer": "ipython3",
   "version": "3.9.7"
  }
 },
 "nbformat": 4,
 "nbformat_minor": 2
}
